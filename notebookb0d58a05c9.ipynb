{
 "cells": [
  {
   "cell_type": "code",
   "execution_count": 1,
   "id": "365de526",
   "metadata": {
    "_cell_guid": "b1076dfc-b9ad-4769-8c92-a6c4dae69d19",
    "_uuid": "8f2839f25d086af736a60e9eeb907d3b93b6e0e5",
    "execution": {
     "iopub.execute_input": "2024-10-27T15:47:18.741751Z",
     "iopub.status.busy": "2024-10-27T15:47:18.740478Z",
     "iopub.status.idle": "2024-10-27T15:47:19.725461Z",
     "shell.execute_reply": "2024-10-27T15:47:19.724023Z"
    },
    "papermill": {
     "duration": 1.002615,
     "end_time": "2024-10-27T15:47:19.728339",
     "exception": false,
     "start_time": "2024-10-27T15:47:18.725724",
     "status": "completed"
    },
    "tags": []
   },
   "outputs": [
    {
     "name": "stdout",
     "output_type": "stream",
     "text": [
      "/kaggle/input/playground-series-s4e10/sample_submission.csv\n",
      "/kaggle/input/playground-series-s4e10/train.csv\n",
      "/kaggle/input/playground-series-s4e10/test.csv\n"
     ]
    }
   ],
   "source": [
    "# This Python 3 environment comes with many helpful analytics libraries installed\n",
    "# It is defined by the kaggle/python Docker image: https://github.com/kaggle/docker-python\n",
    "# For example, here's several helpful packages to load\n",
    "\n",
    "import numpy as np # linear algebra\n",
    "import pandas as pd # data processing, CSV file I/O (e.g. pd.read_csv)\n",
    "\n",
    "# Input data files are available in the read-only \"../input/\" directory\n",
    "# For example, running this (by clicking run or pressing Shift+Enter) will list all files under the input directory\n",
    "\n",
    "import os\n",
    "for dirname, _, filenames in os.walk('/kaggle/input'):\n",
    "    for filename in filenames:\n",
    "        print(os.path.join(dirname, filename))\n",
    "\n",
    "# You can write up to 20GB to the current directory (/kaggle/working/) that gets preserved as output when you create a version using \"Save & Run All\" \n",
    "# You can also write temporary files to /kaggle/temp/, but they won't be saved outside of the current session"
   ]
  },
  {
   "cell_type": "code",
   "execution_count": 2,
   "id": "eb395427",
   "metadata": {
    "execution": {
     "iopub.execute_input": "2024-10-27T15:47:19.754486Z",
     "iopub.status.busy": "2024-10-27T15:47:19.753875Z",
     "iopub.status.idle": "2024-10-27T15:47:21.659520Z",
     "shell.execute_reply": "2024-10-27T15:47:21.657942Z"
    },
    "papermill": {
     "duration": 1.921734,
     "end_time": "2024-10-27T15:47:21.662418",
     "exception": false,
     "start_time": "2024-10-27T15:47:19.740684",
     "status": "completed"
    },
    "tags": []
   },
   "outputs": [],
   "source": [
    "import pandas as pd\n",
    "import numpy as np\n",
    "import seaborn as sns\n",
    "import matplotlib.pyplot as plt\n",
    "%matplotlib inline"
   ]
  },
  {
   "cell_type": "code",
   "execution_count": 3,
   "id": "d8d9301f",
   "metadata": {
    "execution": {
     "iopub.execute_input": "2024-10-27T15:47:21.689646Z",
     "iopub.status.busy": "2024-10-27T15:47:21.688990Z",
     "iopub.status.idle": "2024-10-27T15:47:21.972563Z",
     "shell.execute_reply": "2024-10-27T15:47:21.971374Z"
    },
    "papermill": {
     "duration": 0.30109,
     "end_time": "2024-10-27T15:47:21.975875",
     "exception": false,
     "start_time": "2024-10-27T15:47:21.674785",
     "status": "completed"
    },
    "tags": []
   },
   "outputs": [],
   "source": [
    "df = pd.read_csv(\"/kaggle/input/playground-series-s4e10/train.csv\")\n",
    "df2 = pd.read_csv(\"/kaggle/input/playground-series-s4e10/test.csv\")"
   ]
  },
  {
   "cell_type": "code",
   "execution_count": 4,
   "id": "d7bb0b00",
   "metadata": {
    "execution": {
     "iopub.execute_input": "2024-10-27T15:47:22.004038Z",
     "iopub.status.busy": "2024-10-27T15:47:22.003592Z",
     "iopub.status.idle": "2024-10-27T15:47:22.043978Z",
     "shell.execute_reply": "2024-10-27T15:47:22.042531Z"
    },
    "papermill": {
     "duration": 0.058843,
     "end_time": "2024-10-27T15:47:22.049000",
     "exception": false,
     "start_time": "2024-10-27T15:47:21.990157",
     "status": "completed"
    },
    "tags": []
   },
   "outputs": [
    {
     "data": {
      "text/html": [
       "<div>\n",
       "<style scoped>\n",
       "    .dataframe tbody tr th:only-of-type {\n",
       "        vertical-align: middle;\n",
       "    }\n",
       "\n",
       "    .dataframe tbody tr th {\n",
       "        vertical-align: top;\n",
       "    }\n",
       "\n",
       "    .dataframe thead th {\n",
       "        text-align: right;\n",
       "    }\n",
       "</style>\n",
       "<table border=\"1\" class=\"dataframe\">\n",
       "  <thead>\n",
       "    <tr style=\"text-align: right;\">\n",
       "      <th></th>\n",
       "      <th>id</th>\n",
       "      <th>person_age</th>\n",
       "      <th>person_income</th>\n",
       "      <th>person_home_ownership</th>\n",
       "      <th>person_emp_length</th>\n",
       "      <th>loan_intent</th>\n",
       "      <th>loan_grade</th>\n",
       "      <th>loan_amnt</th>\n",
       "      <th>loan_int_rate</th>\n",
       "      <th>loan_percent_income</th>\n",
       "      <th>cb_person_default_on_file</th>\n",
       "      <th>cb_person_cred_hist_length</th>\n",
       "    </tr>\n",
       "  </thead>\n",
       "  <tbody>\n",
       "    <tr>\n",
       "      <th>0</th>\n",
       "      <td>58645</td>\n",
       "      <td>23</td>\n",
       "      <td>69000</td>\n",
       "      <td>RENT</td>\n",
       "      <td>3.0</td>\n",
       "      <td>HOMEIMPROVEMENT</td>\n",
       "      <td>F</td>\n",
       "      <td>25000</td>\n",
       "      <td>15.76</td>\n",
       "      <td>0.36</td>\n",
       "      <td>N</td>\n",
       "      <td>2</td>\n",
       "    </tr>\n",
       "    <tr>\n",
       "      <th>1</th>\n",
       "      <td>58646</td>\n",
       "      <td>26</td>\n",
       "      <td>96000</td>\n",
       "      <td>MORTGAGE</td>\n",
       "      <td>6.0</td>\n",
       "      <td>PERSONAL</td>\n",
       "      <td>C</td>\n",
       "      <td>10000</td>\n",
       "      <td>12.68</td>\n",
       "      <td>0.10</td>\n",
       "      <td>Y</td>\n",
       "      <td>4</td>\n",
       "    </tr>\n",
       "    <tr>\n",
       "      <th>2</th>\n",
       "      <td>58647</td>\n",
       "      <td>26</td>\n",
       "      <td>30000</td>\n",
       "      <td>RENT</td>\n",
       "      <td>5.0</td>\n",
       "      <td>VENTURE</td>\n",
       "      <td>E</td>\n",
       "      <td>4000</td>\n",
       "      <td>17.19</td>\n",
       "      <td>0.13</td>\n",
       "      <td>Y</td>\n",
       "      <td>2</td>\n",
       "    </tr>\n",
       "    <tr>\n",
       "      <th>3</th>\n",
       "      <td>58648</td>\n",
       "      <td>33</td>\n",
       "      <td>50000</td>\n",
       "      <td>RENT</td>\n",
       "      <td>4.0</td>\n",
       "      <td>DEBTCONSOLIDATION</td>\n",
       "      <td>A</td>\n",
       "      <td>7000</td>\n",
       "      <td>8.90</td>\n",
       "      <td>0.14</td>\n",
       "      <td>N</td>\n",
       "      <td>7</td>\n",
       "    </tr>\n",
       "    <tr>\n",
       "      <th>4</th>\n",
       "      <td>58649</td>\n",
       "      <td>26</td>\n",
       "      <td>102000</td>\n",
       "      <td>MORTGAGE</td>\n",
       "      <td>8.0</td>\n",
       "      <td>HOMEIMPROVEMENT</td>\n",
       "      <td>D</td>\n",
       "      <td>15000</td>\n",
       "      <td>16.32</td>\n",
       "      <td>0.15</td>\n",
       "      <td>Y</td>\n",
       "      <td>4</td>\n",
       "    </tr>\n",
       "  </tbody>\n",
       "</table>\n",
       "</div>"
      ],
      "text/plain": [
       "      id  person_age  person_income person_home_ownership  person_emp_length  \\\n",
       "0  58645          23          69000                  RENT                3.0   \n",
       "1  58646          26          96000              MORTGAGE                6.0   \n",
       "2  58647          26          30000                  RENT                5.0   \n",
       "3  58648          33          50000                  RENT                4.0   \n",
       "4  58649          26         102000              MORTGAGE                8.0   \n",
       "\n",
       "         loan_intent loan_grade  loan_amnt  loan_int_rate  \\\n",
       "0    HOMEIMPROVEMENT          F      25000          15.76   \n",
       "1           PERSONAL          C      10000          12.68   \n",
       "2            VENTURE          E       4000          17.19   \n",
       "3  DEBTCONSOLIDATION          A       7000           8.90   \n",
       "4    HOMEIMPROVEMENT          D      15000          16.32   \n",
       "\n",
       "   loan_percent_income cb_person_default_on_file  cb_person_cred_hist_length  \n",
       "0                 0.36                         N                           2  \n",
       "1                 0.10                         Y                           4  \n",
       "2                 0.13                         Y                           2  \n",
       "3                 0.14                         N                           7  \n",
       "4                 0.15                         Y                           4  "
      ]
     },
     "execution_count": 4,
     "metadata": {},
     "output_type": "execute_result"
    }
   ],
   "source": [
    "df2.head()"
   ]
  },
  {
   "cell_type": "code",
   "execution_count": 5,
   "id": "f1c157e3",
   "metadata": {
    "execution": {
     "iopub.execute_input": "2024-10-27T15:47:22.086335Z",
     "iopub.status.busy": "2024-10-27T15:47:22.084603Z",
     "iopub.status.idle": "2024-10-27T15:47:22.118387Z",
     "shell.execute_reply": "2024-10-27T15:47:22.116847Z"
    },
    "papermill": {
     "duration": 0.058075,
     "end_time": "2024-10-27T15:47:22.124420",
     "exception": false,
     "start_time": "2024-10-27T15:47:22.066345",
     "status": "completed"
    },
    "tags": []
   },
   "outputs": [
    {
     "data": {
      "text/html": [
       "<div>\n",
       "<style scoped>\n",
       "    .dataframe tbody tr th:only-of-type {\n",
       "        vertical-align: middle;\n",
       "    }\n",
       "\n",
       "    .dataframe tbody tr th {\n",
       "        vertical-align: top;\n",
       "    }\n",
       "\n",
       "    .dataframe thead th {\n",
       "        text-align: right;\n",
       "    }\n",
       "</style>\n",
       "<table border=\"1\" class=\"dataframe\">\n",
       "  <thead>\n",
       "    <tr style=\"text-align: right;\">\n",
       "      <th></th>\n",
       "      <th>id</th>\n",
       "      <th>person_age</th>\n",
       "      <th>person_income</th>\n",
       "      <th>person_home_ownership</th>\n",
       "      <th>person_emp_length</th>\n",
       "      <th>loan_intent</th>\n",
       "      <th>loan_grade</th>\n",
       "      <th>loan_amnt</th>\n",
       "      <th>loan_int_rate</th>\n",
       "      <th>loan_percent_income</th>\n",
       "      <th>cb_person_default_on_file</th>\n",
       "      <th>cb_person_cred_hist_length</th>\n",
       "      <th>loan_status</th>\n",
       "    </tr>\n",
       "  </thead>\n",
       "  <tbody>\n",
       "    <tr>\n",
       "      <th>0</th>\n",
       "      <td>0</td>\n",
       "      <td>37</td>\n",
       "      <td>35000</td>\n",
       "      <td>RENT</td>\n",
       "      <td>0.0</td>\n",
       "      <td>EDUCATION</td>\n",
       "      <td>B</td>\n",
       "      <td>6000</td>\n",
       "      <td>11.49</td>\n",
       "      <td>0.17</td>\n",
       "      <td>N</td>\n",
       "      <td>14</td>\n",
       "      <td>0</td>\n",
       "    </tr>\n",
       "    <tr>\n",
       "      <th>1</th>\n",
       "      <td>1</td>\n",
       "      <td>22</td>\n",
       "      <td>56000</td>\n",
       "      <td>OWN</td>\n",
       "      <td>6.0</td>\n",
       "      <td>MEDICAL</td>\n",
       "      <td>C</td>\n",
       "      <td>4000</td>\n",
       "      <td>13.35</td>\n",
       "      <td>0.07</td>\n",
       "      <td>N</td>\n",
       "      <td>2</td>\n",
       "      <td>0</td>\n",
       "    </tr>\n",
       "    <tr>\n",
       "      <th>2</th>\n",
       "      <td>2</td>\n",
       "      <td>29</td>\n",
       "      <td>28800</td>\n",
       "      <td>OWN</td>\n",
       "      <td>8.0</td>\n",
       "      <td>PERSONAL</td>\n",
       "      <td>A</td>\n",
       "      <td>6000</td>\n",
       "      <td>8.90</td>\n",
       "      <td>0.21</td>\n",
       "      <td>N</td>\n",
       "      <td>10</td>\n",
       "      <td>0</td>\n",
       "    </tr>\n",
       "    <tr>\n",
       "      <th>3</th>\n",
       "      <td>3</td>\n",
       "      <td>30</td>\n",
       "      <td>70000</td>\n",
       "      <td>RENT</td>\n",
       "      <td>14.0</td>\n",
       "      <td>VENTURE</td>\n",
       "      <td>B</td>\n",
       "      <td>12000</td>\n",
       "      <td>11.11</td>\n",
       "      <td>0.17</td>\n",
       "      <td>N</td>\n",
       "      <td>5</td>\n",
       "      <td>0</td>\n",
       "    </tr>\n",
       "    <tr>\n",
       "      <th>4</th>\n",
       "      <td>4</td>\n",
       "      <td>22</td>\n",
       "      <td>60000</td>\n",
       "      <td>RENT</td>\n",
       "      <td>2.0</td>\n",
       "      <td>MEDICAL</td>\n",
       "      <td>A</td>\n",
       "      <td>6000</td>\n",
       "      <td>6.92</td>\n",
       "      <td>0.10</td>\n",
       "      <td>N</td>\n",
       "      <td>3</td>\n",
       "      <td>0</td>\n",
       "    </tr>\n",
       "  </tbody>\n",
       "</table>\n",
       "</div>"
      ],
      "text/plain": [
       "   id  person_age  person_income person_home_ownership  person_emp_length  \\\n",
       "0   0          37          35000                  RENT                0.0   \n",
       "1   1          22          56000                   OWN                6.0   \n",
       "2   2          29          28800                   OWN                8.0   \n",
       "3   3          30          70000                  RENT               14.0   \n",
       "4   4          22          60000                  RENT                2.0   \n",
       "\n",
       "  loan_intent loan_grade  loan_amnt  loan_int_rate  loan_percent_income  \\\n",
       "0   EDUCATION          B       6000          11.49                 0.17   \n",
       "1     MEDICAL          C       4000          13.35                 0.07   \n",
       "2    PERSONAL          A       6000           8.90                 0.21   \n",
       "3     VENTURE          B      12000          11.11                 0.17   \n",
       "4     MEDICAL          A       6000           6.92                 0.10   \n",
       "\n",
       "  cb_person_default_on_file  cb_person_cred_hist_length  loan_status  \n",
       "0                         N                          14            0  \n",
       "1                         N                           2            0  \n",
       "2                         N                          10            0  \n",
       "3                         N                           5            0  \n",
       "4                         N                           3            0  "
      ]
     },
     "execution_count": 5,
     "metadata": {},
     "output_type": "execute_result"
    }
   ],
   "source": [
    "df.head()"
   ]
  },
  {
   "cell_type": "code",
   "execution_count": 6,
   "id": "c7154718",
   "metadata": {
    "execution": {
     "iopub.execute_input": "2024-10-27T15:47:22.166195Z",
     "iopub.status.busy": "2024-10-27T15:47:22.165749Z",
     "iopub.status.idle": "2024-10-27T15:47:22.221469Z",
     "shell.execute_reply": "2024-10-27T15:47:22.220102Z"
    },
    "papermill": {
     "duration": 0.080426,
     "end_time": "2024-10-27T15:47:22.224655",
     "exception": false,
     "start_time": "2024-10-27T15:47:22.144229",
     "status": "completed"
    },
    "tags": []
   },
   "outputs": [
    {
     "name": "stdout",
     "output_type": "stream",
     "text": [
      "<class 'pandas.core.frame.DataFrame'>\n",
      "RangeIndex: 58645 entries, 0 to 58644\n",
      "Data columns (total 13 columns):\n",
      " #   Column                      Non-Null Count  Dtype  \n",
      "---  ------                      --------------  -----  \n",
      " 0   id                          58645 non-null  int64  \n",
      " 1   person_age                  58645 non-null  int64  \n",
      " 2   person_income               58645 non-null  int64  \n",
      " 3   person_home_ownership       58645 non-null  object \n",
      " 4   person_emp_length           58645 non-null  float64\n",
      " 5   loan_intent                 58645 non-null  object \n",
      " 6   loan_grade                  58645 non-null  object \n",
      " 7   loan_amnt                   58645 non-null  int64  \n",
      " 8   loan_int_rate               58645 non-null  float64\n",
      " 9   loan_percent_income         58645 non-null  float64\n",
      " 10  cb_person_default_on_file   58645 non-null  object \n",
      " 11  cb_person_cred_hist_length  58645 non-null  int64  \n",
      " 12  loan_status                 58645 non-null  int64  \n",
      "dtypes: float64(3), int64(6), object(4)\n",
      "memory usage: 5.8+ MB\n"
     ]
    }
   ],
   "source": [
    "df.info()"
   ]
  },
  {
   "cell_type": "code",
   "execution_count": 7,
   "id": "3676ca0f",
   "metadata": {
    "execution": {
     "iopub.execute_input": "2024-10-27T15:47:22.260739Z",
     "iopub.status.busy": "2024-10-27T15:47:22.259999Z",
     "iopub.status.idle": "2024-10-27T15:47:22.274029Z",
     "shell.execute_reply": "2024-10-27T15:47:22.273059Z"
    },
    "papermill": {
     "duration": 0.038629,
     "end_time": "2024-10-27T15:47:22.277166",
     "exception": false,
     "start_time": "2024-10-27T15:47:22.238537",
     "status": "completed"
    },
    "tags": []
   },
   "outputs": [
    {
     "name": "stdout",
     "output_type": "stream",
     "text": [
      "[]\n"
     ]
    }
   ],
   "source": [
    "duplicate = df[df[\"id\"].duplicated(keep=False)]\n",
    "print(duplicate[\"id\"].unique())\n",
    "\n",
    "#  there is nobody who takes loan multiple times"
   ]
  },
  {
   "cell_type": "code",
   "execution_count": 8,
   "id": "8480994f",
   "metadata": {
    "execution": {
     "iopub.execute_input": "2024-10-27T15:47:22.315471Z",
     "iopub.status.busy": "2024-10-27T15:47:22.314838Z",
     "iopub.status.idle": "2024-10-27T15:47:22.334790Z",
     "shell.execute_reply": "2024-10-27T15:47:22.333604Z"
    },
    "papermill": {
     "duration": 0.041546,
     "end_time": "2024-10-27T15:47:22.337450",
     "exception": false,
     "start_time": "2024-10-27T15:47:22.295904",
     "status": "completed"
    },
    "tags": []
   },
   "outputs": [
    {
     "data": {
      "text/plain": [
       "person_home_ownership\n",
       "RENT        30594\n",
       "MORTGAGE    24824\n",
       "OWN          3138\n",
       "OTHER          89\n",
       "Name: count, dtype: int64"
      ]
     },
     "execution_count": 8,
     "metadata": {},
     "output_type": "execute_result"
    }
   ],
   "source": [
    "df[\"person_home_ownership\"].value_counts()"
   ]
  },
  {
   "cell_type": "code",
   "execution_count": 9,
   "id": "f7f4e5ed",
   "metadata": {
    "execution": {
     "iopub.execute_input": "2024-10-27T15:47:22.365649Z",
     "iopub.status.busy": "2024-10-27T15:47:22.365192Z",
     "iopub.status.idle": "2024-10-27T15:47:22.383363Z",
     "shell.execute_reply": "2024-10-27T15:47:22.382228Z"
    },
    "papermill": {
     "duration": 0.035481,
     "end_time": "2024-10-27T15:47:22.386079",
     "exception": false,
     "start_time": "2024-10-27T15:47:22.350598",
     "status": "completed"
    },
    "tags": []
   },
   "outputs": [
    {
     "data": {
      "text/plain": [
       "loan_grade\n",
       "A    20984\n",
       "B    20400\n",
       "C    11036\n",
       "D     5034\n",
       "E     1009\n",
       "F      149\n",
       "G       33\n",
       "Name: count, dtype: int64"
      ]
     },
     "execution_count": 9,
     "metadata": {},
     "output_type": "execute_result"
    }
   ],
   "source": [
    "df[\"loan_grade\"].value_counts()\n",
    "#df[\"loan_intent\"].value_counts()\n",
    "#df[\"cb_person_default_on_file\"].value_counts()"
   ]
  },
  {
   "cell_type": "code",
   "execution_count": 10,
   "id": "d06f2005",
   "metadata": {
    "execution": {
     "iopub.execute_input": "2024-10-27T15:47:22.414646Z",
     "iopub.status.busy": "2024-10-27T15:47:22.414156Z",
     "iopub.status.idle": "2024-10-27T15:47:22.438704Z",
     "shell.execute_reply": "2024-10-27T15:47:22.437471Z"
    },
    "papermill": {
     "duration": 0.041983,
     "end_time": "2024-10-27T15:47:22.441443",
     "exception": false,
     "start_time": "2024-10-27T15:47:22.399460",
     "status": "completed"
    },
    "tags": []
   },
   "outputs": [
    {
     "data": {
      "text/html": [
       "<div>\n",
       "<style scoped>\n",
       "    .dataframe tbody tr th:only-of-type {\n",
       "        vertical-align: middle;\n",
       "    }\n",
       "\n",
       "    .dataframe tbody tr th {\n",
       "        vertical-align: top;\n",
       "    }\n",
       "\n",
       "    .dataframe thead th {\n",
       "        text-align: right;\n",
       "    }\n",
       "</style>\n",
       "<table border=\"1\" class=\"dataframe\">\n",
       "  <thead>\n",
       "    <tr style=\"text-align: right;\">\n",
       "      <th></th>\n",
       "      <th>id</th>\n",
       "      <th>person_age</th>\n",
       "      <th>person_income</th>\n",
       "      <th>person_home_ownership</th>\n",
       "      <th>person_emp_length</th>\n",
       "      <th>loan_intent</th>\n",
       "      <th>loan_grade</th>\n",
       "      <th>loan_amnt</th>\n",
       "      <th>loan_int_rate</th>\n",
       "      <th>loan_percent_income</th>\n",
       "      <th>cb_person_default_on_file</th>\n",
       "      <th>cb_person_cred_hist_length</th>\n",
       "    </tr>\n",
       "  </thead>\n",
       "  <tbody>\n",
       "    <tr>\n",
       "      <th>0</th>\n",
       "      <td>0</td>\n",
       "      <td>37</td>\n",
       "      <td>35000</td>\n",
       "      <td>RENT</td>\n",
       "      <td>0.0</td>\n",
       "      <td>EDUCATION</td>\n",
       "      <td>B</td>\n",
       "      <td>6000</td>\n",
       "      <td>11.49</td>\n",
       "      <td>0.17</td>\n",
       "      <td>N</td>\n",
       "      <td>14</td>\n",
       "    </tr>\n",
       "    <tr>\n",
       "      <th>1</th>\n",
       "      <td>1</td>\n",
       "      <td>22</td>\n",
       "      <td>56000</td>\n",
       "      <td>OWN</td>\n",
       "      <td>6.0</td>\n",
       "      <td>MEDICAL</td>\n",
       "      <td>C</td>\n",
       "      <td>4000</td>\n",
       "      <td>13.35</td>\n",
       "      <td>0.07</td>\n",
       "      <td>N</td>\n",
       "      <td>2</td>\n",
       "    </tr>\n",
       "    <tr>\n",
       "      <th>2</th>\n",
       "      <td>2</td>\n",
       "      <td>29</td>\n",
       "      <td>28800</td>\n",
       "      <td>OWN</td>\n",
       "      <td>8.0</td>\n",
       "      <td>PERSONAL</td>\n",
       "      <td>A</td>\n",
       "      <td>6000</td>\n",
       "      <td>8.90</td>\n",
       "      <td>0.21</td>\n",
       "      <td>N</td>\n",
       "      <td>10</td>\n",
       "    </tr>\n",
       "    <tr>\n",
       "      <th>3</th>\n",
       "      <td>3</td>\n",
       "      <td>30</td>\n",
       "      <td>70000</td>\n",
       "      <td>RENT</td>\n",
       "      <td>14.0</td>\n",
       "      <td>VENTURE</td>\n",
       "      <td>B</td>\n",
       "      <td>12000</td>\n",
       "      <td>11.11</td>\n",
       "      <td>0.17</td>\n",
       "      <td>N</td>\n",
       "      <td>5</td>\n",
       "    </tr>\n",
       "    <tr>\n",
       "      <th>4</th>\n",
       "      <td>4</td>\n",
       "      <td>22</td>\n",
       "      <td>60000</td>\n",
       "      <td>RENT</td>\n",
       "      <td>2.0</td>\n",
       "      <td>MEDICAL</td>\n",
       "      <td>A</td>\n",
       "      <td>6000</td>\n",
       "      <td>6.92</td>\n",
       "      <td>0.10</td>\n",
       "      <td>N</td>\n",
       "      <td>3</td>\n",
       "    </tr>\n",
       "  </tbody>\n",
       "</table>\n",
       "</div>"
      ],
      "text/plain": [
       "   id  person_age  person_income person_home_ownership  person_emp_length  \\\n",
       "0   0          37          35000                  RENT                0.0   \n",
       "1   1          22          56000                   OWN                6.0   \n",
       "2   2          29          28800                   OWN                8.0   \n",
       "3   3          30          70000                  RENT               14.0   \n",
       "4   4          22          60000                  RENT                2.0   \n",
       "\n",
       "  loan_intent loan_grade  loan_amnt  loan_int_rate  loan_percent_income  \\\n",
       "0   EDUCATION          B       6000          11.49                 0.17   \n",
       "1     MEDICAL          C       4000          13.35                 0.07   \n",
       "2    PERSONAL          A       6000           8.90                 0.21   \n",
       "3     VENTURE          B      12000          11.11                 0.17   \n",
       "4     MEDICAL          A       6000           6.92                 0.10   \n",
       "\n",
       "  cb_person_default_on_file  cb_person_cred_hist_length  \n",
       "0                         N                          14  \n",
       "1                         N                           2  \n",
       "2                         N                          10  \n",
       "3                         N                           5  \n",
       "4                         N                           3  "
      ]
     },
     "execution_count": 10,
     "metadata": {},
     "output_type": "execute_result"
    }
   ],
   "source": [
    "x_train = df.drop(columns=['loan_status'])\n",
    "x_train.head()"
   ]
  },
  {
   "cell_type": "code",
   "execution_count": 11,
   "id": "cbda8ece",
   "metadata": {
    "execution": {
     "iopub.execute_input": "2024-10-27T15:47:22.471399Z",
     "iopub.status.busy": "2024-10-27T15:47:22.470961Z",
     "iopub.status.idle": "2024-10-27T15:47:22.479913Z",
     "shell.execute_reply": "2024-10-27T15:47:22.478725Z"
    },
    "papermill": {
     "duration": 0.026543,
     "end_time": "2024-10-27T15:47:22.482478",
     "exception": false,
     "start_time": "2024-10-27T15:47:22.455935",
     "status": "completed"
    },
    "tags": []
   },
   "outputs": [
    {
     "data": {
      "text/plain": [
       "0    0\n",
       "1    0\n",
       "2    0\n",
       "3    0\n",
       "4    0\n",
       "Name: loan_status, dtype: int64"
      ]
     },
     "execution_count": 11,
     "metadata": {},
     "output_type": "execute_result"
    }
   ],
   "source": [
    "y_train = df['loan_status']\n",
    "y_train.head()"
   ]
  },
  {
   "cell_type": "markdown",
   "id": "257d71a2",
   "metadata": {
    "papermill": {
     "duration": 0.014001,
     "end_time": "2024-10-27T15:47:22.510694",
     "exception": false,
     "start_time": "2024-10-27T15:47:22.496693",
     "status": "completed"
    },
    "tags": []
   },
   "source": [
    "# steps\n",
    " apply ohe in person_home_ownership, loan_intent, loan_grade , lebel encoding on cb_person_default_on_file  , standard_scaler on loan_amnt and person_income , use pipelines"
   ]
  },
  {
   "cell_type": "code",
   "execution_count": 12,
   "id": "5a83f855",
   "metadata": {
    "execution": {
     "iopub.execute_input": "2024-10-27T15:47:22.541549Z",
     "iopub.status.busy": "2024-10-27T15:47:22.541100Z",
     "iopub.status.idle": "2024-10-27T15:47:23.419676Z",
     "shell.execute_reply": "2024-10-27T15:47:23.418248Z"
    },
    "papermill": {
     "duration": 0.897804,
     "end_time": "2024-10-27T15:47:23.422764",
     "exception": false,
     "start_time": "2024-10-27T15:47:22.524960",
     "status": "completed"
    },
    "tags": []
   },
   "outputs": [],
   "source": [
    "# imporing necessary algorithms\n",
    "\n",
    "from sklearn.preprocessing import OneHotEncoder, OrdinalEncoder\n",
    "from sklearn.preprocessing import StandardScaler\n",
    "from sklearn.pipeline import make_pipeline,Pipeline\n",
    "from sklearn.compose import ColumnTransformer\n",
    "from sklearn.feature_selection import SelectKBest\n",
    "from sklearn.linear_model import LogisticRegression\n",
    "from sklearn.ensemble import RandomForestClassifier\n",
    "from sklearn.ensemble import GradientBoostingClassifier\n",
    "from sklearn.metrics import accuracy_score\n",
    "from sklearn.model_selection import GridSearchCV\n",
    "import xgboost as xgb"
   ]
  },
  {
   "cell_type": "code",
   "execution_count": 13,
   "id": "5ecf4771",
   "metadata": {
    "execution": {
     "iopub.execute_input": "2024-10-27T15:47:23.452810Z",
     "iopub.status.busy": "2024-10-27T15:47:23.452344Z",
     "iopub.status.idle": "2024-10-27T15:47:23.458506Z",
     "shell.execute_reply": "2024-10-27T15:47:23.457310Z"
    },
    "papermill": {
     "duration": 0.024204,
     "end_time": "2024-10-27T15:47:23.461209",
     "exception": false,
     "start_time": "2024-10-27T15:47:23.437005",
     "status": "completed"
    },
    "tags": []
   },
   "outputs": [],
   "source": [
    "ohe = OneHotEncoder(handle_unknown='ignore',sparse_output=False,drop='first')\n",
    "label = OrdinalEncoder()\n",
    "scale = StandardScaler()\n"
   ]
  },
  {
   "cell_type": "code",
   "execution_count": 14,
   "id": "42d1f81b",
   "metadata": {
    "execution": {
     "iopub.execute_input": "2024-10-27T15:47:23.491064Z",
     "iopub.status.busy": "2024-10-27T15:47:23.490167Z",
     "iopub.status.idle": "2024-10-27T15:47:23.496901Z",
     "shell.execute_reply": "2024-10-27T15:47:23.495559Z"
    },
    "papermill": {
     "duration": 0.024584,
     "end_time": "2024-10-27T15:47:23.499585",
     "exception": false,
     "start_time": "2024-10-27T15:47:23.475001",
     "status": "completed"
    },
    "tags": []
   },
   "outputs": [],
   "source": [
    "preprocessor = ColumnTransformer(\n",
    "    transformers=[\n",
    "        ('onehot', ohe, [3, 5, 6]),   # One-hot encode \n",
    "        ('label', label, [10]),       #  label encode\n",
    "        ('scaler', scale, [2, 7])  # Standard scaling for numerical columns\n",
    "    ],\n",
    "    remainder='passthrough' )"
   ]
  },
  {
   "cell_type": "code",
   "execution_count": 15,
   "id": "d663e9d7",
   "metadata": {
    "execution": {
     "iopub.execute_input": "2024-10-27T15:47:23.530825Z",
     "iopub.status.busy": "2024-10-27T15:47:23.529444Z",
     "iopub.status.idle": "2024-10-27T15:47:23.536230Z",
     "shell.execute_reply": "2024-10-27T15:47:23.534897Z"
    },
    "papermill": {
     "duration": 0.025663,
     "end_time": "2024-10-27T15:47:23.539337",
     "exception": false,
     "start_time": "2024-10-27T15:47:23.513674",
     "status": "completed"
    },
    "tags": []
   },
   "outputs": [],
   "source": [
    "pipe = Pipeline(steps=[\n",
    "    ('preprocessor', preprocessor),\n",
    "    ('classifier', LogisticRegression(max_iter=500,random_state=42))\n",
    "])"
   ]
  },
  {
   "cell_type": "code",
   "execution_count": 16,
   "id": "84f3210d",
   "metadata": {
    "execution": {
     "iopub.execute_input": "2024-10-27T15:47:23.569936Z",
     "iopub.status.busy": "2024-10-27T15:47:23.569432Z",
     "iopub.status.idle": "2024-10-27T15:47:23.576303Z",
     "shell.execute_reply": "2024-10-27T15:47:23.574890Z"
    },
    "papermill": {
     "duration": 0.025295,
     "end_time": "2024-10-27T15:47:23.579108",
     "exception": false,
     "start_time": "2024-10-27T15:47:23.553813",
     "status": "completed"
    },
    "tags": []
   },
   "outputs": [],
   "source": [
    "pipe2 =  Pipeline(steps=[\n",
    "    ('preprocessor', preprocessor),\n",
    "    ('classifier', RandomForestClassifier(max_features=200,max_depth=4,bootstrap=True,oob_score=True,random_state=42))\n",
    "])"
   ]
  },
  {
   "cell_type": "code",
   "execution_count": 17,
   "id": "7f299ce8",
   "metadata": {
    "execution": {
     "iopub.execute_input": "2024-10-27T15:47:23.610064Z",
     "iopub.status.busy": "2024-10-27T15:47:23.609629Z",
     "iopub.status.idle": "2024-10-27T15:47:23.616026Z",
     "shell.execute_reply": "2024-10-27T15:47:23.614743Z"
    },
    "papermill": {
     "duration": 0.024743,
     "end_time": "2024-10-27T15:47:23.618497",
     "exception": false,
     "start_time": "2024-10-27T15:47:23.593754",
     "status": "completed"
    },
    "tags": []
   },
   "outputs": [],
   "source": [
    "pipe3 =  Pipeline(steps=[\n",
    "    ('preprocessor', preprocessor),\n",
    "    ('classifier', GradientBoostingClassifier(n_estimators=200,max_depth=4,learning_rate=0.1,random_state=42,subsample=0.9,))\n",
    "])"
   ]
  },
  {
   "cell_type": "code",
   "execution_count": 18,
   "id": "4e32e28a",
   "metadata": {
    "execution": {
     "iopub.execute_input": "2024-10-27T15:47:23.648461Z",
     "iopub.status.busy": "2024-10-27T15:47:23.647967Z",
     "iopub.status.idle": "2024-10-27T15:47:23.654938Z",
     "shell.execute_reply": "2024-10-27T15:47:23.653582Z"
    },
    "papermill": {
     "duration": 0.025078,
     "end_time": "2024-10-27T15:47:23.657659",
     "exception": false,
     "start_time": "2024-10-27T15:47:23.632581",
     "status": "completed"
    },
    "tags": []
   },
   "outputs": [],
   "source": [
    "pipe4 = Pipeline(steps=[\n",
    "    ('preprocessor', preprocessor),\n",
    "    ('classifier1', xgb.XGBClassifier(n_estimators=200,max_depth=5,learning_rate=0.1,random_state=42,objective='binary:logistic'))\n",
    "])"
   ]
  },
  {
   "cell_type": "code",
   "execution_count": 19,
   "id": "33605258",
   "metadata": {
    "execution": {
     "iopub.execute_input": "2024-10-27T15:47:23.688086Z",
     "iopub.status.busy": "2024-10-27T15:47:23.687615Z",
     "iopub.status.idle": "2024-10-27T15:47:23.693368Z",
     "shell.execute_reply": "2024-10-27T15:47:23.691998Z"
    },
    "papermill": {
     "duration": 0.024476,
     "end_time": "2024-10-27T15:47:23.696060",
     "exception": false,
     "start_time": "2024-10-27T15:47:23.671584",
     "status": "completed"
    },
    "tags": []
   },
   "outputs": [],
   "source": [
    "pipe5 = Pipeline(steps=[\n",
    "    ('preprocessor', preprocessor)])"
   ]
  },
  {
   "cell_type": "code",
   "execution_count": 20,
   "id": "28840a9c",
   "metadata": {
    "execution": {
     "iopub.execute_input": "2024-10-27T15:47:23.726483Z",
     "iopub.status.busy": "2024-10-27T15:47:23.725223Z",
     "iopub.status.idle": "2024-10-27T15:48:14.001129Z",
     "shell.execute_reply": "2024-10-27T15:48:13.999763Z"
    },
    "papermill": {
     "duration": 50.307246,
     "end_time": "2024-10-27T15:48:14.017049",
     "exception": false,
     "start_time": "2024-10-27T15:47:23.709803",
     "status": "completed"
    },
    "tags": []
   },
   "outputs": [
    {
     "data": {
      "text/html": [
       "<style>#sk-container-id-1 {color: black;background-color: white;}#sk-container-id-1 pre{padding: 0;}#sk-container-id-1 div.sk-toggleable {background-color: white;}#sk-container-id-1 label.sk-toggleable__label {cursor: pointer;display: block;width: 100%;margin-bottom: 0;padding: 0.3em;box-sizing: border-box;text-align: center;}#sk-container-id-1 label.sk-toggleable__label-arrow:before {content: \"▸\";float: left;margin-right: 0.25em;color: #696969;}#sk-container-id-1 label.sk-toggleable__label-arrow:hover:before {color: black;}#sk-container-id-1 div.sk-estimator:hover label.sk-toggleable__label-arrow:before {color: black;}#sk-container-id-1 div.sk-toggleable__content {max-height: 0;max-width: 0;overflow: hidden;text-align: left;background-color: #f0f8ff;}#sk-container-id-1 div.sk-toggleable__content pre {margin: 0.2em;color: black;border-radius: 0.25em;background-color: #f0f8ff;}#sk-container-id-1 input.sk-toggleable__control:checked~div.sk-toggleable__content {max-height: 200px;max-width: 100%;overflow: auto;}#sk-container-id-1 input.sk-toggleable__control:checked~label.sk-toggleable__label-arrow:before {content: \"▾\";}#sk-container-id-1 div.sk-estimator input.sk-toggleable__control:checked~label.sk-toggleable__label {background-color: #d4ebff;}#sk-container-id-1 div.sk-label input.sk-toggleable__control:checked~label.sk-toggleable__label {background-color: #d4ebff;}#sk-container-id-1 input.sk-hidden--visually {border: 0;clip: rect(1px 1px 1px 1px);clip: rect(1px, 1px, 1px, 1px);height: 1px;margin: -1px;overflow: hidden;padding: 0;position: absolute;width: 1px;}#sk-container-id-1 div.sk-estimator {font-family: monospace;background-color: #f0f8ff;border: 1px dotted black;border-radius: 0.25em;box-sizing: border-box;margin-bottom: 0.5em;}#sk-container-id-1 div.sk-estimator:hover {background-color: #d4ebff;}#sk-container-id-1 div.sk-parallel-item::after {content: \"\";width: 100%;border-bottom: 1px solid gray;flex-grow: 1;}#sk-container-id-1 div.sk-label:hover label.sk-toggleable__label {background-color: #d4ebff;}#sk-container-id-1 div.sk-serial::before {content: \"\";position: absolute;border-left: 1px solid gray;box-sizing: border-box;top: 0;bottom: 0;left: 50%;z-index: 0;}#sk-container-id-1 div.sk-serial {display: flex;flex-direction: column;align-items: center;background-color: white;padding-right: 0.2em;padding-left: 0.2em;position: relative;}#sk-container-id-1 div.sk-item {position: relative;z-index: 1;}#sk-container-id-1 div.sk-parallel {display: flex;align-items: stretch;justify-content: center;background-color: white;position: relative;}#sk-container-id-1 div.sk-item::before, #sk-container-id-1 div.sk-parallel-item::before {content: \"\";position: absolute;border-left: 1px solid gray;box-sizing: border-box;top: 0;bottom: 0;left: 50%;z-index: -1;}#sk-container-id-1 div.sk-parallel-item {display: flex;flex-direction: column;z-index: 1;position: relative;background-color: white;}#sk-container-id-1 div.sk-parallel-item:first-child::after {align-self: flex-end;width: 50%;}#sk-container-id-1 div.sk-parallel-item:last-child::after {align-self: flex-start;width: 50%;}#sk-container-id-1 div.sk-parallel-item:only-child::after {width: 0;}#sk-container-id-1 div.sk-dashed-wrapped {border: 1px dashed gray;margin: 0 0.4em 0.5em 0.4em;box-sizing: border-box;padding-bottom: 0.4em;background-color: white;}#sk-container-id-1 div.sk-label label {font-family: monospace;font-weight: bold;display: inline-block;line-height: 1.2em;}#sk-container-id-1 div.sk-label-container {text-align: center;}#sk-container-id-1 div.sk-container {/* jupyter's `normalize.less` sets `[hidden] { display: none; }` but bootstrap.min.css set `[hidden] { display: none !important; }` so we also need the `!important` here to be able to override the default hidden behavior on the sphinx rendered scikit-learn.org. See: https://github.com/scikit-learn/scikit-learn/issues/21755 */display: inline-block !important;position: relative;}#sk-container-id-1 div.sk-text-repr-fallback {display: none;}</style><div id=\"sk-container-id-1\" class=\"sk-top-container\"><div class=\"sk-text-repr-fallback\"><pre>Pipeline(steps=[(&#x27;preprocessor&#x27;,\n",
       "                 ColumnTransformer(remainder=&#x27;passthrough&#x27;,\n",
       "                                   transformers=[(&#x27;onehot&#x27;,\n",
       "                                                  OneHotEncoder(drop=&#x27;first&#x27;,\n",
       "                                                                handle_unknown=&#x27;ignore&#x27;,\n",
       "                                                                sparse_output=False),\n",
       "                                                  [3, 5, 6]),\n",
       "                                                 (&#x27;label&#x27;, OrdinalEncoder(),\n",
       "                                                  [10]),\n",
       "                                                 (&#x27;scaler&#x27;, StandardScaler(),\n",
       "                                                  [2, 7])])),\n",
       "                (&#x27;classifier1&#x27;,\n",
       "                 XGBClassifier(base_score=None, booster=None, callbacks=None,\n",
       "                               colsample_bylevel=None, colsam...\n",
       "                               feature_types=None, gamma=None, grow_policy=None,\n",
       "                               importance_type=None,\n",
       "                               interaction_constraints=None, learning_rate=0.1,\n",
       "                               max_bin=None, max_cat_threshold=None,\n",
       "                               max_cat_to_onehot=None, max_delta_step=None,\n",
       "                               max_depth=5, max_leaves=None,\n",
       "                               min_child_weight=None, missing=nan,\n",
       "                               monotone_constraints=None, multi_strategy=None,\n",
       "                               n_estimators=200, n_jobs=None,\n",
       "                               num_parallel_tree=None, random_state=42, ...))])</pre><b>In a Jupyter environment, please rerun this cell to show the HTML representation or trust the notebook. <br />On GitHub, the HTML representation is unable to render, please try loading this page with nbviewer.org.</b></div><div class=\"sk-container\" hidden><div class=\"sk-item sk-dashed-wrapped\"><div class=\"sk-label-container\"><div class=\"sk-label sk-toggleable\"><input class=\"sk-toggleable__control sk-hidden--visually\" id=\"sk-estimator-id-1\" type=\"checkbox\" ><label for=\"sk-estimator-id-1\" class=\"sk-toggleable__label sk-toggleable__label-arrow\">Pipeline</label><div class=\"sk-toggleable__content\"><pre>Pipeline(steps=[(&#x27;preprocessor&#x27;,\n",
       "                 ColumnTransformer(remainder=&#x27;passthrough&#x27;,\n",
       "                                   transformers=[(&#x27;onehot&#x27;,\n",
       "                                                  OneHotEncoder(drop=&#x27;first&#x27;,\n",
       "                                                                handle_unknown=&#x27;ignore&#x27;,\n",
       "                                                                sparse_output=False),\n",
       "                                                  [3, 5, 6]),\n",
       "                                                 (&#x27;label&#x27;, OrdinalEncoder(),\n",
       "                                                  [10]),\n",
       "                                                 (&#x27;scaler&#x27;, StandardScaler(),\n",
       "                                                  [2, 7])])),\n",
       "                (&#x27;classifier1&#x27;,\n",
       "                 XGBClassifier(base_score=None, booster=None, callbacks=None,\n",
       "                               colsample_bylevel=None, colsam...\n",
       "                               feature_types=None, gamma=None, grow_policy=None,\n",
       "                               importance_type=None,\n",
       "                               interaction_constraints=None, learning_rate=0.1,\n",
       "                               max_bin=None, max_cat_threshold=None,\n",
       "                               max_cat_to_onehot=None, max_delta_step=None,\n",
       "                               max_depth=5, max_leaves=None,\n",
       "                               min_child_weight=None, missing=nan,\n",
       "                               monotone_constraints=None, multi_strategy=None,\n",
       "                               n_estimators=200, n_jobs=None,\n",
       "                               num_parallel_tree=None, random_state=42, ...))])</pre></div></div></div><div class=\"sk-serial\"><div class=\"sk-item sk-dashed-wrapped\"><div class=\"sk-label-container\"><div class=\"sk-label sk-toggleable\"><input class=\"sk-toggleable__control sk-hidden--visually\" id=\"sk-estimator-id-2\" type=\"checkbox\" ><label for=\"sk-estimator-id-2\" class=\"sk-toggleable__label sk-toggleable__label-arrow\">preprocessor: ColumnTransformer</label><div class=\"sk-toggleable__content\"><pre>ColumnTransformer(remainder=&#x27;passthrough&#x27;,\n",
       "                  transformers=[(&#x27;onehot&#x27;,\n",
       "                                 OneHotEncoder(drop=&#x27;first&#x27;,\n",
       "                                               handle_unknown=&#x27;ignore&#x27;,\n",
       "                                               sparse_output=False),\n",
       "                                 [3, 5, 6]),\n",
       "                                (&#x27;label&#x27;, OrdinalEncoder(), [10]),\n",
       "                                (&#x27;scaler&#x27;, StandardScaler(), [2, 7])])</pre></div></div></div><div class=\"sk-parallel\"><div class=\"sk-parallel-item\"><div class=\"sk-item\"><div class=\"sk-label-container\"><div class=\"sk-label sk-toggleable\"><input class=\"sk-toggleable__control sk-hidden--visually\" id=\"sk-estimator-id-3\" type=\"checkbox\" ><label for=\"sk-estimator-id-3\" class=\"sk-toggleable__label sk-toggleable__label-arrow\">onehot</label><div class=\"sk-toggleable__content\"><pre>[3, 5, 6]</pre></div></div></div><div class=\"sk-serial\"><div class=\"sk-item\"><div class=\"sk-estimator sk-toggleable\"><input class=\"sk-toggleable__control sk-hidden--visually\" id=\"sk-estimator-id-4\" type=\"checkbox\" ><label for=\"sk-estimator-id-4\" class=\"sk-toggleable__label sk-toggleable__label-arrow\">OneHotEncoder</label><div class=\"sk-toggleable__content\"><pre>OneHotEncoder(drop=&#x27;first&#x27;, handle_unknown=&#x27;ignore&#x27;, sparse_output=False)</pre></div></div></div></div></div></div><div class=\"sk-parallel-item\"><div class=\"sk-item\"><div class=\"sk-label-container\"><div class=\"sk-label sk-toggleable\"><input class=\"sk-toggleable__control sk-hidden--visually\" id=\"sk-estimator-id-5\" type=\"checkbox\" ><label for=\"sk-estimator-id-5\" class=\"sk-toggleable__label sk-toggleable__label-arrow\">label</label><div class=\"sk-toggleable__content\"><pre>[10]</pre></div></div></div><div class=\"sk-serial\"><div class=\"sk-item\"><div class=\"sk-estimator sk-toggleable\"><input class=\"sk-toggleable__control sk-hidden--visually\" id=\"sk-estimator-id-6\" type=\"checkbox\" ><label for=\"sk-estimator-id-6\" class=\"sk-toggleable__label sk-toggleable__label-arrow\">OrdinalEncoder</label><div class=\"sk-toggleable__content\"><pre>OrdinalEncoder()</pre></div></div></div></div></div></div><div class=\"sk-parallel-item\"><div class=\"sk-item\"><div class=\"sk-label-container\"><div class=\"sk-label sk-toggleable\"><input class=\"sk-toggleable__control sk-hidden--visually\" id=\"sk-estimator-id-7\" type=\"checkbox\" ><label for=\"sk-estimator-id-7\" class=\"sk-toggleable__label sk-toggleable__label-arrow\">scaler</label><div class=\"sk-toggleable__content\"><pre>[2, 7]</pre></div></div></div><div class=\"sk-serial\"><div class=\"sk-item\"><div class=\"sk-estimator sk-toggleable\"><input class=\"sk-toggleable__control sk-hidden--visually\" id=\"sk-estimator-id-8\" type=\"checkbox\" ><label for=\"sk-estimator-id-8\" class=\"sk-toggleable__label sk-toggleable__label-arrow\">StandardScaler</label><div class=\"sk-toggleable__content\"><pre>StandardScaler()</pre></div></div></div></div></div></div><div class=\"sk-parallel-item\"><div class=\"sk-item\"><div class=\"sk-label-container\"><div class=\"sk-label sk-toggleable\"><input class=\"sk-toggleable__control sk-hidden--visually\" id=\"sk-estimator-id-9\" type=\"checkbox\" ><label for=\"sk-estimator-id-9\" class=\"sk-toggleable__label sk-toggleable__label-arrow\">remainder</label><div class=\"sk-toggleable__content\"><pre>[&#x27;id&#x27;, &#x27;person_age&#x27;, &#x27;person_emp_length&#x27;, &#x27;loan_int_rate&#x27;, &#x27;loan_percent_income&#x27;, &#x27;cb_person_cred_hist_length&#x27;]</pre></div></div></div><div class=\"sk-serial\"><div class=\"sk-item\"><div class=\"sk-estimator sk-toggleable\"><input class=\"sk-toggleable__control sk-hidden--visually\" id=\"sk-estimator-id-10\" type=\"checkbox\" ><label for=\"sk-estimator-id-10\" class=\"sk-toggleable__label sk-toggleable__label-arrow\">passthrough</label><div class=\"sk-toggleable__content\"><pre>passthrough</pre></div></div></div></div></div></div></div></div><div class=\"sk-item\"><div class=\"sk-estimator sk-toggleable\"><input class=\"sk-toggleable__control sk-hidden--visually\" id=\"sk-estimator-id-11\" type=\"checkbox\" ><label for=\"sk-estimator-id-11\" class=\"sk-toggleable__label sk-toggleable__label-arrow\">XGBClassifier</label><div class=\"sk-toggleable__content\"><pre>XGBClassifier(base_score=None, booster=None, callbacks=None,\n",
       "              colsample_bylevel=None, colsample_bynode=None,\n",
       "              colsample_bytree=None, device=None, early_stopping_rounds=None,\n",
       "              enable_categorical=False, eval_metric=None, feature_types=None,\n",
       "              gamma=None, grow_policy=None, importance_type=None,\n",
       "              interaction_constraints=None, learning_rate=0.1, max_bin=None,\n",
       "              max_cat_threshold=None, max_cat_to_onehot=None,\n",
       "              max_delta_step=None, max_depth=5, max_leaves=None,\n",
       "              min_child_weight=None, missing=nan, monotone_constraints=None,\n",
       "              multi_strategy=None, n_estimators=200, n_jobs=None,\n",
       "              num_parallel_tree=None, random_state=42, ...)</pre></div></div></div></div></div></div></div>"
      ],
      "text/plain": [
       "Pipeline(steps=[('preprocessor',\n",
       "                 ColumnTransformer(remainder='passthrough',\n",
       "                                   transformers=[('onehot',\n",
       "                                                  OneHotEncoder(drop='first',\n",
       "                                                                handle_unknown='ignore',\n",
       "                                                                sparse_output=False),\n",
       "                                                  [3, 5, 6]),\n",
       "                                                 ('label', OrdinalEncoder(),\n",
       "                                                  [10]),\n",
       "                                                 ('scaler', StandardScaler(),\n",
       "                                                  [2, 7])])),\n",
       "                ('classifier1',\n",
       "                 XGBClassifier(base_score=None, booster=None, callbacks=None,\n",
       "                               colsample_bylevel=None, colsam...\n",
       "                               feature_types=None, gamma=None, grow_policy=None,\n",
       "                               importance_type=None,\n",
       "                               interaction_constraints=None, learning_rate=0.1,\n",
       "                               max_bin=None, max_cat_threshold=None,\n",
       "                               max_cat_to_onehot=None, max_delta_step=None,\n",
       "                               max_depth=5, max_leaves=None,\n",
       "                               min_child_weight=None, missing=nan,\n",
       "                               monotone_constraints=None, multi_strategy=None,\n",
       "                               n_estimators=200, n_jobs=None,\n",
       "                               num_parallel_tree=None, random_state=42, ...))])"
      ]
     },
     "execution_count": 20,
     "metadata": {},
     "output_type": "execute_result"
    }
   ],
   "source": [
    "pipe.fit(x_train,y_train)\n",
    "pipe2.fit(x_train,y_train)\n",
    "pipe3.fit(x_train,y_train)\n",
    "pipe4.fit(x_train,y_train)\n"
   ]
  },
  {
   "cell_type": "code",
   "execution_count": 21,
   "id": "98536056",
   "metadata": {
    "execution": {
     "iopub.execute_input": "2024-10-27T15:48:14.047393Z",
     "iopub.status.busy": "2024-10-27T15:48:14.046900Z",
     "iopub.status.idle": "2024-10-27T15:48:15.264012Z",
     "shell.execute_reply": "2024-10-27T15:48:15.262990Z"
    },
    "papermill": {
     "duration": 1.235794,
     "end_time": "2024-10-27T15:48:15.266793",
     "exception": false,
     "start_time": "2024-10-27T15:48:14.030999",
     "status": "completed"
    },
    "tags": []
   },
   "outputs": [],
   "source": [
    "x_out = pipe.predict(x_train)\n",
    "x_out2 = pipe2.predict(x_train)\n",
    "x_out3= pipe3.predict(x_train)\n",
    "x_out4= pipe4.predict(x_train)"
   ]
  },
  {
   "cell_type": "code",
   "execution_count": 22,
   "id": "915f0305",
   "metadata": {
    "execution": {
     "iopub.execute_input": "2024-10-27T15:48:15.301940Z",
     "iopub.status.busy": "2024-10-27T15:48:15.301025Z",
     "iopub.status.idle": "2024-10-27T15:48:15.314939Z",
     "shell.execute_reply": "2024-10-27T15:48:15.313651Z"
    },
    "papermill": {
     "duration": 0.034146,
     "end_time": "2024-10-27T15:48:15.317617",
     "exception": false,
     "start_time": "2024-10-27T15:48:15.283471",
     "status": "completed"
    },
    "tags": []
   },
   "outputs": [
    {
     "data": {
      "text/plain": [
       "89.98380083553586"
      ]
     },
     "execution_count": 22,
     "metadata": {},
     "output_type": "execute_result"
    }
   ],
   "source": [
    "accuracy_score(y_train,x_out)*100"
   ]
  },
  {
   "cell_type": "code",
   "execution_count": 23,
   "id": "4fd49337",
   "metadata": {
    "execution": {
     "iopub.execute_input": "2024-10-27T15:48:15.348913Z",
     "iopub.status.busy": "2024-10-27T15:48:15.348322Z",
     "iopub.status.idle": "2024-10-27T15:48:15.362205Z",
     "shell.execute_reply": "2024-10-27T15:48:15.361030Z"
    },
    "papermill": {
     "duration": 0.032366,
     "end_time": "2024-10-27T15:48:15.364947",
     "exception": false,
     "start_time": "2024-10-27T15:48:15.332581",
     "status": "completed"
    },
    "tags": []
   },
   "outputs": [
    {
     "data": {
      "text/plain": [
       "93.58342569699036"
      ]
     },
     "execution_count": 23,
     "metadata": {},
     "output_type": "execute_result"
    }
   ],
   "source": [
    "accuracy_score(y_train,x_out2)*100"
   ]
  },
  {
   "cell_type": "code",
   "execution_count": 24,
   "id": "13a2bed4",
   "metadata": {
    "execution": {
     "iopub.execute_input": "2024-10-27T15:48:15.395627Z",
     "iopub.status.busy": "2024-10-27T15:48:15.395179Z",
     "iopub.status.idle": "2024-10-27T15:48:15.410488Z",
     "shell.execute_reply": "2024-10-27T15:48:15.409173Z"
    },
    "papermill": {
     "duration": 0.033812,
     "end_time": "2024-10-27T15:48:15.413137",
     "exception": false,
     "start_time": "2024-10-27T15:48:15.379325",
     "status": "completed"
    },
    "tags": []
   },
   "outputs": [
    {
     "data": {
      "text/plain": [
       "95.57507033847727"
      ]
     },
     "execution_count": 24,
     "metadata": {},
     "output_type": "execute_result"
    }
   ],
   "source": [
    "accuracy_score(y_train,x_out3)*100"
   ]
  },
  {
   "cell_type": "code",
   "execution_count": 25,
   "id": "c0ba5ea8",
   "metadata": {
    "execution": {
     "iopub.execute_input": "2024-10-27T15:48:15.445544Z",
     "iopub.status.busy": "2024-10-27T15:48:15.445094Z",
     "iopub.status.idle": "2024-10-27T15:48:15.458505Z",
     "shell.execute_reply": "2024-10-27T15:48:15.457267Z"
    },
    "papermill": {
     "duration": 0.03338,
     "end_time": "2024-10-27T15:48:15.461499",
     "exception": false,
     "start_time": "2024-10-27T15:48:15.428119",
     "status": "completed"
    },
    "tags": []
   },
   "outputs": [
    {
     "data": {
      "text/plain": [
       "95.69102225253646"
      ]
     },
     "execution_count": 25,
     "metadata": {},
     "output_type": "execute_result"
    }
   ],
   "source": [
    "accuracy_score(y_train,x_out4)*100"
   ]
  },
  {
   "cell_type": "code",
   "execution_count": 26,
   "id": "0f34f05e",
   "metadata": {
    "execution": {
     "iopub.execute_input": "2024-10-27T15:48:15.494371Z",
     "iopub.status.busy": "2024-10-27T15:48:15.493895Z",
     "iopub.status.idle": "2024-10-27T15:48:15.501637Z",
     "shell.execute_reply": "2024-10-27T15:48:15.500143Z"
    },
    "papermill": {
     "duration": 0.02749,
     "end_time": "2024-10-27T15:48:15.504273",
     "exception": false,
     "start_time": "2024-10-27T15:48:15.476783",
     "status": "completed"
    },
    "tags": []
   },
   "outputs": [],
   "source": [
    "#  hyper parameter tuning using xgboost\n",
    "parameters = {\n",
    "    'classifier1__max_depth': [3, 6, 9,10],\n",
    "    'classifier1__learning_rate': [0.01, 0.05, 0.1, 0.2,0.5],\n",
    "    'classifier1__n_estimators': [50, 100, 200,300],\n",
    "    'classifier1__subsample': [0.8, 0.9, 1.0,0.5],       \n",
    "    'classifier1__colsample_bytree': [0.6, 0.8, 1.0,0.5]}\n",
    "hyper_xgb = GridSearchCV(pipe4, param_grid=parameters ,scoring=\"accuracy\",n_jobs=-1,cv=4,verbose=3)"
   ]
  },
  {
   "cell_type": "code",
   "execution_count": 27,
   "id": "a8a79136",
   "metadata": {
    "execution": {
     "iopub.execute_input": "2024-10-27T15:48:15.537622Z",
     "iopub.status.busy": "2024-10-27T15:48:15.537139Z",
     "iopub.status.idle": "2024-10-27T15:48:15.542949Z",
     "shell.execute_reply": "2024-10-27T15:48:15.541642Z"
    },
    "papermill": {
     "duration": 0.026337,
     "end_time": "2024-10-27T15:48:15.546133",
     "exception": false,
     "start_time": "2024-10-27T15:48:15.519796",
     "status": "completed"
    },
    "tags": []
   },
   "outputs": [],
   "source": [
    "from sklearn.model_selection import RandomizedSearchCV"
   ]
  },
  {
   "cell_type": "code",
   "execution_count": 28,
   "id": "2f1a5a7f",
   "metadata": {
    "execution": {
     "iopub.execute_input": "2024-10-27T15:48:15.577656Z",
     "iopub.status.busy": "2024-10-27T15:48:15.577208Z",
     "iopub.status.idle": "2024-10-27T15:48:15.583355Z",
     "shell.execute_reply": "2024-10-27T15:48:15.582171Z"
    },
    "papermill": {
     "duration": 0.025029,
     "end_time": "2024-10-27T15:48:15.585957",
     "exception": false,
     "start_time": "2024-10-27T15:48:15.560928",
     "status": "completed"
    },
    "tags": []
   },
   "outputs": [],
   "source": [
    "randm_cv = RandomizedSearchCV(pipe4, param_distributions=parameters ,scoring=\"accuracy\",n_jobs=-1,n_iter=50,cv=4,verbose=3,random_state=42)"
   ]
  },
  {
   "cell_type": "code",
   "execution_count": 29,
   "id": "7e4bbfee",
   "metadata": {
    "execution": {
     "iopub.execute_input": "2024-10-27T15:48:15.618144Z",
     "iopub.status.busy": "2024-10-27T15:48:15.617680Z",
     "iopub.status.idle": "2024-10-27T15:51:05.052207Z",
     "shell.execute_reply": "2024-10-27T15:51:05.050652Z"
    },
    "papermill": {
     "duration": 169.454784,
     "end_time": "2024-10-27T15:51:05.055512",
     "exception": false,
     "start_time": "2024-10-27T15:48:15.600728",
     "status": "completed"
    },
    "tags": []
   },
   "outputs": [
    {
     "name": "stdout",
     "output_type": "stream",
     "text": [
      "Fitting 4 folds for each of 50 candidates, totalling 200 fits\n",
      "[CV 3/4] END classifier1__colsample_bytree=0.5, classifier1__learning_rate=0.5, classifier1__max_depth=6, classifier1__n_estimators=200, classifier1__subsample=0.8;, score=0.945 total time=   3.2s\n",
      "[CV 3/4] END classifier1__colsample_bytree=1.0, classifier1__learning_rate=0.01, classifier1__max_depth=10, classifier1__n_estimators=100, classifier1__subsample=0.5;, score=0.949 total time=   3.0s\n",
      "[CV 2/4] END classifier1__colsample_bytree=1.0, classifier1__learning_rate=0.5, classifier1__max_depth=3, classifier1__n_estimators=50, classifier1__subsample=0.5;, score=0.940 total time=   0.9s\n",
      "[CV 2/4] END classifier1__colsample_bytree=1.0, classifier1__learning_rate=0.1, classifier1__max_depth=3, classifier1__n_estimators=50, classifier1__subsample=1.0;, score=0.939 total time=   0.8s\n",
      "[CV 2/4] END classifier1__colsample_bytree=1.0, classifier1__learning_rate=0.05, classifier1__max_depth=9, classifier1__n_estimators=100, classifier1__subsample=0.5;, score=0.951 total time=   2.7s\n",
      "[CV 2/4] END classifier1__colsample_bytree=0.8, classifier1__learning_rate=0.01, classifier1__max_depth=6, classifier1__n_estimators=200, classifier1__subsample=1.0;, score=0.946 total time=   4.2s\n",
      "[CV 4/4] END classifier1__colsample_bytree=0.6, classifier1__learning_rate=0.2, classifier1__max_depth=9, classifier1__n_estimators=300, classifier1__subsample=0.5;, score=0.946 total time=   6.8s\n",
      "[CV 4/4] END classifier1__colsample_bytree=0.8, classifier1__learning_rate=0.1, classifier1__max_depth=6, classifier1__n_estimators=50, classifier1__subsample=0.8;, score=0.952 total time=   1.1s\n",
      "[CV 4/4] END classifier1__colsample_bytree=0.8, classifier1__learning_rate=0.05, classifier1__max_depth=6, classifier1__n_estimators=100, classifier1__subsample=0.9;, score=0.952 total time=   1.9s\n",
      "[CV 4/4] END classifier1__colsample_bytree=0.5, classifier1__learning_rate=0.01, classifier1__max_depth=6, classifier1__n_estimators=200, classifier1__subsample=1.0;, score=0.943 total time=   3.3s\n",
      "[CV 4/4] END classifier1__colsample_bytree=1.0, classifier1__learning_rate=0.05, classifier1__max_depth=3, classifier1__n_estimators=50, classifier1__subsample=1.0;, score=0.935 total time=   0.9s\n",
      "[CV 4/4] END classifier1__colsample_bytree=0.8, classifier1__learning_rate=0.2, classifier1__max_depth=10, classifier1__n_estimators=300, classifier1__subsample=0.8;, score=0.949 total time=   7.4s\n",
      "[CV 4/4] END classifier1__colsample_bytree=0.6, classifier1__learning_rate=0.05, classifier1__max_depth=3, classifier1__n_estimators=50, classifier1__subsample=0.9;, score=0.937 total time=   0.9s\n",
      "[CV 4/4] END classifier1__colsample_bytree=0.6, classifier1__learning_rate=0.01, classifier1__max_depth=9, classifier1__n_estimators=300, classifier1__subsample=0.8;, score=0.951 total time=   7.3s\n",
      "[CV 4/4] END classifier1__colsample_bytree=0.5, classifier1__learning_rate=0.1, classifier1__max_depth=3, classifier1__n_estimators=200, classifier1__subsample=1.0;, score=0.936 total time=   2.8s\n",
      "[CV 3/4] END classifier1__colsample_bytree=0.8, classifier1__learning_rate=0.2, classifier1__max_depth=3, classifier1__n_estimators=300, classifier1__subsample=1.0;, score=0.952 total time=   3.0s\n",
      "[CV 2/4] END classifier1__colsample_bytree=0.5, classifier1__learning_rate=0.2, classifier1__max_depth=3, classifier1__n_estimators=100, classifier1__subsample=0.5;, score=0.946 total time=   1.4s\n",
      "[CV 2/4] END classifier1__colsample_bytree=0.8, classifier1__learning_rate=0.1, classifier1__max_depth=6, classifier1__n_estimators=300, classifier1__subsample=0.9;, score=0.937 total time=   4.5s\n",
      "[CV 2/4] END classifier1__colsample_bytree=0.8, classifier1__learning_rate=0.5, classifier1__max_depth=10, classifier1__n_estimators=100, classifier1__subsample=1.0;, score=0.936 total time=   2.5s\n",
      "[CV 2/4] END classifier1__colsample_bytree=0.5, classifier1__learning_rate=0.05, classifier1__max_depth=6, classifier1__n_estimators=100, classifier1__subsample=0.9;, score=0.950 total time=   1.9s\n",
      "[CV 2/4] END classifier1__colsample_bytree=0.5, classifier1__learning_rate=0.05, classifier1__max_depth=6, classifier1__n_estimators=50, classifier1__subsample=0.8;, score=0.946 total time=   1.1s\n",
      "[CV 2/4] END classifier1__colsample_bytree=0.6, classifier1__learning_rate=0.2, classifier1__max_depth=3, classifier1__n_estimators=100, classifier1__subsample=0.8;, score=0.947 total time=   1.3s\n",
      "[CV 2/4] END classifier1__colsample_bytree=0.6, classifier1__learning_rate=0.2, classifier1__max_depth=9, classifier1__n_estimators=100, classifier1__subsample=0.5;, score=0.935 total time=   2.5s\n",
      "[CV 2/4] END classifier1__colsample_bytree=1.0, classifier1__learning_rate=0.2, classifier1__max_depth=3, classifier1__n_estimators=50, classifier1__subsample=0.8;, score=0.944 total time=   0.8s\n",
      "[CV 2/4] END classifier1__colsample_bytree=0.8, classifier1__learning_rate=0.01, classifier1__max_depth=3, classifier1__n_estimators=300, classifier1__subsample=0.9;, score=0.934 total time=   3.5s\n",
      "[CV 2/4] END classifier1__colsample_bytree=0.5, classifier1__learning_rate=0.05, classifier1__max_depth=9, classifier1__n_estimators=300, classifier1__subsample=0.8;, score=0.948 total time=   6.6s\n",
      "[CV 2/4] END classifier1__colsample_bytree=0.8, classifier1__learning_rate=0.05, classifier1__max_depth=3, classifier1__n_estimators=200, classifier1__subsample=1.0;, score=0.944 total time=   2.4s\n",
      "[CV 2/4] END classifier1__colsample_bytree=0.8, classifier1__learning_rate=0.01, classifier1__max_depth=6, classifier1__n_estimators=100, classifier1__subsample=1.0;, score=0.937 total time=   1.8s\n",
      "[CV 1/4] END classifier1__colsample_bytree=0.6, classifier1__learning_rate=0.2, classifier1__max_depth=3, classifier1__n_estimators=100, classifier1__subsample=1.0;, score=0.912 total time=   1.3s\n",
      "[CV 1/4] END classifier1__colsample_bytree=0.5, classifier1__learning_rate=0.1, classifier1__max_depth=10, classifier1__n_estimators=100, classifier1__subsample=1.0;, score=0.935 total time=   2.8s\n",
      "[CV 1/4] END classifier1__colsample_bytree=0.8, classifier1__learning_rate=0.01, classifier1__max_depth=9, classifier1__n_estimators=300, classifier1__subsample=0.9;, score=0.949 total time=   7.8s\n",
      "[CV 1/4] END classifier1__colsample_bytree=0.6, classifier1__learning_rate=0.1, classifier1__max_depth=10, classifier1__n_estimators=200, classifier1__subsample=0.8;, score=0.919 total time=   5.0s\n",
      "[CV 1/4] END classifier1__colsample_bytree=0.5, classifier1__learning_rate=0.05, classifier1__max_depth=3, classifier1__n_estimators=50, classifier1__subsample=1.0;, score=0.936 total time=   0.9s\n",
      "[CV 4/4] END classifier1__colsample_bytree=0.5, classifier1__learning_rate=0.05, classifier1__max_depth=3, classifier1__n_estimators=50, classifier1__subsample=1.0;, score=0.938 total time=   0.9s\n",
      "[CV 4/4] END classifier1__colsample_bytree=0.6, classifier1__learning_rate=0.1, classifier1__max_depth=3, classifier1__n_estimators=50, classifier1__subsample=0.8;, score=0.941 total time=   0.9s\n",
      "[CV 4/4] END classifier1__colsample_bytree=1.0, classifier1__learning_rate=0.5, classifier1__max_depth=6, classifier1__n_estimators=200, classifier1__subsample=0.5;, score=0.942 total time=   3.9s\n",
      "[CV 4/4] END classifier1__colsample_bytree=0.5, classifier1__learning_rate=0.5, classifier1__max_depth=10, classifier1__n_estimators=300, classifier1__subsample=0.9;, score=0.947 total time=   7.7s\n",
      "[CV 4/4] END classifier1__colsample_bytree=0.6, classifier1__learning_rate=0.01, classifier1__max_depth=10, classifier1__n_estimators=50, classifier1__subsample=0.5;, score=0.858 total time=   1.6s\n",
      "[CV 4/4] END classifier1__colsample_bytree=0.6, classifier1__learning_rate=0.2, classifier1__max_depth=10, classifier1__n_estimators=50, classifier1__subsample=0.8;, score=0.948 total time=   1.6s\n",
      "[CV 4/4] END classifier1__colsample_bytree=0.5, classifier1__learning_rate=0.2, classifier1__max_depth=6, classifier1__n_estimators=200, classifier1__subsample=0.8;, score=0.938 total time=   3.1s\n",
      "[CV 3/4] END classifier1__colsample_bytree=1.0, classifier1__learning_rate=0.01, classifier1__max_depth=6, classifier1__n_estimators=300, classifier1__subsample=0.5;, score=0.949 total time=   5.2s\n",
      "[CV 2/4] END classifier1__colsample_bytree=0.5, classifier1__learning_rate=0.5, classifier1__max_depth=6, classifier1__n_estimators=200, classifier1__subsample=0.8;, score=0.911 total time=   3.2s\n",
      "[CV 2/4] END classifier1__colsample_bytree=1.0, classifier1__learning_rate=0.01, classifier1__max_depth=10, classifier1__n_estimators=100, classifier1__subsample=0.5;, score=0.948 total time=   3.0s\n",
      "[CV 1/4] END classifier1__colsample_bytree=1.0, classifier1__learning_rate=0.5, classifier1__max_depth=3, classifier1__n_estimators=50, classifier1__subsample=0.5;, score=0.906 total time=   0.8s\n",
      "[CV 1/4] END classifier1__colsample_bytree=1.0, classifier1__learning_rate=0.1, classifier1__max_depth=3, classifier1__n_estimators=50, classifier1__subsample=1.0;, score=0.938 total time=   0.8s\n",
      "[CV 1/4] END classifier1__colsample_bytree=1.0, classifier1__learning_rate=0.05, classifier1__max_depth=9, classifier1__n_estimators=100, classifier1__subsample=0.5;, score=0.945 total time=   2.6s\n",
      "[CV 1/4] END classifier1__colsample_bytree=0.8, classifier1__learning_rate=0.01, classifier1__max_depth=6, classifier1__n_estimators=200, classifier1__subsample=1.0;, score=0.945 total time=   3.8s\n",
      "[CV 2/4] END classifier1__colsample_bytree=0.6, classifier1__learning_rate=0.2, classifier1__max_depth=9, classifier1__n_estimators=300, classifier1__subsample=0.5;, score=0.928 total time=   7.0s\n",
      "[CV 1/4] END classifier1__colsample_bytree=0.8, classifier1__learning_rate=0.1, classifier1__max_depth=6, classifier1__n_estimators=50, classifier1__subsample=0.8;, score=0.948 total time=   1.1s\n",
      "[CV 1/4] END classifier1__colsample_bytree=0.8, classifier1__learning_rate=0.05, classifier1__max_depth=6, classifier1__n_estimators=100, classifier1__subsample=0.9;, score=0.948 total time=   2.0s\n",
      "[CV 1/4] END classifier1__colsample_bytree=0.5, classifier1__learning_rate=0.01, classifier1__max_depth=6, classifier1__n_estimators=200, classifier1__subsample=1.0;, score=0.944 total time=   3.3s\n",
      "[CV 1/4] END classifier1__colsample_bytree=1.0, classifier1__learning_rate=0.05, classifier1__max_depth=3, classifier1__n_estimators=50, classifier1__subsample=1.0;, score=0.935 total time=   0.9s\n",
      "[CV 1/4] END classifier1__colsample_bytree=0.8, classifier1__learning_rate=0.2, classifier1__max_depth=10, classifier1__n_estimators=300, classifier1__subsample=0.8;, score=0.914 total time=   7.4s\n",
      "[CV 1/4] END classifier1__colsample_bytree=0.6, classifier1__learning_rate=0.05, classifier1__max_depth=3, classifier1__n_estimators=50, classifier1__subsample=0.9;, score=0.935 total time=   0.8s\n",
      "[CV 1/4] END classifier1__colsample_bytree=0.6, classifier1__learning_rate=0.01, classifier1__max_depth=9, classifier1__n_estimators=300, classifier1__subsample=0.8;, score=0.950 total time=   7.3s\n",
      "[CV 1/4] END classifier1__colsample_bytree=0.5, classifier1__learning_rate=0.1, classifier1__max_depth=3, classifier1__n_estimators=200, classifier1__subsample=1.0;, score=0.918 total time=   2.5s\n",
      "[CV 1/4] END classifier1__colsample_bytree=0.8, classifier1__learning_rate=0.2, classifier1__max_depth=3, classifier1__n_estimators=300, classifier1__subsample=1.0;, score=0.904 total time=   3.1s\n",
      "[CV 1/4] END classifier1__colsample_bytree=0.5, classifier1__learning_rate=0.2, classifier1__max_depth=3, classifier1__n_estimators=100, classifier1__subsample=0.5;, score=0.903 total time=   1.4s\n",
      "[CV 1/4] END classifier1__colsample_bytree=0.8, classifier1__learning_rate=0.1, classifier1__max_depth=6, classifier1__n_estimators=300, classifier1__subsample=0.9;, score=0.905 total time=   4.6s\n",
      "[CV 1/4] END classifier1__colsample_bytree=0.8, classifier1__learning_rate=0.5, classifier1__max_depth=10, classifier1__n_estimators=100, classifier1__subsample=1.0;, score=0.902 total time=   2.5s\n",
      "[CV 1/4] END classifier1__colsample_bytree=0.5, classifier1__learning_rate=0.05, classifier1__max_depth=6, classifier1__n_estimators=100, classifier1__subsample=0.9;, score=0.947 total time=   1.9s\n",
      "[CV 1/4] END classifier1__colsample_bytree=0.5, classifier1__learning_rate=0.05, classifier1__max_depth=6, classifier1__n_estimators=50, classifier1__subsample=0.8;, score=0.946 total time=   1.1s\n",
      "[CV 1/4] END classifier1__colsample_bytree=0.6, classifier1__learning_rate=0.2, classifier1__max_depth=3, classifier1__n_estimators=100, classifier1__subsample=0.8;, score=0.900 total time=   1.3s\n",
      "[CV 1/4] END classifier1__colsample_bytree=0.6, classifier1__learning_rate=0.2, classifier1__max_depth=9, classifier1__n_estimators=100, classifier1__subsample=0.5;, score=0.893 total time=   2.5s\n",
      "[CV 1/4] END classifier1__colsample_bytree=1.0, classifier1__learning_rate=0.2, classifier1__max_depth=3, classifier1__n_estimators=50, classifier1__subsample=0.8;, score=0.927 total time=   0.9s\n",
      "[CV 1/4] END classifier1__colsample_bytree=0.8, classifier1__learning_rate=0.01, classifier1__max_depth=3, classifier1__n_estimators=300, classifier1__subsample=0.9;, score=0.936 total time=   3.5s\n",
      "[CV 1/4] END classifier1__colsample_bytree=0.5, classifier1__learning_rate=0.05, classifier1__max_depth=9, classifier1__n_estimators=300, classifier1__subsample=0.8;, score=0.924 total time=   6.7s\n",
      "[CV 1/4] END classifier1__colsample_bytree=0.8, classifier1__learning_rate=0.05, classifier1__max_depth=3, classifier1__n_estimators=200, classifier1__subsample=1.0;, score=0.927 total time=   2.7s\n",
      "[CV 1/4] END classifier1__colsample_bytree=0.8, classifier1__learning_rate=0.01, classifier1__max_depth=6, classifier1__n_estimators=100, classifier1__subsample=1.0;, score=0.937 total time=   2.1s\n",
      "[CV 2/4] END classifier1__colsample_bytree=0.6, classifier1__learning_rate=0.2, classifier1__max_depth=3, classifier1__n_estimators=100, classifier1__subsample=1.0;, score=0.947 total time=   1.3s\n",
      "[CV 2/4] END classifier1__colsample_bytree=0.5, classifier1__learning_rate=0.1, classifier1__max_depth=10, classifier1__n_estimators=100, classifier1__subsample=1.0;, score=0.950 total time=   2.8s\n",
      "[CV 2/4] END classifier1__colsample_bytree=0.8, classifier1__learning_rate=0.01, classifier1__max_depth=9, classifier1__n_estimators=300, classifier1__subsample=0.9;, score=0.952 total time=   7.9s\n",
      "[CV 2/4] END classifier1__colsample_bytree=0.6, classifier1__learning_rate=0.1, classifier1__max_depth=10, classifier1__n_estimators=200, classifier1__subsample=0.8;, score=0.943 total time=   5.0s\n",
      "[CV 2/4] END classifier1__colsample_bytree=0.5, classifier1__learning_rate=0.05, classifier1__max_depth=3, classifier1__n_estimators=50, classifier1__subsample=1.0;, score=0.935 total time=   0.8s\n",
      "[CV 2/4] END classifier1__colsample_bytree=0.6, classifier1__learning_rate=0.1, classifier1__max_depth=3, classifier1__n_estimators=50, classifier1__subsample=0.8;, score=0.937 total time=   0.9s\n",
      "[CV 2/4] END classifier1__colsample_bytree=1.0, classifier1__learning_rate=0.5, classifier1__max_depth=6, classifier1__n_estimators=200, classifier1__subsample=0.5;, score=0.918 total time=   3.9s\n",
      "[CV 2/4] END classifier1__colsample_bytree=0.5, classifier1__learning_rate=0.5, classifier1__max_depth=10, classifier1__n_estimators=300, classifier1__subsample=0.9;, score=0.932 total time=   7.3s\n",
      "[CV 2/4] END classifier1__colsample_bytree=0.6, classifier1__learning_rate=0.01, classifier1__max_depth=10, classifier1__n_estimators=50, classifier1__subsample=0.5;, score=0.859 total time=   1.9s\n",
      "[CV 2/4] END classifier1__colsample_bytree=0.6, classifier1__learning_rate=0.2, classifier1__max_depth=10, classifier1__n_estimators=50, classifier1__subsample=0.8;, score=0.949 total time=   1.6s\n",
      "[CV 2/4] END classifier1__colsample_bytree=0.5, classifier1__learning_rate=0.2, classifier1__max_depth=6, classifier1__n_estimators=200, classifier1__subsample=0.8;, score=0.932 total time=   3.2s\n",
      "[CV 2/4] END classifier1__colsample_bytree=1.0, classifier1__learning_rate=0.01, classifier1__max_depth=6, classifier1__n_estimators=300, classifier1__subsample=0.5;, score=0.949 total time=   5.2s\n",
      "[CV 2/4] END classifier1__colsample_bytree=0.8, classifier1__learning_rate=0.05, classifier1__max_depth=10, classifier1__n_estimators=200, classifier1__subsample=1.0;, score=0.950 total time=   5.3s\n",
      "[CV 4/4] END classifier1__colsample_bytree=0.5, classifier1__learning_rate=0.5, classifier1__max_depth=6, classifier1__n_estimators=200, classifier1__subsample=0.8;, score=0.946 total time=   3.2s\n",
      "[CV 4/4] END classifier1__colsample_bytree=1.0, classifier1__learning_rate=0.01, classifier1__max_depth=10, classifier1__n_estimators=100, classifier1__subsample=0.5;, score=0.949 total time=   3.1s\n",
      "[CV 4/4] END classifier1__colsample_bytree=1.0, classifier1__learning_rate=0.5, classifier1__max_depth=3, classifier1__n_estimators=50, classifier1__subsample=0.5;, score=0.945 total time=   0.9s\n",
      "[CV 4/4] END classifier1__colsample_bytree=1.0, classifier1__learning_rate=0.1, classifier1__max_depth=3, classifier1__n_estimators=50, classifier1__subsample=1.0;, score=0.941 total time=   0.9s\n",
      "[CV 4/4] END classifier1__colsample_bytree=1.0, classifier1__learning_rate=0.05, classifier1__max_depth=9, classifier1__n_estimators=100, classifier1__subsample=0.5;, score=0.953 total time=   2.7s\n",
      "[CV 3/4] END classifier1__colsample_bytree=0.8, classifier1__learning_rate=0.01, classifier1__max_depth=6, classifier1__n_estimators=200, classifier1__subsample=1.0;, score=0.946 total time=   3.6s\n",
      "[CV 1/4] END classifier1__colsample_bytree=0.6, classifier1__learning_rate=0.2, classifier1__max_depth=9, classifier1__n_estimators=300, classifier1__subsample=0.5;, score=0.892 total time=   7.1s\n",
      "[CV 2/4] END classifier1__colsample_bytree=0.8, classifier1__learning_rate=0.1, classifier1__max_depth=6, classifier1__n_estimators=50, classifier1__subsample=0.8;, score=0.952 total time=   1.1s\n",
      "[CV 2/4] END classifier1__colsample_bytree=0.8, classifier1__learning_rate=0.05, classifier1__max_depth=6, classifier1__n_estimators=100, classifier1__subsample=0.9;, score=0.951 total time=   2.0s\n",
      "[CV 2/4] END classifier1__colsample_bytree=0.5, classifier1__learning_rate=0.01, classifier1__max_depth=6, classifier1__n_estimators=200, classifier1__subsample=1.0;, score=0.942 total time=   3.3s\n",
      "[CV 2/4] END classifier1__colsample_bytree=1.0, classifier1__learning_rate=0.05, classifier1__max_depth=3, classifier1__n_estimators=50, classifier1__subsample=1.0;, score=0.932 total time=   0.9s\n",
      "[CV 2/4] END classifier1__colsample_bytree=0.8, classifier1__learning_rate=0.2, classifier1__max_depth=10, classifier1__n_estimators=300, classifier1__subsample=0.8;, score=0.942 total time=   7.4s\n",
      "[CV 2/4] END classifier1__colsample_bytree=0.6, classifier1__learning_rate=0.05, classifier1__max_depth=3, classifier1__n_estimators=50, classifier1__subsample=0.9;, score=0.935 total time=   0.9s\n",
      "[CV 2/4] END classifier1__colsample_bytree=0.6, classifier1__learning_rate=0.01, classifier1__max_depth=9, classifier1__n_estimators=300, classifier1__subsample=0.8;, score=0.950 total time=   7.3s\n",
      "[CV 2/4] END classifier1__colsample_bytree=0.5, classifier1__learning_rate=0.1, classifier1__max_depth=3, classifier1__n_estimators=200, classifier1__subsample=1.0;, score=0.944 total time=   3.3s\n",
      "[CV 4/4] END classifier1__colsample_bytree=0.8, classifier1__learning_rate=0.2, classifier1__max_depth=3, classifier1__n_estimators=300, classifier1__subsample=1.0;, score=0.931 total time=   3.1s\n",
      "[CV 4/4] END classifier1__colsample_bytree=0.5, classifier1__learning_rate=0.2, classifier1__max_depth=3, classifier1__n_estimators=100, classifier1__subsample=0.5;, score=0.943 total time=   1.4s\n",
      "[CV 4/4] END classifier1__colsample_bytree=0.8, classifier1__learning_rate=0.1, classifier1__max_depth=6, classifier1__n_estimators=300, classifier1__subsample=0.9;, score=0.943 total time=   4.5s\n",
      "[CV 4/4] END classifier1__colsample_bytree=0.8, classifier1__learning_rate=0.5, classifier1__max_depth=10, classifier1__n_estimators=100, classifier1__subsample=1.0;, score=0.949 total time=   2.5s\n",
      "[CV 4/4] END classifier1__colsample_bytree=0.5, classifier1__learning_rate=0.05, classifier1__max_depth=6, classifier1__n_estimators=100, classifier1__subsample=0.9;, score=0.952 total time=   1.9s\n",
      "[CV 4/4] END classifier1__colsample_bytree=0.5, classifier1__learning_rate=0.05, classifier1__max_depth=6, classifier1__n_estimators=50, classifier1__subsample=0.8;, score=0.946 total time=   1.1s\n",
      "[CV 4/4] END classifier1__colsample_bytree=0.6, classifier1__learning_rate=0.2, classifier1__max_depth=3, classifier1__n_estimators=100, classifier1__subsample=0.8;, score=0.938 total time=   1.4s\n",
      "[CV 4/4] END classifier1__colsample_bytree=0.6, classifier1__learning_rate=0.2, classifier1__max_depth=9, classifier1__n_estimators=100, classifier1__subsample=0.5;, score=0.947 total time=   2.4s\n",
      "[CV 4/4] END classifier1__colsample_bytree=1.0, classifier1__learning_rate=0.2, classifier1__max_depth=3, classifier1__n_estimators=50, classifier1__subsample=0.8;, score=0.946 total time=   0.9s\n",
      "[CV 4/4] END classifier1__colsample_bytree=0.8, classifier1__learning_rate=0.01, classifier1__max_depth=3, classifier1__n_estimators=300, classifier1__subsample=0.9;, score=0.939 total time=   3.4s\n",
      "[CV 4/4] END classifier1__colsample_bytree=0.5, classifier1__learning_rate=0.05, classifier1__max_depth=9, classifier1__n_estimators=300, classifier1__subsample=0.8;, score=0.944 total time=   6.6s\n",
      "[CV 4/4] END classifier1__colsample_bytree=0.8, classifier1__learning_rate=0.05, classifier1__max_depth=3, classifier1__n_estimators=200, classifier1__subsample=1.0;, score=0.944 total time=   2.9s\n",
      "[CV 3/4] END classifier1__colsample_bytree=0.8, classifier1__learning_rate=0.01, classifier1__max_depth=6, classifier1__n_estimators=100, classifier1__subsample=1.0;, score=0.939 total time=   1.9s\n",
      "[CV 3/4] END classifier1__colsample_bytree=0.6, classifier1__learning_rate=0.2, classifier1__max_depth=3, classifier1__n_estimators=100, classifier1__subsample=1.0;, score=0.951 total time=   1.3s\n",
      "[CV 3/4] END classifier1__colsample_bytree=0.5, classifier1__learning_rate=0.1, classifier1__max_depth=10, classifier1__n_estimators=100, classifier1__subsample=1.0;, score=0.953 total time=   2.9s\n",
      "[CV 3/4] END classifier1__colsample_bytree=0.8, classifier1__learning_rate=0.01, classifier1__max_depth=9, classifier1__n_estimators=300, classifier1__subsample=0.9;, score=0.952 total time=   7.8s\n",
      "[CV 3/4] END classifier1__colsample_bytree=0.6, classifier1__learning_rate=0.1, classifier1__max_depth=10, classifier1__n_estimators=200, classifier1__subsample=0.8;, score=0.952 total time=   5.0s\n",
      "[CV 3/4] END classifier1__colsample_bytree=0.5, classifier1__learning_rate=0.05, classifier1__max_depth=3, classifier1__n_estimators=50, classifier1__subsample=1.0;, score=0.937 total time=   0.9s\n",
      "[CV 3/4] END classifier1__colsample_bytree=0.6, classifier1__learning_rate=0.1, classifier1__max_depth=3, classifier1__n_estimators=50, classifier1__subsample=0.8;, score=0.940 total time=   0.9s\n",
      "[CV 3/4] END classifier1__colsample_bytree=1.0, classifier1__learning_rate=0.5, classifier1__max_depth=6, classifier1__n_estimators=200, classifier1__subsample=0.5;, score=0.944 total time=   3.9s\n",
      "[CV 3/4] END classifier1__colsample_bytree=0.5, classifier1__learning_rate=0.5, classifier1__max_depth=10, classifier1__n_estimators=300, classifier1__subsample=0.9;, score=0.949 total time=   7.9s\n",
      "[CV 3/4] END classifier1__colsample_bytree=0.6, classifier1__learning_rate=0.01, classifier1__max_depth=10, classifier1__n_estimators=50, classifier1__subsample=0.5;, score=0.858 total time=   1.6s\n",
      "[CV 3/4] END classifier1__colsample_bytree=0.6, classifier1__learning_rate=0.2, classifier1__max_depth=10, classifier1__n_estimators=50, classifier1__subsample=0.8;, score=0.952 total time=   1.6s\n",
      "[CV 3/4] END classifier1__colsample_bytree=0.5, classifier1__learning_rate=0.2, classifier1__max_depth=6, classifier1__n_estimators=200, classifier1__subsample=0.8;, score=0.951 total time=   3.1s\n",
      "[CV 4/4] END classifier1__colsample_bytree=1.0, classifier1__learning_rate=0.01, classifier1__max_depth=6, classifier1__n_estimators=300, classifier1__subsample=0.5;, score=0.950 total time=   5.3s\n",
      "[CV 4/4] END classifier1__colsample_bytree=0.8, classifier1__learning_rate=0.05, classifier1__max_depth=10, classifier1__n_estimators=200, classifier1__subsample=1.0;, score=0.947 total time=   5.1s\n",
      "[CV 1/4] END classifier1__colsample_bytree=0.5, classifier1__learning_rate=0.5, classifier1__max_depth=6, classifier1__n_estimators=200, classifier1__subsample=0.8;, score=0.896 total time=   3.3s\n",
      "[CV 1/4] END classifier1__colsample_bytree=1.0, classifier1__learning_rate=0.01, classifier1__max_depth=10, classifier1__n_estimators=100, classifier1__subsample=0.5;, score=0.945 total time=   3.1s\n",
      "[CV 3/4] END classifier1__colsample_bytree=1.0, classifier1__learning_rate=0.5, classifier1__max_depth=3, classifier1__n_estimators=50, classifier1__subsample=0.5;, score=0.949 total time=   0.9s\n",
      "[CV 3/4] END classifier1__colsample_bytree=1.0, classifier1__learning_rate=0.1, classifier1__max_depth=3, classifier1__n_estimators=50, classifier1__subsample=1.0;, score=0.943 total time=   0.9s\n",
      "[CV 3/4] END classifier1__colsample_bytree=1.0, classifier1__learning_rate=0.05, classifier1__max_depth=9, classifier1__n_estimators=100, classifier1__subsample=0.5;, score=0.952 total time=   2.7s\n",
      "[CV 4/4] END classifier1__colsample_bytree=0.8, classifier1__learning_rate=0.01, classifier1__max_depth=6, classifier1__n_estimators=200, classifier1__subsample=1.0;, score=0.948 total time=   4.0s\n",
      "[CV 3/4] END classifier1__colsample_bytree=0.6, classifier1__learning_rate=0.2, classifier1__max_depth=9, classifier1__n_estimators=300, classifier1__subsample=0.5;, score=0.948 total time=   6.9s\n",
      "[CV 3/4] END classifier1__colsample_bytree=0.8, classifier1__learning_rate=0.1, classifier1__max_depth=6, classifier1__n_estimators=50, classifier1__subsample=0.8;, score=0.953 total time=   1.1s\n",
      "[CV 3/4] END classifier1__colsample_bytree=0.8, classifier1__learning_rate=0.05, classifier1__max_depth=6, classifier1__n_estimators=100, classifier1__subsample=0.9;, score=0.952 total time=   1.9s\n",
      "[CV 3/4] END classifier1__colsample_bytree=0.5, classifier1__learning_rate=0.01, classifier1__max_depth=6, classifier1__n_estimators=200, classifier1__subsample=1.0;, score=0.943 total time=   3.2s\n",
      "[CV 3/4] END classifier1__colsample_bytree=1.0, classifier1__learning_rate=0.05, classifier1__max_depth=3, classifier1__n_estimators=50, classifier1__subsample=1.0;, score=0.935 total time=   0.9s\n",
      "[CV 3/4] END classifier1__colsample_bytree=0.8, classifier1__learning_rate=0.2, classifier1__max_depth=10, classifier1__n_estimators=300, classifier1__subsample=0.8;, score=0.951 total time=   7.4s\n",
      "[CV 3/4] END classifier1__colsample_bytree=0.6, classifier1__learning_rate=0.05, classifier1__max_depth=3, classifier1__n_estimators=50, classifier1__subsample=0.9;, score=0.936 total time=   0.9s\n",
      "[CV 3/4] END classifier1__colsample_bytree=0.6, classifier1__learning_rate=0.01, classifier1__max_depth=9, classifier1__n_estimators=300, classifier1__subsample=0.8;, score=0.952 total time=   7.4s\n",
      "[CV 3/4] END classifier1__colsample_bytree=0.5, classifier1__learning_rate=0.1, classifier1__max_depth=3, classifier1__n_estimators=200, classifier1__subsample=1.0;, score=0.949 total time=   2.8s\n",
      "[CV 2/4] END classifier1__colsample_bytree=0.8, classifier1__learning_rate=0.2, classifier1__max_depth=3, classifier1__n_estimators=300, classifier1__subsample=1.0;, score=0.942 total time=   3.1s\n",
      "[CV 3/4] END classifier1__colsample_bytree=0.5, classifier1__learning_rate=0.2, classifier1__max_depth=3, classifier1__n_estimators=100, classifier1__subsample=0.5;, score=0.949 total time=   1.4s\n",
      "[CV 3/4] END classifier1__colsample_bytree=0.8, classifier1__learning_rate=0.1, classifier1__max_depth=6, classifier1__n_estimators=300, classifier1__subsample=0.9;, score=0.953 total time=   4.5s\n",
      "[CV 3/4] END classifier1__colsample_bytree=0.8, classifier1__learning_rate=0.5, classifier1__max_depth=10, classifier1__n_estimators=100, classifier1__subsample=1.0;, score=0.951 total time=   2.5s\n",
      "[CV 3/4] END classifier1__colsample_bytree=0.5, classifier1__learning_rate=0.05, classifier1__max_depth=6, classifier1__n_estimators=100, classifier1__subsample=0.9;, score=0.951 total time=   1.9s\n",
      "[CV 3/4] END classifier1__colsample_bytree=0.5, classifier1__learning_rate=0.05, classifier1__max_depth=6, classifier1__n_estimators=50, classifier1__subsample=0.8;, score=0.946 total time=   1.1s\n",
      "[CV 3/4] END classifier1__colsample_bytree=0.6, classifier1__learning_rate=0.2, classifier1__max_depth=3, classifier1__n_estimators=100, classifier1__subsample=0.8;, score=0.950 total time=   1.3s\n",
      "[CV 3/4] END classifier1__colsample_bytree=0.6, classifier1__learning_rate=0.2, classifier1__max_depth=9, classifier1__n_estimators=100, classifier1__subsample=0.5;, score=0.949 total time=   2.5s\n",
      "[CV 3/4] END classifier1__colsample_bytree=1.0, classifier1__learning_rate=0.2, classifier1__max_depth=3, classifier1__n_estimators=50, classifier1__subsample=0.8;, score=0.946 total time=   0.9s\n",
      "[CV 3/4] END classifier1__colsample_bytree=0.8, classifier1__learning_rate=0.01, classifier1__max_depth=3, classifier1__n_estimators=300, classifier1__subsample=0.9;, score=0.937 total time=   3.5s\n",
      "[CV 3/4] END classifier1__colsample_bytree=0.5, classifier1__learning_rate=0.05, classifier1__max_depth=9, classifier1__n_estimators=300, classifier1__subsample=0.8;, score=0.954 total time=   6.7s\n",
      "[CV 3/4] END classifier1__colsample_bytree=0.8, classifier1__learning_rate=0.05, classifier1__max_depth=3, classifier1__n_estimators=200, classifier1__subsample=1.0;, score=0.946 total time=   3.4s\n",
      "[CV 4/4] END classifier1__colsample_bytree=0.8, classifier1__learning_rate=0.01, classifier1__max_depth=6, classifier1__n_estimators=100, classifier1__subsample=1.0;, score=0.939 total time=   1.9s\n",
      "[CV 4/4] END classifier1__colsample_bytree=0.6, classifier1__learning_rate=0.2, classifier1__max_depth=3, classifier1__n_estimators=100, classifier1__subsample=1.0;, score=0.940 total time=   1.3s\n",
      "[CV 4/4] END classifier1__colsample_bytree=0.5, classifier1__learning_rate=0.1, classifier1__max_depth=10, classifier1__n_estimators=100, classifier1__subsample=1.0;, score=0.946 total time=   2.7s\n",
      "[CV 4/4] END classifier1__colsample_bytree=0.8, classifier1__learning_rate=0.01, classifier1__max_depth=9, classifier1__n_estimators=300, classifier1__subsample=0.9;, score=0.953 total time=   7.8s\n",
      "[CV 4/4] END classifier1__colsample_bytree=0.6, classifier1__learning_rate=0.1, classifier1__max_depth=10, classifier1__n_estimators=200, classifier1__subsample=0.8;, score=0.946 total time=   5.0s\n",
      "[CV 1/4] END classifier1__colsample_bytree=0.6, classifier1__learning_rate=0.1, classifier1__max_depth=3, classifier1__n_estimators=50, classifier1__subsample=0.8;, score=0.939 total time=   0.9s\n",
      "[CV 1/4] END classifier1__colsample_bytree=1.0, classifier1__learning_rate=0.5, classifier1__max_depth=6, classifier1__n_estimators=200, classifier1__subsample=0.5;, score=0.872 total time=   3.9s\n",
      "[CV 1/4] END classifier1__colsample_bytree=0.5, classifier1__learning_rate=0.5, classifier1__max_depth=10, classifier1__n_estimators=300, classifier1__subsample=0.9;, score=0.903 total time=   7.2s\n",
      "[CV 1/4] END classifier1__colsample_bytree=0.6, classifier1__learning_rate=0.01, classifier1__max_depth=10, classifier1__n_estimators=50, classifier1__subsample=0.5;, score=0.859 total time=   1.6s\n",
      "[CV 1/4] END classifier1__colsample_bytree=0.6, classifier1__learning_rate=0.2, classifier1__max_depth=10, classifier1__n_estimators=50, classifier1__subsample=0.8;, score=0.924 total time=   1.6s\n",
      "[CV 1/4] END classifier1__colsample_bytree=0.5, classifier1__learning_rate=0.2, classifier1__max_depth=6, classifier1__n_estimators=200, classifier1__subsample=0.8;, score=0.907 total time=   3.2s\n",
      "[CV 1/4] END classifier1__colsample_bytree=1.0, classifier1__learning_rate=0.01, classifier1__max_depth=6, classifier1__n_estimators=300, classifier1__subsample=0.5;, score=0.948 total time=   5.2s\n",
      "[CV 1/4] END classifier1__colsample_bytree=0.8, classifier1__learning_rate=0.05, classifier1__max_depth=10, classifier1__n_estimators=200, classifier1__subsample=1.0;, score=0.922 total time=   5.2s\n",
      "[CV 1/4] END classifier1__colsample_bytree=0.5, classifier1__learning_rate=0.1, classifier1__max_depth=10, classifier1__n_estimators=200, classifier1__subsample=1.0;, score=0.920 total time=   4.9s\n"
     ]
    }
   ],
   "source": [
    "new_xgb = randm_cv.fit(x_train,y_train)"
   ]
  },
  {
   "cell_type": "code",
   "execution_count": 30,
   "id": "34b5b2c3",
   "metadata": {
    "execution": {
     "iopub.execute_input": "2024-10-27T15:51:05.091397Z",
     "iopub.status.busy": "2024-10-27T15:51:05.090893Z",
     "iopub.status.idle": "2024-10-27T15:51:05.548611Z",
     "shell.execute_reply": "2024-10-27T15:51:05.547527Z"
    },
    "papermill": {
     "duration": 0.479017,
     "end_time": "2024-10-27T15:51:05.551775",
     "exception": false,
     "start_time": "2024-10-27T15:51:05.072758",
     "status": "completed"
    },
    "tags": []
   },
   "outputs": [
    {
     "data": {
      "text/plain": [
       "95.59723761616506"
      ]
     },
     "execution_count": 30,
     "metadata": {},
     "output_type": "execute_result"
    }
   ],
   "source": [
    "x_out4= new_xgb.predict(x_train)\n",
    "accuracy_score(y_train,x_out4)*100"
   ]
  },
  {
   "cell_type": "code",
   "execution_count": 31,
   "id": "52da3583",
   "metadata": {
    "execution": {
     "iopub.execute_input": "2024-10-27T15:51:05.586159Z",
     "iopub.status.busy": "2024-10-27T15:51:05.585730Z",
     "iopub.status.idle": "2024-10-27T15:51:21.300670Z",
     "shell.execute_reply": "2024-10-27T15:51:21.299548Z"
    },
    "papermill": {
     "duration": 15.735671,
     "end_time": "2024-10-27T15:51:21.303555",
     "exception": false,
     "start_time": "2024-10-27T15:51:05.567884",
     "status": "completed"
    },
    "tags": []
   },
   "outputs": [],
   "source": [
    "import tensorflow as tf\n",
    "from tensorflow.keras import Sequential\n",
    "from tensorflow.keras.losses import BinaryCrossentropy\n",
    "from tensorflow.keras.layers import Dense"
   ]
  },
  {
   "cell_type": "code",
   "execution_count": 32,
   "id": "50743b3e",
   "metadata": {
    "execution": {
     "iopub.execute_input": "2024-10-27T15:51:21.338987Z",
     "iopub.status.busy": "2024-10-27T15:51:21.338196Z",
     "iopub.status.idle": "2024-10-27T15:51:21.476511Z",
     "shell.execute_reply": "2024-10-27T15:51:21.475103Z"
    },
    "papermill": {
     "duration": 0.159461,
     "end_time": "2024-10-27T15:51:21.479704",
     "exception": false,
     "start_time": "2024-10-27T15:51:21.320243",
     "status": "completed"
    },
    "tags": []
   },
   "outputs": [],
   "source": [
    "x_train_transform = pipe5.fit_transform(x_train)"
   ]
  },
  {
   "cell_type": "code",
   "execution_count": 33,
   "id": "29470d53",
   "metadata": {
    "execution": {
     "iopub.execute_input": "2024-10-27T15:51:21.514275Z",
     "iopub.status.busy": "2024-10-27T15:51:21.513810Z",
     "iopub.status.idle": "2024-10-27T15:52:51.048406Z",
     "shell.execute_reply": "2024-10-27T15:52:51.046984Z"
    },
    "papermill": {
     "duration": 89.555153,
     "end_time": "2024-10-27T15:52:51.051383",
     "exception": false,
     "start_time": "2024-10-27T15:51:21.496230",
     "status": "completed"
    },
    "tags": []
   },
   "outputs": [
    {
     "name": "stdout",
     "output_type": "stream",
     "text": [
      "Epoch 1/25\n",
      "\u001b[1m1833/1833\u001b[0m \u001b[32m━━━━━━━━━━━━━━━━━━━━\u001b[0m\u001b[37m\u001b[0m \u001b[1m5s\u001b[0m 2ms/step - accuracy: 0.7886 - loss: 111.8143\n",
      "Epoch 2/25\n",
      "\u001b[1m1833/1833\u001b[0m \u001b[32m━━━━━━━━━━━━━━━━━━━━\u001b[0m\u001b[37m\u001b[0m \u001b[1m3s\u001b[0m 2ms/step - accuracy: 0.8561 - loss: 0.4277\n",
      "Epoch 3/25\n",
      "\u001b[1m1833/1833\u001b[0m \u001b[32m━━━━━━━━━━━━━━━━━━━━\u001b[0m\u001b[37m\u001b[0m \u001b[1m3s\u001b[0m 2ms/step - accuracy: 0.8575 - loss: 0.4098\n",
      "Epoch 4/25\n",
      "\u001b[1m1833/1833\u001b[0m \u001b[32m━━━━━━━━━━━━━━━━━━━━\u001b[0m\u001b[37m\u001b[0m \u001b[1m3s\u001b[0m 2ms/step - accuracy: 0.8563 - loss: 0.4247\n",
      "Epoch 5/25\n",
      "\u001b[1m1833/1833\u001b[0m \u001b[32m━━━━━━━━━━━━━━━━━━━━\u001b[0m\u001b[37m\u001b[0m \u001b[1m3s\u001b[0m 2ms/step - accuracy: 0.8577 - loss: 0.4091\n",
      "Epoch 6/25\n",
      "\u001b[1m1833/1833\u001b[0m \u001b[32m━━━━━━━━━━━━━━━━━━━━\u001b[0m\u001b[37m\u001b[0m \u001b[1m3s\u001b[0m 2ms/step - accuracy: 0.8592 - loss: 0.4063\n",
      "Epoch 7/25\n",
      "\u001b[1m1833/1833\u001b[0m \u001b[32m━━━━━━━━━━━━━━━━━━━━\u001b[0m\u001b[37m\u001b[0m \u001b[1m4s\u001b[0m 2ms/step - accuracy: 0.8563 - loss: 0.4117\n",
      "Epoch 8/25\n",
      "\u001b[1m1833/1833\u001b[0m \u001b[32m━━━━━━━━━━━━━━━━━━━━\u001b[0m\u001b[37m\u001b[0m \u001b[1m5s\u001b[0m 2ms/step - accuracy: 0.8606 - loss: 0.4039\n",
      "Epoch 9/25\n",
      "\u001b[1m1833/1833\u001b[0m \u001b[32m━━━━━━━━━━━━━━━━━━━━\u001b[0m\u001b[37m\u001b[0m \u001b[1m3s\u001b[0m 2ms/step - accuracy: 0.8563 - loss: 0.4116\n",
      "Epoch 10/25\n",
      "\u001b[1m1833/1833\u001b[0m \u001b[32m━━━━━━━━━━━━━━━━━━━━\u001b[0m\u001b[37m\u001b[0m \u001b[1m4s\u001b[0m 2ms/step - accuracy: 0.8563 - loss: 0.4116\n",
      "Epoch 11/25\n",
      "\u001b[1m1833/1833\u001b[0m \u001b[32m━━━━━━━━━━━━━━━━━━━━\u001b[0m\u001b[37m\u001b[0m \u001b[1m4s\u001b[0m 2ms/step - accuracy: 0.8564 - loss: 0.4179\n",
      "Epoch 12/25\n",
      "\u001b[1m1833/1833\u001b[0m \u001b[32m━━━━━━━━━━━━━━━━━━━━\u001b[0m\u001b[37m\u001b[0m \u001b[1m3s\u001b[0m 2ms/step - accuracy: 0.8582 - loss: 0.4080\n",
      "Epoch 13/25\n",
      "\u001b[1m1833/1833\u001b[0m \u001b[32m━━━━━━━━━━━━━━━━━━━━\u001b[0m\u001b[37m\u001b[0m \u001b[1m4s\u001b[0m 2ms/step - accuracy: 0.8562 - loss: 0.4113\n",
      "Epoch 14/25\n",
      "\u001b[1m1833/1833\u001b[0m \u001b[32m━━━━━━━━━━━━━━━━━━━━\u001b[0m\u001b[37m\u001b[0m \u001b[1m4s\u001b[0m 2ms/step - accuracy: 0.8535 - loss: 0.4165\n",
      "Epoch 15/25\n",
      "\u001b[1m1833/1833\u001b[0m \u001b[32m━━━━━━━━━━━━━━━━━━━━\u001b[0m\u001b[37m\u001b[0m \u001b[1m3s\u001b[0m 2ms/step - accuracy: 0.8567 - loss: 0.4106\n",
      "Epoch 16/25\n",
      "\u001b[1m1833/1833\u001b[0m \u001b[32m━━━━━━━━━━━━━━━━━━━━\u001b[0m\u001b[37m\u001b[0m \u001b[1m3s\u001b[0m 2ms/step - accuracy: 0.8570 - loss: 0.4179\n",
      "Epoch 17/25\n",
      "\u001b[1m1833/1833\u001b[0m \u001b[32m━━━━━━━━━━━━━━━━━━━━\u001b[0m\u001b[37m\u001b[0m \u001b[1m3s\u001b[0m 2ms/step - accuracy: 0.8609 - loss: 0.4033\n",
      "Epoch 18/25\n",
      "\u001b[1m1833/1833\u001b[0m \u001b[32m━━━━━━━━━━━━━━━━━━━━\u001b[0m\u001b[37m\u001b[0m \u001b[1m3s\u001b[0m 2ms/step - accuracy: 0.8578 - loss: 0.4126\n",
      "Epoch 19/25\n",
      "\u001b[1m1833/1833\u001b[0m \u001b[32m━━━━━━━━━━━━━━━━━━━━\u001b[0m\u001b[37m\u001b[0m \u001b[1m3s\u001b[0m 2ms/step - accuracy: 0.8582 - loss: 0.4082\n",
      "Epoch 20/25\n",
      "\u001b[1m1833/1833\u001b[0m \u001b[32m━━━━━━━━━━━━━━━━━━━━\u001b[0m\u001b[37m\u001b[0m \u001b[1m3s\u001b[0m 2ms/step - accuracy: 0.8575 - loss: 0.4094\n",
      "Epoch 21/25\n",
      "\u001b[1m1833/1833\u001b[0m \u001b[32m━━━━━━━━━━━━━━━━━━━━\u001b[0m\u001b[37m\u001b[0m \u001b[1m3s\u001b[0m 2ms/step - accuracy: 0.8585 - loss: 0.4077\n",
      "Epoch 22/25\n",
      "\u001b[1m1833/1833\u001b[0m \u001b[32m━━━━━━━━━━━━━━━━━━━━\u001b[0m\u001b[37m\u001b[0m \u001b[1m3s\u001b[0m 2ms/step - accuracy: 0.8555 - loss: 0.4130\n",
      "Epoch 23/25\n",
      "\u001b[1m1833/1833\u001b[0m \u001b[32m━━━━━━━━━━━━━━━━━━━━\u001b[0m\u001b[37m\u001b[0m \u001b[1m3s\u001b[0m 2ms/step - accuracy: 0.8591 - loss: 0.4065\n",
      "Epoch 24/25\n",
      "\u001b[1m1833/1833\u001b[0m \u001b[32m━━━━━━━━━━━━━━━━━━━━\u001b[0m\u001b[37m\u001b[0m \u001b[1m3s\u001b[0m 2ms/step - accuracy: 0.8575 - loss: 0.4094\n",
      "Epoch 25/25\n",
      "\u001b[1m1833/1833\u001b[0m \u001b[32m━━━━━━━━━━━━━━━━━━━━\u001b[0m\u001b[37m\u001b[0m \u001b[1m3s\u001b[0m 2ms/step - accuracy: 0.8571 - loss: 0.4103\n"
     ]
    },
    {
     "data": {
      "text/plain": [
       "<keras.src.callbacks.history.History at 0x7b0be6bb0700>"
      ]
     },
     "execution_count": 33,
     "metadata": {},
     "output_type": "execute_result"
    }
   ],
   "source": [
    "model = Sequential([\n",
    "    Dense(units=20, activation='relu'),\n",
    "    Dense(units=10, activation='relu'),\n",
    "    Dense(units=5, activation='relu'),\n",
    "    Dense(units=1, activation='sigmoid')    \n",
    "])\n",
    "model.compile(loss=BinaryCrossentropy(),optimizer='adam',metrics=['accuracy'])\n",
    "             \n",
    "model.fit(x_train_transform,y_train,epochs=25)"
   ]
  },
  {
   "cell_type": "code",
   "execution_count": 34,
   "id": "d2e5977b",
   "metadata": {
    "execution": {
     "iopub.execute_input": "2024-10-27T15:52:51.434957Z",
     "iopub.status.busy": "2024-10-27T15:52:51.434484Z",
     "iopub.status.idle": "2024-10-27T15:52:55.015426Z",
     "shell.execute_reply": "2024-10-27T15:52:55.014142Z"
    },
    "papermill": {
     "duration": 3.777252,
     "end_time": "2024-10-27T15:52:55.018791",
     "exception": false,
     "start_time": "2024-10-27T15:52:51.241539",
     "status": "completed"
    },
    "tags": []
   },
   "outputs": [
    {
     "name": "stdout",
     "output_type": "stream",
     "text": [
      "\u001b[1m1833/1833\u001b[0m \u001b[32m━━━━━━━━━━━━━━━━━━━━\u001b[0m\u001b[37m\u001b[0m \u001b[1m2s\u001b[0m 1ms/step\n"
     ]
    }
   ],
   "source": [
    "y_train_transform = model.predict(x_train_transform)\n",
    "threshold=0.4\n",
    "new_y_train_transform = [1 if x>threshold else 0 for x in y_train_transform]"
   ]
  },
  {
   "cell_type": "code",
   "execution_count": 35,
   "id": "cd0a3ccc",
   "metadata": {
    "execution": {
     "iopub.execute_input": "2024-10-27T15:52:55.464839Z",
     "iopub.status.busy": "2024-10-27T15:52:55.463927Z",
     "iopub.status.idle": "2024-10-27T15:52:55.496468Z",
     "shell.execute_reply": "2024-10-27T15:52:55.495066Z"
    },
    "papermill": {
     "duration": 0.226658,
     "end_time": "2024-10-27T15:52:55.499355",
     "exception": false,
     "start_time": "2024-10-27T15:52:55.272697",
     "status": "completed"
    },
    "tags": []
   },
   "outputs": [
    {
     "data": {
      "text/plain": [
       "85.76690254923693"
      ]
     },
     "execution_count": 35,
     "metadata": {},
     "output_type": "execute_result"
    }
   ],
   "source": [
    "accuracy_score(y_train,new_y_train_transform)*100"
   ]
  },
  {
   "cell_type": "code",
   "execution_count": null,
   "id": "83088ad7",
   "metadata": {
    "papermill": {
     "duration": 0.19191,
     "end_time": "2024-10-27T15:52:55.881182",
     "exception": false,
     "start_time": "2024-10-27T15:52:55.689272",
     "status": "completed"
    },
    "tags": []
   },
   "outputs": [],
   "source": []
  }
 ],
 "metadata": {
  "kaggle": {
   "accelerator": "none",
   "dataSources": [
    {
     "databundleVersionId": 9709193,
     "sourceId": 84894,
     "sourceType": "competition"
    }
   ],
   "dockerImageVersionId": 30786,
   "isGpuEnabled": false,
   "isInternetEnabled": false,
   "language": "python",
   "sourceType": "notebook"
  },
  "kernelspec": {
   "display_name": "Python 3",
   "language": "python",
   "name": "python3"
  },
  "language_info": {
   "codemirror_mode": {
    "name": "ipython",
    "version": 3
   },
   "file_extension": ".py",
   "mimetype": "text/x-python",
   "name": "python",
   "nbconvert_exporter": "python",
   "pygments_lexer": "ipython3",
   "version": "3.10.14"
  },
  "papermill": {
   "default_parameters": {},
   "duration": 343.621494,
   "end_time": "2024-10-27T15:52:58.693901",
   "environment_variables": {},
   "exception": null,
   "input_path": "__notebook__.ipynb",
   "output_path": "__notebook__.ipynb",
   "parameters": {},
   "start_time": "2024-10-27T15:47:15.072407",
   "version": "2.6.0"
  }
 },
 "nbformat": 4,
 "nbformat_minor": 5
}
