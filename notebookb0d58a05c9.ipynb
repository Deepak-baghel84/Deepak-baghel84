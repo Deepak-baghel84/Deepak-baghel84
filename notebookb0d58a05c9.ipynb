{
 "cells": [
  {
   "cell_type": "code",
   "execution_count": 1,
   "id": "3e9b3659",
   "metadata": {
    "_cell_guid": "b1076dfc-b9ad-4769-8c92-a6c4dae69d19",
    "_uuid": "8f2839f25d086af736a60e9eeb907d3b93b6e0e5",
    "execution": {
     "iopub.execute_input": "2024-10-28T13:09:58.105160Z",
     "iopub.status.busy": "2024-10-28T13:09:58.104762Z",
     "iopub.status.idle": "2024-10-28T13:09:58.985510Z",
     "shell.execute_reply": "2024-10-28T13:09:58.984240Z"
    },
    "papermill": {
     "duration": 0.89413,
     "end_time": "2024-10-28T13:09:58.988341",
     "exception": false,
     "start_time": "2024-10-28T13:09:58.094211",
     "status": "completed"
    },
    "tags": []
   },
   "outputs": [
    {
     "name": "stdout",
     "output_type": "stream",
     "text": [
      "/kaggle/input/playground-series-s4e10/sample_submission.csv\n",
      "/kaggle/input/playground-series-s4e10/train.csv\n",
      "/kaggle/input/playground-series-s4e10/test.csv\n"
     ]
    }
   ],
   "source": [
    "# This Python 3 environment comes with many helpful analytics libraries installed\n",
    "# It is defined by the kaggle/python Docker image: https://github.com/kaggle/docker-python\n",
    "# For example, here's several helpful packages to load\n",
    "\n",
    "import numpy as np # linear algebra\n",
    "import pandas as pd # data processing, CSV file I/O (e.g. pd.read_csv)\n",
    "\n",
    "# Input data files are available in the read-only \"../input/\" directory\n",
    "# For example, running this (by clicking run or pressing Shift+Enter) will list all files under the input directory\n",
    "\n",
    "import os\n",
    "for dirname, _, filenames in os.walk('/kaggle/input'):\n",
    "    for filename in filenames:\n",
    "        print(os.path.join(dirname, filename))\n",
    "\n",
    "# You can write up to 20GB to the current directory (/kaggle/working/) that gets preserved as output when you create a version using \"Save & Run All\" \n",
    "# You can also write temporary files to /kaggle/temp/, but they won't be saved outside of the current session"
   ]
  },
  {
   "cell_type": "code",
   "execution_count": 2,
   "id": "c5bf42e8",
   "metadata": {
    "execution": {
     "iopub.execute_input": "2024-10-28T13:09:59.007628Z",
     "iopub.status.busy": "2024-10-28T13:09:59.007025Z",
     "iopub.status.idle": "2024-10-28T13:10:00.757152Z",
     "shell.execute_reply": "2024-10-28T13:10:00.755853Z"
    },
    "papermill": {
     "duration": 1.762739,
     "end_time": "2024-10-28T13:10:00.760062",
     "exception": false,
     "start_time": "2024-10-28T13:09:58.997323",
     "status": "completed"
    },
    "tags": []
   },
   "outputs": [],
   "source": [
    "import pandas as pd\n",
    "import numpy as np\n",
    "import seaborn as sns\n",
    "import matplotlib.pyplot as plt\n",
    "%matplotlib inline"
   ]
  },
  {
   "cell_type": "code",
   "execution_count": 3,
   "id": "a2a59aba",
   "metadata": {
    "execution": {
     "iopub.execute_input": "2024-10-28T13:10:00.779255Z",
     "iopub.status.busy": "2024-10-28T13:10:00.778721Z",
     "iopub.status.idle": "2024-10-28T13:10:00.999858Z",
     "shell.execute_reply": "2024-10-28T13:10:00.998868Z"
    },
    "papermill": {
     "duration": 0.233696,
     "end_time": "2024-10-28T13:10:01.002367",
     "exception": false,
     "start_time": "2024-10-28T13:10:00.768671",
     "status": "completed"
    },
    "tags": []
   },
   "outputs": [],
   "source": [
    "df = pd.read_csv(\"/kaggle/input/playground-series-s4e10/train.csv\")\n",
    "test = pd.read_csv(\"/kaggle/input/playground-series-s4e10/test.csv\")"
   ]
  },
  {
   "cell_type": "code",
   "execution_count": 4,
   "id": "95dccbf8",
   "metadata": {
    "execution": {
     "iopub.execute_input": "2024-10-28T13:10:01.023005Z",
     "iopub.status.busy": "2024-10-28T13:10:01.022575Z",
     "iopub.status.idle": "2024-10-28T13:10:01.050837Z",
     "shell.execute_reply": "2024-10-28T13:10:01.049680Z"
    },
    "papermill": {
     "duration": 0.040561,
     "end_time": "2024-10-28T13:10:01.053349",
     "exception": false,
     "start_time": "2024-10-28T13:10:01.012788",
     "status": "completed"
    },
    "tags": []
   },
   "outputs": [
    {
     "data": {
      "text/html": [
       "<div>\n",
       "<style scoped>\n",
       "    .dataframe tbody tr th:only-of-type {\n",
       "        vertical-align: middle;\n",
       "    }\n",
       "\n",
       "    .dataframe tbody tr th {\n",
       "        vertical-align: top;\n",
       "    }\n",
       "\n",
       "    .dataframe thead th {\n",
       "        text-align: right;\n",
       "    }\n",
       "</style>\n",
       "<table border=\"1\" class=\"dataframe\">\n",
       "  <thead>\n",
       "    <tr style=\"text-align: right;\">\n",
       "      <th></th>\n",
       "      <th>id</th>\n",
       "      <th>person_age</th>\n",
       "      <th>person_income</th>\n",
       "      <th>person_home_ownership</th>\n",
       "      <th>person_emp_length</th>\n",
       "      <th>loan_intent</th>\n",
       "      <th>loan_grade</th>\n",
       "      <th>loan_amnt</th>\n",
       "      <th>loan_int_rate</th>\n",
       "      <th>loan_percent_income</th>\n",
       "      <th>cb_person_default_on_file</th>\n",
       "      <th>cb_person_cred_hist_length</th>\n",
       "    </tr>\n",
       "  </thead>\n",
       "  <tbody>\n",
       "    <tr>\n",
       "      <th>0</th>\n",
       "      <td>58645</td>\n",
       "      <td>23</td>\n",
       "      <td>69000</td>\n",
       "      <td>RENT</td>\n",
       "      <td>3.0</td>\n",
       "      <td>HOMEIMPROVEMENT</td>\n",
       "      <td>F</td>\n",
       "      <td>25000</td>\n",
       "      <td>15.76</td>\n",
       "      <td>0.36</td>\n",
       "      <td>N</td>\n",
       "      <td>2</td>\n",
       "    </tr>\n",
       "    <tr>\n",
       "      <th>1</th>\n",
       "      <td>58646</td>\n",
       "      <td>26</td>\n",
       "      <td>96000</td>\n",
       "      <td>MORTGAGE</td>\n",
       "      <td>6.0</td>\n",
       "      <td>PERSONAL</td>\n",
       "      <td>C</td>\n",
       "      <td>10000</td>\n",
       "      <td>12.68</td>\n",
       "      <td>0.10</td>\n",
       "      <td>Y</td>\n",
       "      <td>4</td>\n",
       "    </tr>\n",
       "    <tr>\n",
       "      <th>2</th>\n",
       "      <td>58647</td>\n",
       "      <td>26</td>\n",
       "      <td>30000</td>\n",
       "      <td>RENT</td>\n",
       "      <td>5.0</td>\n",
       "      <td>VENTURE</td>\n",
       "      <td>E</td>\n",
       "      <td>4000</td>\n",
       "      <td>17.19</td>\n",
       "      <td>0.13</td>\n",
       "      <td>Y</td>\n",
       "      <td>2</td>\n",
       "    </tr>\n",
       "    <tr>\n",
       "      <th>3</th>\n",
       "      <td>58648</td>\n",
       "      <td>33</td>\n",
       "      <td>50000</td>\n",
       "      <td>RENT</td>\n",
       "      <td>4.0</td>\n",
       "      <td>DEBTCONSOLIDATION</td>\n",
       "      <td>A</td>\n",
       "      <td>7000</td>\n",
       "      <td>8.90</td>\n",
       "      <td>0.14</td>\n",
       "      <td>N</td>\n",
       "      <td>7</td>\n",
       "    </tr>\n",
       "    <tr>\n",
       "      <th>4</th>\n",
       "      <td>58649</td>\n",
       "      <td>26</td>\n",
       "      <td>102000</td>\n",
       "      <td>MORTGAGE</td>\n",
       "      <td>8.0</td>\n",
       "      <td>HOMEIMPROVEMENT</td>\n",
       "      <td>D</td>\n",
       "      <td>15000</td>\n",
       "      <td>16.32</td>\n",
       "      <td>0.15</td>\n",
       "      <td>Y</td>\n",
       "      <td>4</td>\n",
       "    </tr>\n",
       "  </tbody>\n",
       "</table>\n",
       "</div>"
      ],
      "text/plain": [
       "      id  person_age  person_income person_home_ownership  person_emp_length  \\\n",
       "0  58645          23          69000                  RENT                3.0   \n",
       "1  58646          26          96000              MORTGAGE                6.0   \n",
       "2  58647          26          30000                  RENT                5.0   \n",
       "3  58648          33          50000                  RENT                4.0   \n",
       "4  58649          26         102000              MORTGAGE                8.0   \n",
       "\n",
       "         loan_intent loan_grade  loan_amnt  loan_int_rate  \\\n",
       "0    HOMEIMPROVEMENT          F      25000          15.76   \n",
       "1           PERSONAL          C      10000          12.68   \n",
       "2            VENTURE          E       4000          17.19   \n",
       "3  DEBTCONSOLIDATION          A       7000           8.90   \n",
       "4    HOMEIMPROVEMENT          D      15000          16.32   \n",
       "\n",
       "   loan_percent_income cb_person_default_on_file  cb_person_cred_hist_length  \n",
       "0                 0.36                         N                           2  \n",
       "1                 0.10                         Y                           4  \n",
       "2                 0.13                         Y                           2  \n",
       "3                 0.14                         N                           7  \n",
       "4                 0.15                         Y                           4  "
      ]
     },
     "execution_count": 4,
     "metadata": {},
     "output_type": "execute_result"
    }
   ],
   "source": [
    "test.head()"
   ]
  },
  {
   "cell_type": "code",
   "execution_count": 5,
   "id": "dfc57c18",
   "metadata": {
    "execution": {
     "iopub.execute_input": "2024-10-28T13:10:01.072643Z",
     "iopub.status.busy": "2024-10-28T13:10:01.072211Z",
     "iopub.status.idle": "2024-10-28T13:10:01.091767Z",
     "shell.execute_reply": "2024-10-28T13:10:01.090515Z"
    },
    "papermill": {
     "duration": 0.032862,
     "end_time": "2024-10-28T13:10:01.095002",
     "exception": false,
     "start_time": "2024-10-28T13:10:01.062140",
     "status": "completed"
    },
    "tags": []
   },
   "outputs": [
    {
     "data": {
      "text/html": [
       "<div>\n",
       "<style scoped>\n",
       "    .dataframe tbody tr th:only-of-type {\n",
       "        vertical-align: middle;\n",
       "    }\n",
       "\n",
       "    .dataframe tbody tr th {\n",
       "        vertical-align: top;\n",
       "    }\n",
       "\n",
       "    .dataframe thead th {\n",
       "        text-align: right;\n",
       "    }\n",
       "</style>\n",
       "<table border=\"1\" class=\"dataframe\">\n",
       "  <thead>\n",
       "    <tr style=\"text-align: right;\">\n",
       "      <th></th>\n",
       "      <th>id</th>\n",
       "      <th>person_age</th>\n",
       "      <th>person_income</th>\n",
       "      <th>person_home_ownership</th>\n",
       "      <th>person_emp_length</th>\n",
       "      <th>loan_intent</th>\n",
       "      <th>loan_grade</th>\n",
       "      <th>loan_amnt</th>\n",
       "      <th>loan_int_rate</th>\n",
       "      <th>loan_percent_income</th>\n",
       "      <th>cb_person_default_on_file</th>\n",
       "      <th>cb_person_cred_hist_length</th>\n",
       "      <th>loan_status</th>\n",
       "    </tr>\n",
       "  </thead>\n",
       "  <tbody>\n",
       "    <tr>\n",
       "      <th>0</th>\n",
       "      <td>0</td>\n",
       "      <td>37</td>\n",
       "      <td>35000</td>\n",
       "      <td>RENT</td>\n",
       "      <td>0.0</td>\n",
       "      <td>EDUCATION</td>\n",
       "      <td>B</td>\n",
       "      <td>6000</td>\n",
       "      <td>11.49</td>\n",
       "      <td>0.17</td>\n",
       "      <td>N</td>\n",
       "      <td>14</td>\n",
       "      <td>0</td>\n",
       "    </tr>\n",
       "    <tr>\n",
       "      <th>1</th>\n",
       "      <td>1</td>\n",
       "      <td>22</td>\n",
       "      <td>56000</td>\n",
       "      <td>OWN</td>\n",
       "      <td>6.0</td>\n",
       "      <td>MEDICAL</td>\n",
       "      <td>C</td>\n",
       "      <td>4000</td>\n",
       "      <td>13.35</td>\n",
       "      <td>0.07</td>\n",
       "      <td>N</td>\n",
       "      <td>2</td>\n",
       "      <td>0</td>\n",
       "    </tr>\n",
       "    <tr>\n",
       "      <th>2</th>\n",
       "      <td>2</td>\n",
       "      <td>29</td>\n",
       "      <td>28800</td>\n",
       "      <td>OWN</td>\n",
       "      <td>8.0</td>\n",
       "      <td>PERSONAL</td>\n",
       "      <td>A</td>\n",
       "      <td>6000</td>\n",
       "      <td>8.90</td>\n",
       "      <td>0.21</td>\n",
       "      <td>N</td>\n",
       "      <td>10</td>\n",
       "      <td>0</td>\n",
       "    </tr>\n",
       "    <tr>\n",
       "      <th>3</th>\n",
       "      <td>3</td>\n",
       "      <td>30</td>\n",
       "      <td>70000</td>\n",
       "      <td>RENT</td>\n",
       "      <td>14.0</td>\n",
       "      <td>VENTURE</td>\n",
       "      <td>B</td>\n",
       "      <td>12000</td>\n",
       "      <td>11.11</td>\n",
       "      <td>0.17</td>\n",
       "      <td>N</td>\n",
       "      <td>5</td>\n",
       "      <td>0</td>\n",
       "    </tr>\n",
       "    <tr>\n",
       "      <th>4</th>\n",
       "      <td>4</td>\n",
       "      <td>22</td>\n",
       "      <td>60000</td>\n",
       "      <td>RENT</td>\n",
       "      <td>2.0</td>\n",
       "      <td>MEDICAL</td>\n",
       "      <td>A</td>\n",
       "      <td>6000</td>\n",
       "      <td>6.92</td>\n",
       "      <td>0.10</td>\n",
       "      <td>N</td>\n",
       "      <td>3</td>\n",
       "      <td>0</td>\n",
       "    </tr>\n",
       "  </tbody>\n",
       "</table>\n",
       "</div>"
      ],
      "text/plain": [
       "   id  person_age  person_income person_home_ownership  person_emp_length  \\\n",
       "0   0          37          35000                  RENT                0.0   \n",
       "1   1          22          56000                   OWN                6.0   \n",
       "2   2          29          28800                   OWN                8.0   \n",
       "3   3          30          70000                  RENT               14.0   \n",
       "4   4          22          60000                  RENT                2.0   \n",
       "\n",
       "  loan_intent loan_grade  loan_amnt  loan_int_rate  loan_percent_income  \\\n",
       "0   EDUCATION          B       6000          11.49                 0.17   \n",
       "1     MEDICAL          C       4000          13.35                 0.07   \n",
       "2    PERSONAL          A       6000           8.90                 0.21   \n",
       "3     VENTURE          B      12000          11.11                 0.17   \n",
       "4     MEDICAL          A       6000           6.92                 0.10   \n",
       "\n",
       "  cb_person_default_on_file  cb_person_cred_hist_length  loan_status  \n",
       "0                         N                          14            0  \n",
       "1                         N                           2            0  \n",
       "2                         N                          10            0  \n",
       "3                         N                           5            0  \n",
       "4                         N                           3            0  "
      ]
     },
     "execution_count": 5,
     "metadata": {},
     "output_type": "execute_result"
    }
   ],
   "source": [
    "df.head()"
   ]
  },
  {
   "cell_type": "code",
   "execution_count": 6,
   "id": "07df5c8c",
   "metadata": {
    "execution": {
     "iopub.execute_input": "2024-10-28T13:10:01.115313Z",
     "iopub.status.busy": "2024-10-28T13:10:01.114902Z",
     "iopub.status.idle": "2024-10-28T13:10:01.154531Z",
     "shell.execute_reply": "2024-10-28T13:10:01.152918Z"
    },
    "papermill": {
     "duration": 0.053901,
     "end_time": "2024-10-28T13:10:01.158163",
     "exception": false,
     "start_time": "2024-10-28T13:10:01.104262",
     "status": "completed"
    },
    "tags": []
   },
   "outputs": [
    {
     "name": "stdout",
     "output_type": "stream",
     "text": [
      "<class 'pandas.core.frame.DataFrame'>\n",
      "RangeIndex: 58645 entries, 0 to 58644\n",
      "Data columns (total 13 columns):\n",
      " #   Column                      Non-Null Count  Dtype  \n",
      "---  ------                      --------------  -----  \n",
      " 0   id                          58645 non-null  int64  \n",
      " 1   person_age                  58645 non-null  int64  \n",
      " 2   person_income               58645 non-null  int64  \n",
      " 3   person_home_ownership       58645 non-null  object \n",
      " 4   person_emp_length           58645 non-null  float64\n",
      " 5   loan_intent                 58645 non-null  object \n",
      " 6   loan_grade                  58645 non-null  object \n",
      " 7   loan_amnt                   58645 non-null  int64  \n",
      " 8   loan_int_rate               58645 non-null  float64\n",
      " 9   loan_percent_income         58645 non-null  float64\n",
      " 10  cb_person_default_on_file   58645 non-null  object \n",
      " 11  cb_person_cred_hist_length  58645 non-null  int64  \n",
      " 12  loan_status                 58645 non-null  int64  \n",
      "dtypes: float64(3), int64(6), object(4)\n",
      "memory usage: 5.8+ MB\n"
     ]
    }
   ],
   "source": [
    "df.info()"
   ]
  },
  {
   "cell_type": "code",
   "execution_count": 7,
   "id": "31f7ad96",
   "metadata": {
    "execution": {
     "iopub.execute_input": "2024-10-28T13:10:01.179533Z",
     "iopub.status.busy": "2024-10-28T13:10:01.179091Z",
     "iopub.status.idle": "2024-10-28T13:10:01.193667Z",
     "shell.execute_reply": "2024-10-28T13:10:01.192288Z"
    },
    "papermill": {
     "duration": 0.028497,
     "end_time": "2024-10-28T13:10:01.196288",
     "exception": false,
     "start_time": "2024-10-28T13:10:01.167791",
     "status": "completed"
    },
    "tags": []
   },
   "outputs": [
    {
     "name": "stdout",
     "output_type": "stream",
     "text": [
      "[]\n"
     ]
    }
   ],
   "source": [
    "duplicate = df[df[\"id\"].duplicated(keep=False)]\n",
    "print(duplicate[\"id\"].unique())\n",
    "\n",
    "#  there is nobody who takes loan multiple times"
   ]
  },
  {
   "cell_type": "code",
   "execution_count": 8,
   "id": "78a73eda",
   "metadata": {
    "execution": {
     "iopub.execute_input": "2024-10-28T13:10:01.216410Z",
     "iopub.status.busy": "2024-10-28T13:10:01.215950Z",
     "iopub.status.idle": "2024-10-28T13:10:01.229458Z",
     "shell.execute_reply": "2024-10-28T13:10:01.228020Z"
    },
    "papermill": {
     "duration": 0.026563,
     "end_time": "2024-10-28T13:10:01.232106",
     "exception": false,
     "start_time": "2024-10-28T13:10:01.205543",
     "status": "completed"
    },
    "tags": []
   },
   "outputs": [
    {
     "data": {
      "text/plain": [
       "person_home_ownership\n",
       "RENT        30594\n",
       "MORTGAGE    24824\n",
       "OWN          3138\n",
       "OTHER          89\n",
       "Name: count, dtype: int64"
      ]
     },
     "execution_count": 8,
     "metadata": {},
     "output_type": "execute_result"
    }
   ],
   "source": [
    "df[\"person_home_ownership\"].value_counts()"
   ]
  },
  {
   "cell_type": "code",
   "execution_count": 9,
   "id": "ebf91b13",
   "metadata": {
    "execution": {
     "iopub.execute_input": "2024-10-28T13:10:01.255186Z",
     "iopub.status.busy": "2024-10-28T13:10:01.254730Z",
     "iopub.status.idle": "2024-10-28T13:10:01.267546Z",
     "shell.execute_reply": "2024-10-28T13:10:01.266053Z"
    },
    "papermill": {
     "duration": 0.028737,
     "end_time": "2024-10-28T13:10:01.270780",
     "exception": false,
     "start_time": "2024-10-28T13:10:01.242043",
     "status": "completed"
    },
    "tags": []
   },
   "outputs": [
    {
     "data": {
      "text/plain": [
       "loan_grade\n",
       "A    20984\n",
       "B    20400\n",
       "C    11036\n",
       "D     5034\n",
       "E     1009\n",
       "F      149\n",
       "G       33\n",
       "Name: count, dtype: int64"
      ]
     },
     "execution_count": 9,
     "metadata": {},
     "output_type": "execute_result"
    }
   ],
   "source": [
    "df[\"loan_grade\"].value_counts()\n",
    "#df[\"loan_intent\"].value_counts()\n",
    "#df[\"cb_person_default_on_file\"].value_counts()"
   ]
  },
  {
   "cell_type": "code",
   "execution_count": 10,
   "id": "251f451c",
   "metadata": {
    "execution": {
     "iopub.execute_input": "2024-10-28T13:10:01.294623Z",
     "iopub.status.busy": "2024-10-28T13:10:01.293759Z",
     "iopub.status.idle": "2024-10-28T13:10:01.315792Z",
     "shell.execute_reply": "2024-10-28T13:10:01.314678Z"
    },
    "papermill": {
     "duration": 0.036792,
     "end_time": "2024-10-28T13:10:01.318194",
     "exception": false,
     "start_time": "2024-10-28T13:10:01.281402",
     "status": "completed"
    },
    "tags": []
   },
   "outputs": [
    {
     "data": {
      "text/html": [
       "<div>\n",
       "<style scoped>\n",
       "    .dataframe tbody tr th:only-of-type {\n",
       "        vertical-align: middle;\n",
       "    }\n",
       "\n",
       "    .dataframe tbody tr th {\n",
       "        vertical-align: top;\n",
       "    }\n",
       "\n",
       "    .dataframe thead th {\n",
       "        text-align: right;\n",
       "    }\n",
       "</style>\n",
       "<table border=\"1\" class=\"dataframe\">\n",
       "  <thead>\n",
       "    <tr style=\"text-align: right;\">\n",
       "      <th></th>\n",
       "      <th>person_age</th>\n",
       "      <th>person_income</th>\n",
       "      <th>person_home_ownership</th>\n",
       "      <th>person_emp_length</th>\n",
       "      <th>loan_intent</th>\n",
       "      <th>loan_grade</th>\n",
       "      <th>loan_amnt</th>\n",
       "      <th>loan_int_rate</th>\n",
       "      <th>loan_percent_income</th>\n",
       "      <th>cb_person_default_on_file</th>\n",
       "      <th>cb_person_cred_hist_length</th>\n",
       "    </tr>\n",
       "  </thead>\n",
       "  <tbody>\n",
       "    <tr>\n",
       "      <th>0</th>\n",
       "      <td>37</td>\n",
       "      <td>35000</td>\n",
       "      <td>RENT</td>\n",
       "      <td>0.0</td>\n",
       "      <td>EDUCATION</td>\n",
       "      <td>B</td>\n",
       "      <td>6000</td>\n",
       "      <td>11.49</td>\n",
       "      <td>0.17</td>\n",
       "      <td>N</td>\n",
       "      <td>14</td>\n",
       "    </tr>\n",
       "    <tr>\n",
       "      <th>1</th>\n",
       "      <td>22</td>\n",
       "      <td>56000</td>\n",
       "      <td>OWN</td>\n",
       "      <td>6.0</td>\n",
       "      <td>MEDICAL</td>\n",
       "      <td>C</td>\n",
       "      <td>4000</td>\n",
       "      <td>13.35</td>\n",
       "      <td>0.07</td>\n",
       "      <td>N</td>\n",
       "      <td>2</td>\n",
       "    </tr>\n",
       "    <tr>\n",
       "      <th>2</th>\n",
       "      <td>29</td>\n",
       "      <td>28800</td>\n",
       "      <td>OWN</td>\n",
       "      <td>8.0</td>\n",
       "      <td>PERSONAL</td>\n",
       "      <td>A</td>\n",
       "      <td>6000</td>\n",
       "      <td>8.90</td>\n",
       "      <td>0.21</td>\n",
       "      <td>N</td>\n",
       "      <td>10</td>\n",
       "    </tr>\n",
       "    <tr>\n",
       "      <th>3</th>\n",
       "      <td>30</td>\n",
       "      <td>70000</td>\n",
       "      <td>RENT</td>\n",
       "      <td>14.0</td>\n",
       "      <td>VENTURE</td>\n",
       "      <td>B</td>\n",
       "      <td>12000</td>\n",
       "      <td>11.11</td>\n",
       "      <td>0.17</td>\n",
       "      <td>N</td>\n",
       "      <td>5</td>\n",
       "    </tr>\n",
       "    <tr>\n",
       "      <th>4</th>\n",
       "      <td>22</td>\n",
       "      <td>60000</td>\n",
       "      <td>RENT</td>\n",
       "      <td>2.0</td>\n",
       "      <td>MEDICAL</td>\n",
       "      <td>A</td>\n",
       "      <td>6000</td>\n",
       "      <td>6.92</td>\n",
       "      <td>0.10</td>\n",
       "      <td>N</td>\n",
       "      <td>3</td>\n",
       "    </tr>\n",
       "  </tbody>\n",
       "</table>\n",
       "</div>"
      ],
      "text/plain": [
       "   person_age  person_income person_home_ownership  person_emp_length  \\\n",
       "0          37          35000                  RENT                0.0   \n",
       "1          22          56000                   OWN                6.0   \n",
       "2          29          28800                   OWN                8.0   \n",
       "3          30          70000                  RENT               14.0   \n",
       "4          22          60000                  RENT                2.0   \n",
       "\n",
       "  loan_intent loan_grade  loan_amnt  loan_int_rate  loan_percent_income  \\\n",
       "0   EDUCATION          B       6000          11.49                 0.17   \n",
       "1     MEDICAL          C       4000          13.35                 0.07   \n",
       "2    PERSONAL          A       6000           8.90                 0.21   \n",
       "3     VENTURE          B      12000          11.11                 0.17   \n",
       "4     MEDICAL          A       6000           6.92                 0.10   \n",
       "\n",
       "  cb_person_default_on_file  cb_person_cred_hist_length  \n",
       "0                         N                          14  \n",
       "1                         N                           2  \n",
       "2                         N                          10  \n",
       "3                         N                           5  \n",
       "4                         N                           3  "
      ]
     },
     "execution_count": 10,
     "metadata": {},
     "output_type": "execute_result"
    }
   ],
   "source": [
    "x_train = df.drop(columns=['loan_status','id'])\n",
    "x_train.head()"
   ]
  },
  {
   "cell_type": "code",
   "execution_count": 11,
   "id": "70d6dda0",
   "metadata": {
    "execution": {
     "iopub.execute_input": "2024-10-28T13:10:01.340027Z",
     "iopub.status.busy": "2024-10-28T13:10:01.339007Z",
     "iopub.status.idle": "2024-10-28T13:10:01.348470Z",
     "shell.execute_reply": "2024-10-28T13:10:01.346712Z"
    },
    "papermill": {
     "duration": 0.024151,
     "end_time": "2024-10-28T13:10:01.352249",
     "exception": false,
     "start_time": "2024-10-28T13:10:01.328098",
     "status": "completed"
    },
    "tags": []
   },
   "outputs": [
    {
     "data": {
      "text/plain": [
       "0    0\n",
       "1    0\n",
       "2    0\n",
       "3    0\n",
       "4    0\n",
       "Name: loan_status, dtype: int64"
      ]
     },
     "execution_count": 11,
     "metadata": {},
     "output_type": "execute_result"
    }
   ],
   "source": [
    "y_train = df['loan_status']\n",
    "y_train.head()"
   ]
  },
  {
   "cell_type": "markdown",
   "id": "7fb8acda",
   "metadata": {
    "papermill": {
     "duration": 0.010605,
     "end_time": "2024-10-28T13:10:01.374255",
     "exception": false,
     "start_time": "2024-10-28T13:10:01.363650",
     "status": "completed"
    },
    "tags": []
   },
   "source": [
    "# steps\n",
    " apply ohe in person_home_ownership, loan_intent, loan_grade , lebel encoding on cb_person_default_on_file  , standard_scaler on loan_amnt and person_income , use pipelines"
   ]
  },
  {
   "cell_type": "code",
   "execution_count": 12,
   "id": "ef354d28",
   "metadata": {
    "execution": {
     "iopub.execute_input": "2024-10-28T13:10:01.397879Z",
     "iopub.status.busy": "2024-10-28T13:10:01.397447Z",
     "iopub.status.idle": "2024-10-28T13:10:02.277049Z",
     "shell.execute_reply": "2024-10-28T13:10:02.275486Z"
    },
    "papermill": {
     "duration": 0.893876,
     "end_time": "2024-10-28T13:10:02.279832",
     "exception": false,
     "start_time": "2024-10-28T13:10:01.385956",
     "status": "completed"
    },
    "tags": []
   },
   "outputs": [],
   "source": [
    "# imporing necessary algorithms\n",
    "\n",
    "from sklearn.preprocessing import OneHotEncoder, OrdinalEncoder\n",
    "from sklearn.preprocessing import StandardScaler\n",
    "from sklearn.pipeline import make_pipeline,Pipeline\n",
    "from sklearn.compose import ColumnTransformer\n",
    "from sklearn.feature_selection import SelectKBest\n",
    "from sklearn.linear_model import LogisticRegression\n",
    "from sklearn.ensemble import RandomForestClassifier\n",
    "from sklearn.ensemble import GradientBoostingClassifier\n",
    "from sklearn.metrics import accuracy_score\n",
    "from sklearn.model_selection import GridSearchCV\n",
    "import xgboost as xgb"
   ]
  },
  {
   "cell_type": "code",
   "execution_count": 13,
   "id": "f50b9db7",
   "metadata": {
    "execution": {
     "iopub.execute_input": "2024-10-28T13:10:02.301137Z",
     "iopub.status.busy": "2024-10-28T13:10:02.300709Z",
     "iopub.status.idle": "2024-10-28T13:10:02.306161Z",
     "shell.execute_reply": "2024-10-28T13:10:02.304929Z"
    },
    "papermill": {
     "duration": 0.019012,
     "end_time": "2024-10-28T13:10:02.308698",
     "exception": false,
     "start_time": "2024-10-28T13:10:02.289686",
     "status": "completed"
    },
    "tags": []
   },
   "outputs": [],
   "source": [
    "ohe = OneHotEncoder(handle_unknown='ignore',sparse_output=False,drop='first')\n",
    "label = OrdinalEncoder()\n",
    "scale = StandardScaler()\n"
   ]
  },
  {
   "cell_type": "code",
   "execution_count": 14,
   "id": "5faf6173",
   "metadata": {
    "execution": {
     "iopub.execute_input": "2024-10-28T13:10:02.329880Z",
     "iopub.status.busy": "2024-10-28T13:10:02.329415Z",
     "iopub.status.idle": "2024-10-28T13:10:02.335260Z",
     "shell.execute_reply": "2024-10-28T13:10:02.334185Z"
    },
    "papermill": {
     "duration": 0.019222,
     "end_time": "2024-10-28T13:10:02.337712",
     "exception": false,
     "start_time": "2024-10-28T13:10:02.318490",
     "status": "completed"
    },
    "tags": []
   },
   "outputs": [],
   "source": [
    "preprocessor = ColumnTransformer(\n",
    "    transformers=[\n",
    "        ('onehot', ohe, [2, 4, 5]),   # One-hot encode \n",
    "        ('label', label, [9]),       #  label encode\n",
    "        ('scaler', scale, [1, 6])  # Standard scaling for numerical columns\n",
    "    ],\n",
    "    remainder='passthrough' )"
   ]
  },
  {
   "cell_type": "code",
   "execution_count": 15,
   "id": "de792c76",
   "metadata": {
    "execution": {
     "iopub.execute_input": "2024-10-28T13:10:02.360707Z",
     "iopub.status.busy": "2024-10-28T13:10:02.360180Z",
     "iopub.status.idle": "2024-10-28T13:10:02.365990Z",
     "shell.execute_reply": "2024-10-28T13:10:02.364679Z"
    },
    "papermill": {
     "duration": 0.02112,
     "end_time": "2024-10-28T13:10:02.368562",
     "exception": false,
     "start_time": "2024-10-28T13:10:02.347442",
     "status": "completed"
    },
    "tags": []
   },
   "outputs": [],
   "source": [
    "pipe = Pipeline(steps=[\n",
    "    ('preprocessor', preprocessor),\n",
    "    ('classifier', LogisticRegression(max_iter=500,random_state=42))\n",
    "])"
   ]
  },
  {
   "cell_type": "code",
   "execution_count": 16,
   "id": "d2d395b9",
   "metadata": {
    "execution": {
     "iopub.execute_input": "2024-10-28T13:10:02.389526Z",
     "iopub.status.busy": "2024-10-28T13:10:02.389128Z",
     "iopub.status.idle": "2024-10-28T13:10:02.395232Z",
     "shell.execute_reply": "2024-10-28T13:10:02.393673Z"
    },
    "papermill": {
     "duration": 0.019658,
     "end_time": "2024-10-28T13:10:02.397912",
     "exception": false,
     "start_time": "2024-10-28T13:10:02.378254",
     "status": "completed"
    },
    "tags": []
   },
   "outputs": [],
   "source": [
    "pipe2 =  Pipeline(steps=[\n",
    "    ('preprocessor', preprocessor),\n",
    "    ('classifier', RandomForestClassifier(max_features=200,max_depth=4,bootstrap=True,oob_score=True,random_state=42))\n",
    "])"
   ]
  },
  {
   "cell_type": "code",
   "execution_count": 17,
   "id": "e34ee198",
   "metadata": {
    "execution": {
     "iopub.execute_input": "2024-10-28T13:10:02.421055Z",
     "iopub.status.busy": "2024-10-28T13:10:02.420638Z",
     "iopub.status.idle": "2024-10-28T13:10:02.427651Z",
     "shell.execute_reply": "2024-10-28T13:10:02.426020Z"
    },
    "papermill": {
     "duration": 0.02217,
     "end_time": "2024-10-28T13:10:02.430457",
     "exception": false,
     "start_time": "2024-10-28T13:10:02.408287",
     "status": "completed"
    },
    "tags": []
   },
   "outputs": [],
   "source": [
    "pipe3 =  Pipeline(steps=[\n",
    "    ('preprocessor', preprocessor),\n",
    "    ('classifier', GradientBoostingClassifier(n_estimators=200,max_depth=4,learning_rate=0.1,random_state=42,subsample=0.9,))\n",
    "])"
   ]
  },
  {
   "cell_type": "code",
   "execution_count": 18,
   "id": "c553bc11",
   "metadata": {
    "execution": {
     "iopub.execute_input": "2024-10-28T13:10:02.452240Z",
     "iopub.status.busy": "2024-10-28T13:10:02.451825Z",
     "iopub.status.idle": "2024-10-28T13:10:02.457866Z",
     "shell.execute_reply": "2024-10-28T13:10:02.456683Z"
    },
    "papermill": {
     "duration": 0.01999,
     "end_time": "2024-10-28T13:10:02.460691",
     "exception": false,
     "start_time": "2024-10-28T13:10:02.440701",
     "status": "completed"
    },
    "tags": []
   },
   "outputs": [],
   "source": [
    "pipe4 = Pipeline(steps=[\n",
    "    ('preprocessor', preprocessor),\n",
    "    ('classifier1', xgb.XGBClassifier(n_estimators=200,max_depth=5,learning_rate=0.1,random_state=42,objective='binary:logistic'))\n",
    "])"
   ]
  },
  {
   "cell_type": "code",
   "execution_count": 19,
   "id": "793e6ed0",
   "metadata": {
    "execution": {
     "iopub.execute_input": "2024-10-28T13:10:02.482804Z",
     "iopub.status.busy": "2024-10-28T13:10:02.481429Z",
     "iopub.status.idle": "2024-10-28T13:10:02.487297Z",
     "shell.execute_reply": "2024-10-28T13:10:02.486102Z"
    },
    "papermill": {
     "duration": 0.020274,
     "end_time": "2024-10-28T13:10:02.490818",
     "exception": false,
     "start_time": "2024-10-28T13:10:02.470544",
     "status": "completed"
    },
    "tags": []
   },
   "outputs": [],
   "source": [
    "pipe5 = Pipeline(steps=[\n",
    "    ('preprocessor', preprocessor)])"
   ]
  },
  {
   "cell_type": "code",
   "execution_count": 20,
   "id": "dd9b2ff4",
   "metadata": {
    "execution": {
     "iopub.execute_input": "2024-10-28T13:10:02.512939Z",
     "iopub.status.busy": "2024-10-28T13:10:02.512487Z",
     "iopub.status.idle": "2024-10-28T13:10:43.986079Z",
     "shell.execute_reply": "2024-10-28T13:10:43.984902Z"
    },
    "papermill": {
     "duration": 41.497158,
     "end_time": "2024-10-28T13:10:43.998570",
     "exception": false,
     "start_time": "2024-10-28T13:10:02.501412",
     "status": "completed"
    },
    "tags": []
   },
   "outputs": [
    {
     "name": "stderr",
     "output_type": "stream",
     "text": [
      "/opt/conda/lib/python3.10/site-packages/sklearn/linear_model/_logistic.py:458: ConvergenceWarning: lbfgs failed to converge (status=1):\n",
      "STOP: TOTAL NO. of ITERATIONS REACHED LIMIT.\n",
      "\n",
      "Increase the number of iterations (max_iter) or scale the data as shown in:\n",
      "    https://scikit-learn.org/stable/modules/preprocessing.html\n",
      "Please also refer to the documentation for alternative solver options:\n",
      "    https://scikit-learn.org/stable/modules/linear_model.html#logistic-regression\n",
      "  n_iter_i = _check_optimize_result(\n"
     ]
    },
    {
     "data": {
      "text/html": [
       "<style>#sk-container-id-1 {color: black;background-color: white;}#sk-container-id-1 pre{padding: 0;}#sk-container-id-1 div.sk-toggleable {background-color: white;}#sk-container-id-1 label.sk-toggleable__label {cursor: pointer;display: block;width: 100%;margin-bottom: 0;padding: 0.3em;box-sizing: border-box;text-align: center;}#sk-container-id-1 label.sk-toggleable__label-arrow:before {content: \"▸\";float: left;margin-right: 0.25em;color: #696969;}#sk-container-id-1 label.sk-toggleable__label-arrow:hover:before {color: black;}#sk-container-id-1 div.sk-estimator:hover label.sk-toggleable__label-arrow:before {color: black;}#sk-container-id-1 div.sk-toggleable__content {max-height: 0;max-width: 0;overflow: hidden;text-align: left;background-color: #f0f8ff;}#sk-container-id-1 div.sk-toggleable__content pre {margin: 0.2em;color: black;border-radius: 0.25em;background-color: #f0f8ff;}#sk-container-id-1 input.sk-toggleable__control:checked~div.sk-toggleable__content {max-height: 200px;max-width: 100%;overflow: auto;}#sk-container-id-1 input.sk-toggleable__control:checked~label.sk-toggleable__label-arrow:before {content: \"▾\";}#sk-container-id-1 div.sk-estimator input.sk-toggleable__control:checked~label.sk-toggleable__label {background-color: #d4ebff;}#sk-container-id-1 div.sk-label input.sk-toggleable__control:checked~label.sk-toggleable__label {background-color: #d4ebff;}#sk-container-id-1 input.sk-hidden--visually {border: 0;clip: rect(1px 1px 1px 1px);clip: rect(1px, 1px, 1px, 1px);height: 1px;margin: -1px;overflow: hidden;padding: 0;position: absolute;width: 1px;}#sk-container-id-1 div.sk-estimator {font-family: monospace;background-color: #f0f8ff;border: 1px dotted black;border-radius: 0.25em;box-sizing: border-box;margin-bottom: 0.5em;}#sk-container-id-1 div.sk-estimator:hover {background-color: #d4ebff;}#sk-container-id-1 div.sk-parallel-item::after {content: \"\";width: 100%;border-bottom: 1px solid gray;flex-grow: 1;}#sk-container-id-1 div.sk-label:hover label.sk-toggleable__label {background-color: #d4ebff;}#sk-container-id-1 div.sk-serial::before {content: \"\";position: absolute;border-left: 1px solid gray;box-sizing: border-box;top: 0;bottom: 0;left: 50%;z-index: 0;}#sk-container-id-1 div.sk-serial {display: flex;flex-direction: column;align-items: center;background-color: white;padding-right: 0.2em;padding-left: 0.2em;position: relative;}#sk-container-id-1 div.sk-item {position: relative;z-index: 1;}#sk-container-id-1 div.sk-parallel {display: flex;align-items: stretch;justify-content: center;background-color: white;position: relative;}#sk-container-id-1 div.sk-item::before, #sk-container-id-1 div.sk-parallel-item::before {content: \"\";position: absolute;border-left: 1px solid gray;box-sizing: border-box;top: 0;bottom: 0;left: 50%;z-index: -1;}#sk-container-id-1 div.sk-parallel-item {display: flex;flex-direction: column;z-index: 1;position: relative;background-color: white;}#sk-container-id-1 div.sk-parallel-item:first-child::after {align-self: flex-end;width: 50%;}#sk-container-id-1 div.sk-parallel-item:last-child::after {align-self: flex-start;width: 50%;}#sk-container-id-1 div.sk-parallel-item:only-child::after {width: 0;}#sk-container-id-1 div.sk-dashed-wrapped {border: 1px dashed gray;margin: 0 0.4em 0.5em 0.4em;box-sizing: border-box;padding-bottom: 0.4em;background-color: white;}#sk-container-id-1 div.sk-label label {font-family: monospace;font-weight: bold;display: inline-block;line-height: 1.2em;}#sk-container-id-1 div.sk-label-container {text-align: center;}#sk-container-id-1 div.sk-container {/* jupyter's `normalize.less` sets `[hidden] { display: none; }` but bootstrap.min.css set `[hidden] { display: none !important; }` so we also need the `!important` here to be able to override the default hidden behavior on the sphinx rendered scikit-learn.org. See: https://github.com/scikit-learn/scikit-learn/issues/21755 */display: inline-block !important;position: relative;}#sk-container-id-1 div.sk-text-repr-fallback {display: none;}</style><div id=\"sk-container-id-1\" class=\"sk-top-container\"><div class=\"sk-text-repr-fallback\"><pre>Pipeline(steps=[(&#x27;preprocessor&#x27;,\n",
       "                 ColumnTransformer(remainder=&#x27;passthrough&#x27;,\n",
       "                                   transformers=[(&#x27;onehot&#x27;,\n",
       "                                                  OneHotEncoder(drop=&#x27;first&#x27;,\n",
       "                                                                handle_unknown=&#x27;ignore&#x27;,\n",
       "                                                                sparse_output=False),\n",
       "                                                  [2, 4, 5]),\n",
       "                                                 (&#x27;label&#x27;, OrdinalEncoder(),\n",
       "                                                  [9]),\n",
       "                                                 (&#x27;scaler&#x27;, StandardScaler(),\n",
       "                                                  [1, 6])])),\n",
       "                (&#x27;classifier1&#x27;,\n",
       "                 XGBClassifier(base_score=None, booster=None, callbacks=None,\n",
       "                               colsample_bylevel=None, colsamp...\n",
       "                               feature_types=None, gamma=None, grow_policy=None,\n",
       "                               importance_type=None,\n",
       "                               interaction_constraints=None, learning_rate=0.1,\n",
       "                               max_bin=None, max_cat_threshold=None,\n",
       "                               max_cat_to_onehot=None, max_delta_step=None,\n",
       "                               max_depth=5, max_leaves=None,\n",
       "                               min_child_weight=None, missing=nan,\n",
       "                               monotone_constraints=None, multi_strategy=None,\n",
       "                               n_estimators=200, n_jobs=None,\n",
       "                               num_parallel_tree=None, random_state=42, ...))])</pre><b>In a Jupyter environment, please rerun this cell to show the HTML representation or trust the notebook. <br />On GitHub, the HTML representation is unable to render, please try loading this page with nbviewer.org.</b></div><div class=\"sk-container\" hidden><div class=\"sk-item sk-dashed-wrapped\"><div class=\"sk-label-container\"><div class=\"sk-label sk-toggleable\"><input class=\"sk-toggleable__control sk-hidden--visually\" id=\"sk-estimator-id-1\" type=\"checkbox\" ><label for=\"sk-estimator-id-1\" class=\"sk-toggleable__label sk-toggleable__label-arrow\">Pipeline</label><div class=\"sk-toggleable__content\"><pre>Pipeline(steps=[(&#x27;preprocessor&#x27;,\n",
       "                 ColumnTransformer(remainder=&#x27;passthrough&#x27;,\n",
       "                                   transformers=[(&#x27;onehot&#x27;,\n",
       "                                                  OneHotEncoder(drop=&#x27;first&#x27;,\n",
       "                                                                handle_unknown=&#x27;ignore&#x27;,\n",
       "                                                                sparse_output=False),\n",
       "                                                  [2, 4, 5]),\n",
       "                                                 (&#x27;label&#x27;, OrdinalEncoder(),\n",
       "                                                  [9]),\n",
       "                                                 (&#x27;scaler&#x27;, StandardScaler(),\n",
       "                                                  [1, 6])])),\n",
       "                (&#x27;classifier1&#x27;,\n",
       "                 XGBClassifier(base_score=None, booster=None, callbacks=None,\n",
       "                               colsample_bylevel=None, colsamp...\n",
       "                               feature_types=None, gamma=None, grow_policy=None,\n",
       "                               importance_type=None,\n",
       "                               interaction_constraints=None, learning_rate=0.1,\n",
       "                               max_bin=None, max_cat_threshold=None,\n",
       "                               max_cat_to_onehot=None, max_delta_step=None,\n",
       "                               max_depth=5, max_leaves=None,\n",
       "                               min_child_weight=None, missing=nan,\n",
       "                               monotone_constraints=None, multi_strategy=None,\n",
       "                               n_estimators=200, n_jobs=None,\n",
       "                               num_parallel_tree=None, random_state=42, ...))])</pre></div></div></div><div class=\"sk-serial\"><div class=\"sk-item sk-dashed-wrapped\"><div class=\"sk-label-container\"><div class=\"sk-label sk-toggleable\"><input class=\"sk-toggleable__control sk-hidden--visually\" id=\"sk-estimator-id-2\" type=\"checkbox\" ><label for=\"sk-estimator-id-2\" class=\"sk-toggleable__label sk-toggleable__label-arrow\">preprocessor: ColumnTransformer</label><div class=\"sk-toggleable__content\"><pre>ColumnTransformer(remainder=&#x27;passthrough&#x27;,\n",
       "                  transformers=[(&#x27;onehot&#x27;,\n",
       "                                 OneHotEncoder(drop=&#x27;first&#x27;,\n",
       "                                               handle_unknown=&#x27;ignore&#x27;,\n",
       "                                               sparse_output=False),\n",
       "                                 [2, 4, 5]),\n",
       "                                (&#x27;label&#x27;, OrdinalEncoder(), [9]),\n",
       "                                (&#x27;scaler&#x27;, StandardScaler(), [1, 6])])</pre></div></div></div><div class=\"sk-parallel\"><div class=\"sk-parallel-item\"><div class=\"sk-item\"><div class=\"sk-label-container\"><div class=\"sk-label sk-toggleable\"><input class=\"sk-toggleable__control sk-hidden--visually\" id=\"sk-estimator-id-3\" type=\"checkbox\" ><label for=\"sk-estimator-id-3\" class=\"sk-toggleable__label sk-toggleable__label-arrow\">onehot</label><div class=\"sk-toggleable__content\"><pre>[2, 4, 5]</pre></div></div></div><div class=\"sk-serial\"><div class=\"sk-item\"><div class=\"sk-estimator sk-toggleable\"><input class=\"sk-toggleable__control sk-hidden--visually\" id=\"sk-estimator-id-4\" type=\"checkbox\" ><label for=\"sk-estimator-id-4\" class=\"sk-toggleable__label sk-toggleable__label-arrow\">OneHotEncoder</label><div class=\"sk-toggleable__content\"><pre>OneHotEncoder(drop=&#x27;first&#x27;, handle_unknown=&#x27;ignore&#x27;, sparse_output=False)</pre></div></div></div></div></div></div><div class=\"sk-parallel-item\"><div class=\"sk-item\"><div class=\"sk-label-container\"><div class=\"sk-label sk-toggleable\"><input class=\"sk-toggleable__control sk-hidden--visually\" id=\"sk-estimator-id-5\" type=\"checkbox\" ><label for=\"sk-estimator-id-5\" class=\"sk-toggleable__label sk-toggleable__label-arrow\">label</label><div class=\"sk-toggleable__content\"><pre>[9]</pre></div></div></div><div class=\"sk-serial\"><div class=\"sk-item\"><div class=\"sk-estimator sk-toggleable\"><input class=\"sk-toggleable__control sk-hidden--visually\" id=\"sk-estimator-id-6\" type=\"checkbox\" ><label for=\"sk-estimator-id-6\" class=\"sk-toggleable__label sk-toggleable__label-arrow\">OrdinalEncoder</label><div class=\"sk-toggleable__content\"><pre>OrdinalEncoder()</pre></div></div></div></div></div></div><div class=\"sk-parallel-item\"><div class=\"sk-item\"><div class=\"sk-label-container\"><div class=\"sk-label sk-toggleable\"><input class=\"sk-toggleable__control sk-hidden--visually\" id=\"sk-estimator-id-7\" type=\"checkbox\" ><label for=\"sk-estimator-id-7\" class=\"sk-toggleable__label sk-toggleable__label-arrow\">scaler</label><div class=\"sk-toggleable__content\"><pre>[1, 6]</pre></div></div></div><div class=\"sk-serial\"><div class=\"sk-item\"><div class=\"sk-estimator sk-toggleable\"><input class=\"sk-toggleable__control sk-hidden--visually\" id=\"sk-estimator-id-8\" type=\"checkbox\" ><label for=\"sk-estimator-id-8\" class=\"sk-toggleable__label sk-toggleable__label-arrow\">StandardScaler</label><div class=\"sk-toggleable__content\"><pre>StandardScaler()</pre></div></div></div></div></div></div><div class=\"sk-parallel-item\"><div class=\"sk-item\"><div class=\"sk-label-container\"><div class=\"sk-label sk-toggleable\"><input class=\"sk-toggleable__control sk-hidden--visually\" id=\"sk-estimator-id-9\" type=\"checkbox\" ><label for=\"sk-estimator-id-9\" class=\"sk-toggleable__label sk-toggleable__label-arrow\">remainder</label><div class=\"sk-toggleable__content\"><pre>[&#x27;person_age&#x27;, &#x27;person_emp_length&#x27;, &#x27;loan_int_rate&#x27;, &#x27;loan_percent_income&#x27;, &#x27;cb_person_cred_hist_length&#x27;]</pre></div></div></div><div class=\"sk-serial\"><div class=\"sk-item\"><div class=\"sk-estimator sk-toggleable\"><input class=\"sk-toggleable__control sk-hidden--visually\" id=\"sk-estimator-id-10\" type=\"checkbox\" ><label for=\"sk-estimator-id-10\" class=\"sk-toggleable__label sk-toggleable__label-arrow\">passthrough</label><div class=\"sk-toggleable__content\"><pre>passthrough</pre></div></div></div></div></div></div></div></div><div class=\"sk-item\"><div class=\"sk-estimator sk-toggleable\"><input class=\"sk-toggleable__control sk-hidden--visually\" id=\"sk-estimator-id-11\" type=\"checkbox\" ><label for=\"sk-estimator-id-11\" class=\"sk-toggleable__label sk-toggleable__label-arrow\">XGBClassifier</label><div class=\"sk-toggleable__content\"><pre>XGBClassifier(base_score=None, booster=None, callbacks=None,\n",
       "              colsample_bylevel=None, colsample_bynode=None,\n",
       "              colsample_bytree=None, device=None, early_stopping_rounds=None,\n",
       "              enable_categorical=False, eval_metric=None, feature_types=None,\n",
       "              gamma=None, grow_policy=None, importance_type=None,\n",
       "              interaction_constraints=None, learning_rate=0.1, max_bin=None,\n",
       "              max_cat_threshold=None, max_cat_to_onehot=None,\n",
       "              max_delta_step=None, max_depth=5, max_leaves=None,\n",
       "              min_child_weight=None, missing=nan, monotone_constraints=None,\n",
       "              multi_strategy=None, n_estimators=200, n_jobs=None,\n",
       "              num_parallel_tree=None, random_state=42, ...)</pre></div></div></div></div></div></div></div>"
      ],
      "text/plain": [
       "Pipeline(steps=[('preprocessor',\n",
       "                 ColumnTransformer(remainder='passthrough',\n",
       "                                   transformers=[('onehot',\n",
       "                                                  OneHotEncoder(drop='first',\n",
       "                                                                handle_unknown='ignore',\n",
       "                                                                sparse_output=False),\n",
       "                                                  [2, 4, 5]),\n",
       "                                                 ('label', OrdinalEncoder(),\n",
       "                                                  [9]),\n",
       "                                                 ('scaler', StandardScaler(),\n",
       "                                                  [1, 6])])),\n",
       "                ('classifier1',\n",
       "                 XGBClassifier(base_score=None, booster=None, callbacks=None,\n",
       "                               colsample_bylevel=None, colsamp...\n",
       "                               feature_types=None, gamma=None, grow_policy=None,\n",
       "                               importance_type=None,\n",
       "                               interaction_constraints=None, learning_rate=0.1,\n",
       "                               max_bin=None, max_cat_threshold=None,\n",
       "                               max_cat_to_onehot=None, max_delta_step=None,\n",
       "                               max_depth=5, max_leaves=None,\n",
       "                               min_child_weight=None, missing=nan,\n",
       "                               monotone_constraints=None, multi_strategy=None,\n",
       "                               n_estimators=200, n_jobs=None,\n",
       "                               num_parallel_tree=None, random_state=42, ...))])"
      ]
     },
     "execution_count": 20,
     "metadata": {},
     "output_type": "execute_result"
    }
   ],
   "source": [
    "pipe.fit(x_train,y_train)\n",
    "pipe2.fit(x_train,y_train)\n",
    "pipe3.fit(x_train,y_train)\n",
    "pipe4.fit(x_train,y_train)\n"
   ]
  },
  {
   "cell_type": "code",
   "execution_count": 21,
   "id": "355292f8",
   "metadata": {
    "execution": {
     "iopub.execute_input": "2024-10-28T13:10:44.022158Z",
     "iopub.status.busy": "2024-10-28T13:10:44.021729Z",
     "iopub.status.idle": "2024-10-28T13:10:45.102692Z",
     "shell.execute_reply": "2024-10-28T13:10:45.101684Z"
    },
    "papermill": {
     "duration": 1.09647,
     "end_time": "2024-10-28T13:10:45.105616",
     "exception": false,
     "start_time": "2024-10-28T13:10:44.009146",
     "status": "completed"
    },
    "tags": []
   },
   "outputs": [],
   "source": [
    "x_out = pipe.predict(x_train)\n",
    "x_out2 = pipe2.predict(x_train)\n",
    "x_out3= pipe3.predict(x_train)\n",
    "x_out4= pipe4.predict(x_train)"
   ]
  },
  {
   "cell_type": "code",
   "execution_count": 22,
   "id": "16d949cd",
   "metadata": {
    "execution": {
     "iopub.execute_input": "2024-10-28T13:10:45.127769Z",
     "iopub.status.busy": "2024-10-28T13:10:45.127325Z",
     "iopub.status.idle": "2024-10-28T13:10:45.141531Z",
     "shell.execute_reply": "2024-10-28T13:10:45.140044Z"
    },
    "papermill": {
     "duration": 0.028425,
     "end_time": "2024-10-28T13:10:45.144211",
     "exception": false,
     "start_time": "2024-10-28T13:10:45.115786",
     "status": "completed"
    },
    "tags": []
   },
   "outputs": [
    {
     "data": {
      "text/plain": [
       "91.17571830505584"
      ]
     },
     "execution_count": 22,
     "metadata": {},
     "output_type": "execute_result"
    }
   ],
   "source": [
    "accuracy_score(y_train,x_out)*100"
   ]
  },
  {
   "cell_type": "code",
   "execution_count": 23,
   "id": "33b2ce59",
   "metadata": {
    "execution": {
     "iopub.execute_input": "2024-10-28T13:10:45.168213Z",
     "iopub.status.busy": "2024-10-28T13:10:45.167814Z",
     "iopub.status.idle": "2024-10-28T13:10:45.182766Z",
     "shell.execute_reply": "2024-10-28T13:10:45.181633Z"
    },
    "papermill": {
     "duration": 0.030492,
     "end_time": "2024-10-28T13:10:45.185108",
     "exception": false,
     "start_time": "2024-10-28T13:10:45.154616",
     "status": "completed"
    },
    "tags": []
   },
   "outputs": [
    {
     "data": {
      "text/plain": [
       "93.58342569699036"
      ]
     },
     "execution_count": 23,
     "metadata": {},
     "output_type": "execute_result"
    }
   ],
   "source": [
    "accuracy_score(y_train,x_out2)*100"
   ]
  },
  {
   "cell_type": "code",
   "execution_count": 24,
   "id": "79d12fb4",
   "metadata": {
    "execution": {
     "iopub.execute_input": "2024-10-28T13:10:45.207863Z",
     "iopub.status.busy": "2024-10-28T13:10:45.207435Z",
     "iopub.status.idle": "2024-10-28T13:10:45.222106Z",
     "shell.execute_reply": "2024-10-28T13:10:45.220634Z"
    },
    "papermill": {
     "duration": 0.029074,
     "end_time": "2024-10-28T13:10:45.224752",
     "exception": false,
     "start_time": "2024-10-28T13:10:45.195678",
     "status": "completed"
    },
    "tags": []
   },
   "outputs": [
    {
     "data": {
      "text/plain": [
       "95.55290306078949"
      ]
     },
     "execution_count": 24,
     "metadata": {},
     "output_type": "execute_result"
    }
   ],
   "source": [
    "accuracy_score(y_train,x_out3)*100"
   ]
  },
  {
   "cell_type": "code",
   "execution_count": 25,
   "id": "25e00e2f",
   "metadata": {
    "execution": {
     "iopub.execute_input": "2024-10-28T13:10:45.249316Z",
     "iopub.status.busy": "2024-10-28T13:10:45.248848Z",
     "iopub.status.idle": "2024-10-28T13:10:45.262799Z",
     "shell.execute_reply": "2024-10-28T13:10:45.261486Z"
    },
    "papermill": {
     "duration": 0.029267,
     "end_time": "2024-10-28T13:10:45.265361",
     "exception": false,
     "start_time": "2024-10-28T13:10:45.236094",
     "status": "completed"
    },
    "tags": []
   },
   "outputs": [
    {
     "data": {
      "text/plain": [
       "95.67738085088243"
      ]
     },
     "execution_count": 25,
     "metadata": {},
     "output_type": "execute_result"
    }
   ],
   "source": [
    "accuracy_score(y_train,x_out4)*100"
   ]
  },
  {
   "cell_type": "code",
   "execution_count": 26,
   "id": "51c0bda2",
   "metadata": {
    "execution": {
     "iopub.execute_input": "2024-10-28T13:10:45.293321Z",
     "iopub.status.busy": "2024-10-28T13:10:45.292804Z",
     "iopub.status.idle": "2024-10-28T13:10:45.302175Z",
     "shell.execute_reply": "2024-10-28T13:10:45.300974Z"
    },
    "papermill": {
     "duration": 0.026306,
     "end_time": "2024-10-28T13:10:45.304836",
     "exception": false,
     "start_time": "2024-10-28T13:10:45.278530",
     "status": "completed"
    },
    "tags": []
   },
   "outputs": [],
   "source": [
    "#  hyper parameter tuning using xgboost\n",
    "parameters = {\n",
    "    'classifier1__max_depth': [3, 6, 9,10],\n",
    "    'classifier1__learning_rate': [0.01, 0.05, 0.1, 0.2,0.5],\n",
    "    'classifier1__n_estimators': [50, 100, 200,300],\n",
    "    'classifier1__subsample': [0.8, 0.9, 1.0,0.5],       \n",
    "    'classifier1__colsample_bytree': [0.6, 0.8, 1.0,0.5]}\n",
    "hyper_xgb = GridSearchCV(pipe4, param_grid=parameters ,scoring=\"accuracy\",n_jobs=-1,cv=4,verbose=3)"
   ]
  },
  {
   "cell_type": "code",
   "execution_count": 27,
   "id": "938fa1c0",
   "metadata": {
    "execution": {
     "iopub.execute_input": "2024-10-28T13:10:45.340686Z",
     "iopub.status.busy": "2024-10-28T13:10:45.339355Z",
     "iopub.status.idle": "2024-10-28T13:10:45.345269Z",
     "shell.execute_reply": "2024-10-28T13:10:45.344104Z"
    },
    "papermill": {
     "duration": 0.027449,
     "end_time": "2024-10-28T13:10:45.349656",
     "exception": false,
     "start_time": "2024-10-28T13:10:45.322207",
     "status": "completed"
    },
    "tags": []
   },
   "outputs": [],
   "source": [
    "from sklearn.model_selection import RandomizedSearchCV"
   ]
  },
  {
   "cell_type": "code",
   "execution_count": 28,
   "id": "b14924ee",
   "metadata": {
    "execution": {
     "iopub.execute_input": "2024-10-28T13:10:45.378710Z",
     "iopub.status.busy": "2024-10-28T13:10:45.378262Z",
     "iopub.status.idle": "2024-10-28T13:10:45.384211Z",
     "shell.execute_reply": "2024-10-28T13:10:45.382956Z"
    },
    "papermill": {
     "duration": 0.021267,
     "end_time": "2024-10-28T13:10:45.386703",
     "exception": false,
     "start_time": "2024-10-28T13:10:45.365436",
     "status": "completed"
    },
    "tags": []
   },
   "outputs": [],
   "source": [
    "randm_cv = RandomizedSearchCV(pipe4, param_distributions=parameters ,scoring=\"accuracy\",n_jobs=-1,n_iter=50,cv=4,verbose=3,random_state=42)"
   ]
  },
  {
   "cell_type": "code",
   "execution_count": 29,
   "id": "60b67b8b",
   "metadata": {
    "execution": {
     "iopub.execute_input": "2024-10-28T13:10:45.411407Z",
     "iopub.status.busy": "2024-10-28T13:10:45.411011Z",
     "iopub.status.idle": "2024-10-28T13:13:17.203482Z",
     "shell.execute_reply": "2024-10-28T13:13:17.202297Z"
    },
    "papermill": {
     "duration": 151.807129,
     "end_time": "2024-10-28T13:13:17.206111",
     "exception": false,
     "start_time": "2024-10-28T13:10:45.398982",
     "status": "completed"
    },
    "tags": []
   },
   "outputs": [
    {
     "name": "stdout",
     "output_type": "stream",
     "text": [
      "Fitting 4 folds for each of 50 candidates, totalling 200 fits\n",
      "[CV 1/4] END classifier1__colsample_bytree=0.5, classifier1__learning_rate=0.5, classifier1__max_depth=6, classifier1__n_estimators=200, classifier1__subsample=0.8;, score=0.944 total time=   3.0s\n",
      "[CV 1/4] END classifier1__colsample_bytree=1.0, classifier1__learning_rate=0.01, classifier1__max_depth=10, classifier1__n_estimators=100, classifier1__subsample=0.5;, score=0.946 total time=   2.6s\n",
      "[CV 1/4] END classifier1__colsample_bytree=1.0, classifier1__learning_rate=0.5, classifier1__max_depth=3, classifier1__n_estimators=50, classifier1__subsample=0.5;, score=0.947 total time=   0.8s\n",
      "[CV 1/4] END classifier1__colsample_bytree=1.0, classifier1__learning_rate=0.1, classifier1__max_depth=3, classifier1__n_estimators=50, classifier1__subsample=1.0;, score=0.939 total time=   0.8s\n",
      "[CV 4/4] END classifier1__colsample_bytree=1.0, classifier1__learning_rate=0.1, classifier1__max_depth=3, classifier1__n_estimators=50, classifier1__subsample=1.0;, score=0.941 total time=   0.9s\n",
      "[CV 4/4] END classifier1__colsample_bytree=1.0, classifier1__learning_rate=0.05, classifier1__max_depth=9, classifier1__n_estimators=100, classifier1__subsample=0.5;, score=0.953 total time=   2.5s\n",
      "[CV 4/4] END classifier1__colsample_bytree=0.8, classifier1__learning_rate=0.01, classifier1__max_depth=6, classifier1__n_estimators=200, classifier1__subsample=1.0;, score=0.947 total time=   3.0s\n",
      "[CV 4/4] END classifier1__colsample_bytree=0.6, classifier1__learning_rate=0.2, classifier1__max_depth=9, classifier1__n_estimators=300, classifier1__subsample=0.5;, score=0.948 total time=   6.3s\n",
      "[CV 4/4] END classifier1__colsample_bytree=0.8, classifier1__learning_rate=0.1, classifier1__max_depth=6, classifier1__n_estimators=50, classifier1__subsample=0.8;, score=0.952 total time=   1.0s\n",
      "[CV 4/4] END classifier1__colsample_bytree=0.8, classifier1__learning_rate=0.05, classifier1__max_depth=6, classifier1__n_estimators=100, classifier1__subsample=0.9;, score=0.952 total time=   1.7s\n",
      "[CV 4/4] END classifier1__colsample_bytree=0.5, classifier1__learning_rate=0.01, classifier1__max_depth=6, classifier1__n_estimators=200, classifier1__subsample=1.0;, score=0.945 total time=   3.0s\n",
      "[CV 4/4] END classifier1__colsample_bytree=1.0, classifier1__learning_rate=0.05, classifier1__max_depth=3, classifier1__n_estimators=50, classifier1__subsample=1.0;, score=0.935 total time=   0.8s\n",
      "[CV 4/4] END classifier1__colsample_bytree=0.8, classifier1__learning_rate=0.2, classifier1__max_depth=10, classifier1__n_estimators=300, classifier1__subsample=0.8;, score=0.948 total time=   6.9s\n",
      "[CV 4/4] END classifier1__colsample_bytree=0.6, classifier1__learning_rate=0.05, classifier1__max_depth=3, classifier1__n_estimators=50, classifier1__subsample=0.9;, score=0.940 total time=   0.8s\n",
      "[CV 4/4] END classifier1__colsample_bytree=0.6, classifier1__learning_rate=0.01, classifier1__max_depth=9, classifier1__n_estimators=300, classifier1__subsample=0.8;, score=0.952 total time=   6.9s\n",
      "[CV 1/4] END classifier1__colsample_bytree=0.5, classifier1__learning_rate=0.1, classifier1__max_depth=3, classifier1__n_estimators=200, classifier1__subsample=1.0;, score=0.947 total time=   2.0s\n",
      "[CV 1/4] END classifier1__colsample_bytree=0.8, classifier1__learning_rate=0.2, classifier1__max_depth=3, classifier1__n_estimators=300, classifier1__subsample=1.0;, score=0.949 total time=   2.8s\n",
      "[CV 1/4] END classifier1__colsample_bytree=0.5, classifier1__learning_rate=0.2, classifier1__max_depth=3, classifier1__n_estimators=100, classifier1__subsample=0.5;, score=0.947 total time=   1.2s\n",
      "[CV 1/4] END classifier1__colsample_bytree=0.8, classifier1__learning_rate=0.1, classifier1__max_depth=6, classifier1__n_estimators=300, classifier1__subsample=0.9;, score=0.950 total time=   4.2s\n",
      "[CV 1/4] END classifier1__colsample_bytree=0.8, classifier1__learning_rate=0.5, classifier1__max_depth=10, classifier1__n_estimators=100, classifier1__subsample=1.0;, score=0.945 total time=   2.3s\n",
      "[CV 2/4] END classifier1__colsample_bytree=0.5, classifier1__learning_rate=0.05, classifier1__max_depth=6, classifier1__n_estimators=100, classifier1__subsample=0.9;, score=0.950 total time=   1.7s\n",
      "[CV 2/4] END classifier1__colsample_bytree=0.5, classifier1__learning_rate=0.05, classifier1__max_depth=6, classifier1__n_estimators=50, classifier1__subsample=0.8;, score=0.945 total time=   1.0s\n",
      "[CV 2/4] END classifier1__colsample_bytree=0.6, classifier1__learning_rate=0.2, classifier1__max_depth=3, classifier1__n_estimators=100, classifier1__subsample=0.8;, score=0.949 total time=   1.2s\n",
      "[CV 2/4] END classifier1__colsample_bytree=0.6, classifier1__learning_rate=0.2, classifier1__max_depth=9, classifier1__n_estimators=100, classifier1__subsample=0.5;, score=0.949 total time=   2.2s\n",
      "[CV 1/4] END classifier1__colsample_bytree=1.0, classifier1__learning_rate=0.2, classifier1__max_depth=3, classifier1__n_estimators=50, classifier1__subsample=0.8;, score=0.944 total time=   0.8s\n",
      "[CV 1/4] END classifier1__colsample_bytree=0.8, classifier1__learning_rate=0.01, classifier1__max_depth=3, classifier1__n_estimators=300, classifier1__subsample=0.9;, score=0.936 total time=   3.1s\n",
      "[CV 1/4] END classifier1__colsample_bytree=0.5, classifier1__learning_rate=0.05, classifier1__max_depth=9, classifier1__n_estimators=300, classifier1__subsample=0.8;, score=0.949 total time=   6.0s\n",
      "[CV 1/4] END classifier1__colsample_bytree=0.8, classifier1__learning_rate=0.05, classifier1__max_depth=3, classifier1__n_estimators=200, classifier1__subsample=1.0;, score=0.944 total time=   2.9s\n",
      "[CV 2/4] END classifier1__colsample_bytree=0.8, classifier1__learning_rate=0.01, classifier1__max_depth=6, classifier1__n_estimators=100, classifier1__subsample=1.0;, score=0.938 total time=   1.6s\n",
      "[CV 2/4] END classifier1__colsample_bytree=0.6, classifier1__learning_rate=0.2, classifier1__max_depth=3, classifier1__n_estimators=100, classifier1__subsample=1.0;, score=0.949 total time=   1.2s\n",
      "[CV 2/4] END classifier1__colsample_bytree=0.5, classifier1__learning_rate=0.1, classifier1__max_depth=10, classifier1__n_estimators=100, classifier1__subsample=1.0;, score=0.952 total time=   2.5s\n",
      "[CV 2/4] END classifier1__colsample_bytree=0.8, classifier1__learning_rate=0.01, classifier1__max_depth=9, classifier1__n_estimators=300, classifier1__subsample=0.9;, score=0.952 total time=   6.9s\n",
      "[CV 3/4] END classifier1__colsample_bytree=0.6, classifier1__learning_rate=0.1, classifier1__max_depth=10, classifier1__n_estimators=200, classifier1__subsample=0.8;, score=0.953 total time=   4.6s\n",
      "[CV 3/4] END classifier1__colsample_bytree=0.5, classifier1__learning_rate=0.05, classifier1__max_depth=3, classifier1__n_estimators=50, classifier1__subsample=1.0;, score=0.937 total time=   0.8s\n",
      "[CV 3/4] END classifier1__colsample_bytree=0.6, classifier1__learning_rate=0.1, classifier1__max_depth=3, classifier1__n_estimators=50, classifier1__subsample=0.8;, score=0.942 total time=   0.8s\n",
      "[CV 3/4] END classifier1__colsample_bytree=1.0, classifier1__learning_rate=0.5, classifier1__max_depth=6, classifier1__n_estimators=200, classifier1__subsample=0.5;, score=0.944 total time=   3.4s\n",
      "[CV 3/4] END classifier1__colsample_bytree=0.5, classifier1__learning_rate=0.5, classifier1__max_depth=10, classifier1__n_estimators=300, classifier1__subsample=0.9;, score=0.948 total time=   6.7s\n",
      "[CV 3/4] END classifier1__colsample_bytree=0.6, classifier1__learning_rate=0.01, classifier1__max_depth=10, classifier1__n_estimators=50, classifier1__subsample=0.5;, score=0.860 total time=   1.4s\n",
      "[CV 3/4] END classifier1__colsample_bytree=0.6, classifier1__learning_rate=0.2, classifier1__max_depth=10, classifier1__n_estimators=50, classifier1__subsample=0.8;, score=0.952 total time=   1.7s\n",
      "[CV 3/4] END classifier1__colsample_bytree=0.5, classifier1__learning_rate=0.2, classifier1__max_depth=6, classifier1__n_estimators=200, classifier1__subsample=0.8;, score=0.952 total time=   2.9s\n",
      "[CV 1/4] END classifier1__colsample_bytree=1.0, classifier1__learning_rate=0.01, classifier1__max_depth=6, classifier1__n_estimators=300, classifier1__subsample=0.5;, score=0.948 total time=   4.7s\n",
      "[CV 4/4] END classifier1__colsample_bytree=0.5, classifier1__learning_rate=0.5, classifier1__max_depth=6, classifier1__n_estimators=200, classifier1__subsample=0.8;, score=0.948 total time=   3.0s\n",
      "[CV 4/4] END classifier1__colsample_bytree=1.0, classifier1__learning_rate=0.01, classifier1__max_depth=10, classifier1__n_estimators=100, classifier1__subsample=0.5;, score=0.950 total time=   2.9s\n",
      "[CV 3/4] END classifier1__colsample_bytree=1.0, classifier1__learning_rate=0.5, classifier1__max_depth=3, classifier1__n_estimators=50, classifier1__subsample=0.5;, score=0.950 total time=   1.0s\n",
      "[CV 3/4] END classifier1__colsample_bytree=1.0, classifier1__learning_rate=0.1, classifier1__max_depth=3, classifier1__n_estimators=50, classifier1__subsample=1.0;, score=0.942 total time=   0.8s\n",
      "[CV 3/4] END classifier1__colsample_bytree=1.0, classifier1__learning_rate=0.05, classifier1__max_depth=9, classifier1__n_estimators=100, classifier1__subsample=0.5;, score=0.953 total time=   2.5s\n",
      "[CV 3/4] END classifier1__colsample_bytree=0.8, classifier1__learning_rate=0.01, classifier1__max_depth=6, classifier1__n_estimators=200, classifier1__subsample=1.0;, score=0.946 total time=   3.0s\n",
      "[CV 3/4] END classifier1__colsample_bytree=0.6, classifier1__learning_rate=0.2, classifier1__max_depth=9, classifier1__n_estimators=300, classifier1__subsample=0.5;, score=0.949 total time=   6.4s\n",
      "[CV 3/4] END classifier1__colsample_bytree=0.8, classifier1__learning_rate=0.1, classifier1__max_depth=6, classifier1__n_estimators=50, classifier1__subsample=0.8;, score=0.952 total time=   1.0s\n",
      "[CV 3/4] END classifier1__colsample_bytree=0.8, classifier1__learning_rate=0.05, classifier1__max_depth=6, classifier1__n_estimators=100, classifier1__subsample=0.9;, score=0.952 total time=   1.7s\n",
      "[CV 3/4] END classifier1__colsample_bytree=0.5, classifier1__learning_rate=0.01, classifier1__max_depth=6, classifier1__n_estimators=200, classifier1__subsample=1.0;, score=0.944 total time=   3.0s\n",
      "[CV 3/4] END classifier1__colsample_bytree=1.0, classifier1__learning_rate=0.05, classifier1__max_depth=3, classifier1__n_estimators=50, classifier1__subsample=1.0;, score=0.935 total time=   0.8s\n",
      "[CV 3/4] END classifier1__colsample_bytree=0.8, classifier1__learning_rate=0.2, classifier1__max_depth=10, classifier1__n_estimators=300, classifier1__subsample=0.8;, score=0.951 total time=   6.9s\n",
      "[CV 3/4] END classifier1__colsample_bytree=0.6, classifier1__learning_rate=0.05, classifier1__max_depth=3, classifier1__n_estimators=50, classifier1__subsample=0.9;, score=0.937 total time=   0.8s\n",
      "[CV 3/4] END classifier1__colsample_bytree=0.6, classifier1__learning_rate=0.01, classifier1__max_depth=9, classifier1__n_estimators=300, classifier1__subsample=0.8;, score=0.952 total time=   7.3s\n",
      "[CV 4/4] END classifier1__colsample_bytree=0.5, classifier1__learning_rate=0.1, classifier1__max_depth=3, classifier1__n_estimators=200, classifier1__subsample=1.0;, score=0.950 total time=   2.0s\n",
      "[CV 4/4] END classifier1__colsample_bytree=0.8, classifier1__learning_rate=0.2, classifier1__max_depth=3, classifier1__n_estimators=300, classifier1__subsample=1.0;, score=0.953 total time=   2.8s\n",
      "[CV 4/4] END classifier1__colsample_bytree=0.5, classifier1__learning_rate=0.2, classifier1__max_depth=3, classifier1__n_estimators=100, classifier1__subsample=0.5;, score=0.950 total time=   1.3s\n",
      "[CV 4/4] END classifier1__colsample_bytree=0.8, classifier1__learning_rate=0.1, classifier1__max_depth=6, classifier1__n_estimators=300, classifier1__subsample=0.9;, score=0.953 total time=   4.1s\n",
      "[CV 4/4] END classifier1__colsample_bytree=0.8, classifier1__learning_rate=0.5, classifier1__max_depth=10, classifier1__n_estimators=100, classifier1__subsample=1.0;, score=0.949 total time=   2.3s\n",
      "[CV 4/4] END classifier1__colsample_bytree=0.5, classifier1__learning_rate=0.05, classifier1__max_depth=6, classifier1__n_estimators=100, classifier1__subsample=0.9;, score=0.952 total time=   1.7s\n",
      "[CV 4/4] END classifier1__colsample_bytree=0.5, classifier1__learning_rate=0.05, classifier1__max_depth=6, classifier1__n_estimators=50, classifier1__subsample=0.8;, score=0.946 total time=   1.0s\n",
      "[CV 4/4] END classifier1__colsample_bytree=0.6, classifier1__learning_rate=0.2, classifier1__max_depth=3, classifier1__n_estimators=100, classifier1__subsample=0.8;, score=0.950 total time=   1.3s\n",
      "[CV 4/4] END classifier1__colsample_bytree=0.6, classifier1__learning_rate=0.2, classifier1__max_depth=9, classifier1__n_estimators=100, classifier1__subsample=0.5;, score=0.952 total time=   2.2s\n",
      "[CV 4/4] END classifier1__colsample_bytree=1.0, classifier1__learning_rate=0.2, classifier1__max_depth=3, classifier1__n_estimators=50, classifier1__subsample=0.8;, score=0.947 total time=   0.8s\n",
      "[CV 4/4] END classifier1__colsample_bytree=0.8, classifier1__learning_rate=0.01, classifier1__max_depth=3, classifier1__n_estimators=300, classifier1__subsample=0.9;, score=0.938 total time=   3.1s\n",
      "[CV 4/4] END classifier1__colsample_bytree=0.5, classifier1__learning_rate=0.05, classifier1__max_depth=9, classifier1__n_estimators=300, classifier1__subsample=0.8;, score=0.952 total time=   6.4s\n",
      "[CV 4/4] END classifier1__colsample_bytree=0.8, classifier1__learning_rate=0.05, classifier1__max_depth=3, classifier1__n_estimators=200, classifier1__subsample=1.0;, score=0.946 total time=   2.2s\n",
      "[CV 3/4] END classifier1__colsample_bytree=0.8, classifier1__learning_rate=0.01, classifier1__max_depth=6, classifier1__n_estimators=100, classifier1__subsample=1.0;, score=0.939 total time=   1.6s\n",
      "[CV 3/4] END classifier1__colsample_bytree=0.6, classifier1__learning_rate=0.2, classifier1__max_depth=3, classifier1__n_estimators=100, classifier1__subsample=1.0;, score=0.951 total time=   1.2s\n",
      "[CV 3/4] END classifier1__colsample_bytree=0.5, classifier1__learning_rate=0.1, classifier1__max_depth=10, classifier1__n_estimators=100, classifier1__subsample=1.0;, score=0.953 total time=   2.5s\n",
      "[CV 3/4] END classifier1__colsample_bytree=0.8, classifier1__learning_rate=0.01, classifier1__max_depth=9, classifier1__n_estimators=300, classifier1__subsample=0.9;, score=0.953 total time=   6.8s\n",
      "[CV 2/4] END classifier1__colsample_bytree=0.6, classifier1__learning_rate=0.1, classifier1__max_depth=10, classifier1__n_estimators=200, classifier1__subsample=0.8;, score=0.951 total time=   4.6s\n",
      "[CV 2/4] END classifier1__colsample_bytree=0.5, classifier1__learning_rate=0.05, classifier1__max_depth=3, classifier1__n_estimators=50, classifier1__subsample=1.0;, score=0.936 total time=   0.8s\n",
      "[CV 2/4] END classifier1__colsample_bytree=0.6, classifier1__learning_rate=0.1, classifier1__max_depth=3, classifier1__n_estimators=50, classifier1__subsample=0.8;, score=0.940 total time=   0.8s\n",
      "[CV 2/4] END classifier1__colsample_bytree=1.0, classifier1__learning_rate=0.5, classifier1__max_depth=6, classifier1__n_estimators=200, classifier1__subsample=0.5;, score=0.941 total time=   3.4s\n",
      "[CV 2/4] END classifier1__colsample_bytree=0.5, classifier1__learning_rate=0.5, classifier1__max_depth=10, classifier1__n_estimators=300, classifier1__subsample=0.9;, score=0.945 total time=   6.6s\n",
      "[CV 2/4] END classifier1__colsample_bytree=0.6, classifier1__learning_rate=0.01, classifier1__max_depth=10, classifier1__n_estimators=50, classifier1__subsample=0.5;, score=0.861 total time=   1.4s\n",
      "[CV 2/4] END classifier1__colsample_bytree=0.6, classifier1__learning_rate=0.2, classifier1__max_depth=10, classifier1__n_estimators=50, classifier1__subsample=0.8;, score=0.951 total time=   1.8s\n",
      "[CV 2/4] END classifier1__colsample_bytree=0.5, classifier1__learning_rate=0.2, classifier1__max_depth=6, classifier1__n_estimators=200, classifier1__subsample=0.8;, score=0.950 total time=   3.2s\n",
      "[CV 3/4] END classifier1__colsample_bytree=1.0, classifier1__learning_rate=0.01, classifier1__max_depth=6, classifier1__n_estimators=300, classifier1__subsample=0.5;, score=0.949 total time=   4.6s\n",
      "[CV 3/4] END classifier1__colsample_bytree=0.8, classifier1__learning_rate=0.05, classifier1__max_depth=10, classifier1__n_estimators=200, classifier1__subsample=1.0;, score=0.954 total time=   4.4s\n",
      "[CV 3/4] END classifier1__colsample_bytree=0.5, classifier1__learning_rate=0.5, classifier1__max_depth=6, classifier1__n_estimators=200, classifier1__subsample=0.8;, score=0.947 total time=   3.0s\n",
      "[CV 2/4] END classifier1__colsample_bytree=1.0, classifier1__learning_rate=0.01, classifier1__max_depth=10, classifier1__n_estimators=100, classifier1__subsample=0.5;, score=0.948 total time=   2.6s\n",
      "[CV 2/4] END classifier1__colsample_bytree=1.0, classifier1__learning_rate=0.5, classifier1__max_depth=3, classifier1__n_estimators=50, classifier1__subsample=0.5;, score=0.950 total time=   1.1s\n",
      "[CV 2/4] END classifier1__colsample_bytree=1.0, classifier1__learning_rate=0.1, classifier1__max_depth=3, classifier1__n_estimators=50, classifier1__subsample=1.0;, score=0.939 total time=   0.8s\n",
      "[CV 2/4] END classifier1__colsample_bytree=1.0, classifier1__learning_rate=0.05, classifier1__max_depth=9, classifier1__n_estimators=100, classifier1__subsample=0.5;, score=0.951 total time=   2.5s\n",
      "[CV 2/4] END classifier1__colsample_bytree=0.8, classifier1__learning_rate=0.01, classifier1__max_depth=6, classifier1__n_estimators=200, classifier1__subsample=1.0;, score=0.946 total time=   3.1s\n",
      "[CV 2/4] END classifier1__colsample_bytree=0.6, classifier1__learning_rate=0.2, classifier1__max_depth=9, classifier1__n_estimators=300, classifier1__subsample=0.5;, score=0.948 total time=   6.4s\n",
      "[CV 2/4] END classifier1__colsample_bytree=0.8, classifier1__learning_rate=0.1, classifier1__max_depth=6, classifier1__n_estimators=50, classifier1__subsample=0.8;, score=0.951 total time=   1.0s\n",
      "[CV 2/4] END classifier1__colsample_bytree=0.8, classifier1__learning_rate=0.05, classifier1__max_depth=6, classifier1__n_estimators=100, classifier1__subsample=0.9;, score=0.951 total time=   1.7s\n",
      "[CV 2/4] END classifier1__colsample_bytree=0.5, classifier1__learning_rate=0.01, classifier1__max_depth=6, classifier1__n_estimators=200, classifier1__subsample=1.0;, score=0.942 total time=   3.0s\n",
      "[CV 2/4] END classifier1__colsample_bytree=1.0, classifier1__learning_rate=0.05, classifier1__max_depth=3, classifier1__n_estimators=50, classifier1__subsample=1.0;, score=0.932 total time=   0.8s\n",
      "[CV 2/4] END classifier1__colsample_bytree=0.8, classifier1__learning_rate=0.2, classifier1__max_depth=10, classifier1__n_estimators=300, classifier1__subsample=0.8;, score=0.949 total time=   7.0s\n",
      "[CV 2/4] END classifier1__colsample_bytree=0.6, classifier1__learning_rate=0.05, classifier1__max_depth=3, classifier1__n_estimators=50, classifier1__subsample=0.9;, score=0.936 total time=   0.8s\n",
      "[CV 2/4] END classifier1__colsample_bytree=0.6, classifier1__learning_rate=0.01, classifier1__max_depth=9, classifier1__n_estimators=300, classifier1__subsample=0.8;, score=0.951 total time=   7.3s\n",
      "[CV 3/4] END classifier1__colsample_bytree=0.5, classifier1__learning_rate=0.1, classifier1__max_depth=3, classifier1__n_estimators=200, classifier1__subsample=1.0;, score=0.949 total time=   2.0s\n",
      "[CV 3/4] END classifier1__colsample_bytree=0.8, classifier1__learning_rate=0.2, classifier1__max_depth=3, classifier1__n_estimators=300, classifier1__subsample=1.0;, score=0.953 total time=   2.8s\n",
      "[CV 3/4] END classifier1__colsample_bytree=0.5, classifier1__learning_rate=0.2, classifier1__max_depth=3, classifier1__n_estimators=100, classifier1__subsample=0.5;, score=0.949 total time=   1.2s\n",
      "[CV 3/4] END classifier1__colsample_bytree=0.8, classifier1__learning_rate=0.1, classifier1__max_depth=6, classifier1__n_estimators=300, classifier1__subsample=0.9;, score=0.953 total time=   4.2s\n",
      "[CV 3/4] END classifier1__colsample_bytree=0.8, classifier1__learning_rate=0.5, classifier1__max_depth=10, classifier1__n_estimators=100, classifier1__subsample=1.0;, score=0.950 total time=   2.2s\n",
      "[CV 3/4] END classifier1__colsample_bytree=0.5, classifier1__learning_rate=0.05, classifier1__max_depth=6, classifier1__n_estimators=100, classifier1__subsample=0.9;, score=0.951 total time=   1.7s\n",
      "[CV 3/4] END classifier1__colsample_bytree=0.5, classifier1__learning_rate=0.05, classifier1__max_depth=6, classifier1__n_estimators=50, classifier1__subsample=0.8;, score=0.945 total time=   1.0s\n",
      "[CV 3/4] END classifier1__colsample_bytree=0.6, classifier1__learning_rate=0.2, classifier1__max_depth=3, classifier1__n_estimators=100, classifier1__subsample=0.8;, score=0.951 total time=   1.3s\n",
      "[CV 3/4] END classifier1__colsample_bytree=0.6, classifier1__learning_rate=0.2, classifier1__max_depth=9, classifier1__n_estimators=100, classifier1__subsample=0.5;, score=0.951 total time=   2.2s\n",
      "[CV 3/4] END classifier1__colsample_bytree=1.0, classifier1__learning_rate=0.2, classifier1__max_depth=3, classifier1__n_estimators=50, classifier1__subsample=0.8;, score=0.946 total time=   0.8s\n",
      "[CV 3/4] END classifier1__colsample_bytree=0.8, classifier1__learning_rate=0.01, classifier1__max_depth=3, classifier1__n_estimators=300, classifier1__subsample=0.9;, score=0.936 total time=   3.1s\n",
      "[CV 3/4] END classifier1__colsample_bytree=0.5, classifier1__learning_rate=0.05, classifier1__max_depth=9, classifier1__n_estimators=300, classifier1__subsample=0.8;, score=0.953 total time=   6.1s\n",
      "[CV 3/4] END classifier1__colsample_bytree=0.8, classifier1__learning_rate=0.05, classifier1__max_depth=3, classifier1__n_estimators=200, classifier1__subsample=1.0;, score=0.946 total time=   2.8s\n",
      "[CV 4/4] END classifier1__colsample_bytree=0.8, classifier1__learning_rate=0.01, classifier1__max_depth=6, classifier1__n_estimators=100, classifier1__subsample=1.0;, score=0.940 total time=   1.6s\n",
      "[CV 4/4] END classifier1__colsample_bytree=0.6, classifier1__learning_rate=0.2, classifier1__max_depth=3, classifier1__n_estimators=100, classifier1__subsample=1.0;, score=0.951 total time=   1.2s\n",
      "[CV 4/4] END classifier1__colsample_bytree=0.5, classifier1__learning_rate=0.1, classifier1__max_depth=10, classifier1__n_estimators=100, classifier1__subsample=1.0;, score=0.952 total time=   2.5s\n",
      "[CV 4/4] END classifier1__colsample_bytree=0.8, classifier1__learning_rate=0.01, classifier1__max_depth=9, classifier1__n_estimators=300, classifier1__subsample=0.9;, score=0.953 total time=   6.9s\n",
      "[CV 4/4] END classifier1__colsample_bytree=0.6, classifier1__learning_rate=0.1, classifier1__max_depth=10, classifier1__n_estimators=200, classifier1__subsample=0.8;, score=0.952 total time=   4.6s\n",
      "[CV 4/4] END classifier1__colsample_bytree=0.5, classifier1__learning_rate=0.05, classifier1__max_depth=3, classifier1__n_estimators=50, classifier1__subsample=1.0;, score=0.939 total time=   0.8s\n",
      "[CV 4/4] END classifier1__colsample_bytree=0.6, classifier1__learning_rate=0.1, classifier1__max_depth=3, classifier1__n_estimators=50, classifier1__subsample=0.8;, score=0.943 total time=   0.8s\n",
      "[CV 4/4] END classifier1__colsample_bytree=1.0, classifier1__learning_rate=0.5, classifier1__max_depth=6, classifier1__n_estimators=200, classifier1__subsample=0.5;, score=0.942 total time=   3.3s\n",
      "[CV 4/4] END classifier1__colsample_bytree=0.5, classifier1__learning_rate=0.5, classifier1__max_depth=10, classifier1__n_estimators=300, classifier1__subsample=0.9;, score=0.946 total time=   6.7s\n",
      "[CV 4/4] END classifier1__colsample_bytree=0.6, classifier1__learning_rate=0.01, classifier1__max_depth=10, classifier1__n_estimators=50, classifier1__subsample=0.5;, score=0.860 total time=   1.4s\n",
      "[CV 4/4] END classifier1__colsample_bytree=0.6, classifier1__learning_rate=0.2, classifier1__max_depth=10, classifier1__n_estimators=50, classifier1__subsample=0.8;, score=0.952 total time=   2.1s\n",
      "[CV 4/4] END classifier1__colsample_bytree=0.5, classifier1__learning_rate=0.2, classifier1__max_depth=6, classifier1__n_estimators=200, classifier1__subsample=0.8;, score=0.953 total time=   3.2s\n",
      "[CV 4/4] END classifier1__colsample_bytree=1.0, classifier1__learning_rate=0.01, classifier1__max_depth=6, classifier1__n_estimators=300, classifier1__subsample=0.5;, score=0.950 total time=   4.7s\n",
      "[CV 4/4] END classifier1__colsample_bytree=0.8, classifier1__learning_rate=0.05, classifier1__max_depth=10, classifier1__n_estimators=200, classifier1__subsample=1.0;, score=0.953 total time=   4.4s\n",
      "[CV 2/4] END classifier1__colsample_bytree=0.5, classifier1__learning_rate=0.5, classifier1__max_depth=6, classifier1__n_estimators=200, classifier1__subsample=0.8;, score=0.947 total time=   3.1s\n",
      "[CV 3/4] END classifier1__colsample_bytree=1.0, classifier1__learning_rate=0.01, classifier1__max_depth=10, classifier1__n_estimators=100, classifier1__subsample=0.5;, score=0.948 total time=   3.1s\n",
      "[CV 4/4] END classifier1__colsample_bytree=1.0, classifier1__learning_rate=0.5, classifier1__max_depth=3, classifier1__n_estimators=50, classifier1__subsample=0.5;, score=0.951 total time=   1.0s\n",
      "[CV 1/4] END classifier1__colsample_bytree=1.0, classifier1__learning_rate=0.05, classifier1__max_depth=9, classifier1__n_estimators=100, classifier1__subsample=0.5;, score=0.949 total time=   2.5s\n",
      "[CV 1/4] END classifier1__colsample_bytree=0.8, classifier1__learning_rate=0.01, classifier1__max_depth=6, classifier1__n_estimators=200, classifier1__subsample=1.0;, score=0.943 total time=   3.1s\n",
      "[CV 1/4] END classifier1__colsample_bytree=0.6, classifier1__learning_rate=0.2, classifier1__max_depth=9, classifier1__n_estimators=300, classifier1__subsample=0.5;, score=0.944 total time=   6.5s\n",
      "[CV 1/4] END classifier1__colsample_bytree=0.8, classifier1__learning_rate=0.1, classifier1__max_depth=6, classifier1__n_estimators=50, classifier1__subsample=0.8;, score=0.949 total time=   1.0s\n",
      "[CV 1/4] END classifier1__colsample_bytree=0.8, classifier1__learning_rate=0.05, classifier1__max_depth=6, classifier1__n_estimators=100, classifier1__subsample=0.9;, score=0.949 total time=   1.7s\n",
      "[CV 1/4] END classifier1__colsample_bytree=0.5, classifier1__learning_rate=0.01, classifier1__max_depth=6, classifier1__n_estimators=200, classifier1__subsample=1.0;, score=0.942 total time=   3.0s\n",
      "[CV 1/4] END classifier1__colsample_bytree=1.0, classifier1__learning_rate=0.05, classifier1__max_depth=3, classifier1__n_estimators=50, classifier1__subsample=1.0;, score=0.935 total time=   0.8s\n",
      "[CV 1/4] END classifier1__colsample_bytree=0.8, classifier1__learning_rate=0.2, classifier1__max_depth=10, classifier1__n_estimators=300, classifier1__subsample=0.8;, score=0.946 total time=   6.9s\n",
      "[CV 1/4] END classifier1__colsample_bytree=0.6, classifier1__learning_rate=0.05, classifier1__max_depth=3, classifier1__n_estimators=50, classifier1__subsample=0.9;, score=0.936 total time=   0.8s\n",
      "[CV 1/4] END classifier1__colsample_bytree=0.6, classifier1__learning_rate=0.01, classifier1__max_depth=9, classifier1__n_estimators=300, classifier1__subsample=0.8;, score=0.949 total time=   7.4s\n",
      "[CV 2/4] END classifier1__colsample_bytree=0.5, classifier1__learning_rate=0.1, classifier1__max_depth=3, classifier1__n_estimators=200, classifier1__subsample=1.0;, score=0.948 total time=   2.0s\n",
      "[CV 2/4] END classifier1__colsample_bytree=0.8, classifier1__learning_rate=0.2, classifier1__max_depth=3, classifier1__n_estimators=300, classifier1__subsample=1.0;, score=0.951 total time=   2.8s\n",
      "[CV 2/4] END classifier1__colsample_bytree=0.5, classifier1__learning_rate=0.2, classifier1__max_depth=3, classifier1__n_estimators=100, classifier1__subsample=0.5;, score=0.948 total time=   1.2s\n",
      "[CV 2/4] END classifier1__colsample_bytree=0.8, classifier1__learning_rate=0.1, classifier1__max_depth=6, classifier1__n_estimators=300, classifier1__subsample=0.9;, score=0.952 total time=   4.1s\n",
      "[CV 2/4] END classifier1__colsample_bytree=0.8, classifier1__learning_rate=0.5, classifier1__max_depth=10, classifier1__n_estimators=100, classifier1__subsample=1.0;, score=0.948 total time=   2.2s\n",
      "[CV 1/4] END classifier1__colsample_bytree=0.5, classifier1__learning_rate=0.05, classifier1__max_depth=6, classifier1__n_estimators=100, classifier1__subsample=0.9;, score=0.949 total time=   1.7s\n",
      "[CV 1/4] END classifier1__colsample_bytree=0.5, classifier1__learning_rate=0.05, classifier1__max_depth=6, classifier1__n_estimators=50, classifier1__subsample=0.8;, score=0.943 total time=   1.0s\n",
      "[CV 1/4] END classifier1__colsample_bytree=0.6, classifier1__learning_rate=0.2, classifier1__max_depth=3, classifier1__n_estimators=100, classifier1__subsample=0.8;, score=0.947 total time=   1.3s\n",
      "[CV 1/4] END classifier1__colsample_bytree=0.6, classifier1__learning_rate=0.2, classifier1__max_depth=9, classifier1__n_estimators=100, classifier1__subsample=0.5;, score=0.946 total time=   2.2s\n",
      "[CV 2/4] END classifier1__colsample_bytree=1.0, classifier1__learning_rate=0.2, classifier1__max_depth=3, classifier1__n_estimators=50, classifier1__subsample=0.8;, score=0.944 total time=   0.8s\n",
      "[CV 2/4] END classifier1__colsample_bytree=0.8, classifier1__learning_rate=0.01, classifier1__max_depth=3, classifier1__n_estimators=300, classifier1__subsample=0.9;, score=0.934 total time=   3.2s\n",
      "[CV 2/4] END classifier1__colsample_bytree=0.5, classifier1__learning_rate=0.05, classifier1__max_depth=9, classifier1__n_estimators=300, classifier1__subsample=0.8;, score=0.952 total time=   6.0s\n",
      "[CV 2/4] END classifier1__colsample_bytree=0.8, classifier1__learning_rate=0.05, classifier1__max_depth=3, classifier1__n_estimators=200, classifier1__subsample=1.0;, score=0.944 total time=   2.7s\n",
      "[CV 1/4] END classifier1__colsample_bytree=0.8, classifier1__learning_rate=0.01, classifier1__max_depth=6, classifier1__n_estimators=100, classifier1__subsample=1.0;, score=0.937 total time=   1.6s\n",
      "[CV 1/4] END classifier1__colsample_bytree=0.6, classifier1__learning_rate=0.2, classifier1__max_depth=3, classifier1__n_estimators=100, classifier1__subsample=1.0;, score=0.948 total time=   1.2s\n",
      "[CV 1/4] END classifier1__colsample_bytree=0.5, classifier1__learning_rate=0.1, classifier1__max_depth=10, classifier1__n_estimators=100, classifier1__subsample=1.0;, score=0.949 total time=   2.5s\n",
      "[CV 1/4] END classifier1__colsample_bytree=0.8, classifier1__learning_rate=0.01, classifier1__max_depth=9, classifier1__n_estimators=300, classifier1__subsample=0.9;, score=0.949 total time=   6.9s\n",
      "[CV 1/4] END classifier1__colsample_bytree=0.6, classifier1__learning_rate=0.1, classifier1__max_depth=10, classifier1__n_estimators=200, classifier1__subsample=0.8;, score=0.949 total time=   4.6s\n",
      "[CV 1/4] END classifier1__colsample_bytree=0.5, classifier1__learning_rate=0.05, classifier1__max_depth=3, classifier1__n_estimators=50, classifier1__subsample=1.0;, score=0.937 total time=   0.8s\n",
      "[CV 1/4] END classifier1__colsample_bytree=0.6, classifier1__learning_rate=0.1, classifier1__max_depth=3, classifier1__n_estimators=50, classifier1__subsample=0.8;, score=0.940 total time=   0.8s\n",
      "[CV 1/4] END classifier1__colsample_bytree=1.0, classifier1__learning_rate=0.5, classifier1__max_depth=6, classifier1__n_estimators=200, classifier1__subsample=0.5;, score=0.938 total time=   3.4s\n",
      "[CV 1/4] END classifier1__colsample_bytree=0.5, classifier1__learning_rate=0.5, classifier1__max_depth=10, classifier1__n_estimators=300, classifier1__subsample=0.9;, score=0.942 total time=   6.6s\n",
      "[CV 1/4] END classifier1__colsample_bytree=0.6, classifier1__learning_rate=0.01, classifier1__max_depth=10, classifier1__n_estimators=50, classifier1__subsample=0.5;, score=0.860 total time=   1.4s\n",
      "[CV 1/4] END classifier1__colsample_bytree=0.6, classifier1__learning_rate=0.2, classifier1__max_depth=10, classifier1__n_estimators=50, classifier1__subsample=0.8;, score=0.949 total time=   1.5s\n",
      "[CV 1/4] END classifier1__colsample_bytree=0.5, classifier1__learning_rate=0.2, classifier1__max_depth=6, classifier1__n_estimators=200, classifier1__subsample=0.8;, score=0.949 total time=   3.5s\n",
      "[CV 2/4] END classifier1__colsample_bytree=1.0, classifier1__learning_rate=0.01, classifier1__max_depth=6, classifier1__n_estimators=300, classifier1__subsample=0.5;, score=0.949 total time=   4.7s\n",
      "[CV 2/4] END classifier1__colsample_bytree=0.8, classifier1__learning_rate=0.05, classifier1__max_depth=10, classifier1__n_estimators=200, classifier1__subsample=1.0;, score=0.952 total time=   4.3s\n",
      "[CV 1/4] END classifier1__colsample_bytree=0.5, classifier1__learning_rate=0.1, classifier1__max_depth=10, classifier1__n_estimators=200, classifier1__subsample=1.0;, score=0.949 total time=   4.2s\n"
     ]
    }
   ],
   "source": [
    "new_xgb = randm_cv.fit(x_train,y_train)"
   ]
  },
  {
   "cell_type": "code",
   "execution_count": 30,
   "id": "3e894a91",
   "metadata": {
    "execution": {
     "iopub.execute_input": "2024-10-28T13:13:17.231171Z",
     "iopub.status.busy": "2024-10-28T13:13:17.230765Z",
     "iopub.status.idle": "2024-10-28T13:13:17.576441Z",
     "shell.execute_reply": "2024-10-28T13:13:17.575186Z"
    },
    "papermill": {
     "duration": 0.361291,
     "end_time": "2024-10-28T13:13:17.578898",
     "exception": false,
     "start_time": "2024-10-28T13:13:17.217607",
     "status": "completed"
    },
    "tags": []
   },
   "outputs": [
    {
     "data": {
      "text/plain": [
       "96.87782419643618"
      ]
     },
     "execution_count": 30,
     "metadata": {},
     "output_type": "execute_result"
    }
   ],
   "source": [
    "x_out4= new_xgb.predict(x_train)\n",
    "accuracy_score(y_train,x_out4)*100"
   ]
  },
  {
   "cell_type": "code",
   "execution_count": 31,
   "id": "65e86e93",
   "metadata": {
    "execution": {
     "iopub.execute_input": "2024-10-28T13:13:17.605372Z",
     "iopub.status.busy": "2024-10-28T13:13:17.604980Z",
     "iopub.status.idle": "2024-10-28T13:13:31.259518Z",
     "shell.execute_reply": "2024-10-28T13:13:31.258292Z"
    },
    "papermill": {
     "duration": 13.670796,
     "end_time": "2024-10-28T13:13:31.262420",
     "exception": false,
     "start_time": "2024-10-28T13:13:17.591624",
     "status": "completed"
    },
    "tags": []
   },
   "outputs": [],
   "source": [
    "import tensorflow as tf\n",
    "from tensorflow.keras import Sequential\n",
    "from tensorflow.keras.losses import BinaryCrossentropy\n",
    "from tensorflow.keras.layers import Dense"
   ]
  },
  {
   "cell_type": "code",
   "execution_count": 32,
   "id": "2833b785",
   "metadata": {
    "execution": {
     "iopub.execute_input": "2024-10-28T13:13:31.288104Z",
     "iopub.status.busy": "2024-10-28T13:13:31.287131Z",
     "iopub.status.idle": "2024-10-28T13:13:31.395167Z",
     "shell.execute_reply": "2024-10-28T13:13:31.393965Z"
    },
    "papermill": {
     "duration": 0.124075,
     "end_time": "2024-10-28T13:13:31.398245",
     "exception": false,
     "start_time": "2024-10-28T13:13:31.274170",
     "status": "completed"
    },
    "tags": []
   },
   "outputs": [],
   "source": [
    "x_train_transform = pipe5.fit_transform(x_train)"
   ]
  },
  {
   "cell_type": "code",
   "execution_count": 33,
   "id": "a86b74fb",
   "metadata": {
    "execution": {
     "iopub.execute_input": "2024-10-28T13:13:31.423224Z",
     "iopub.status.busy": "2024-10-28T13:13:31.422830Z",
     "iopub.status.idle": "2024-10-28T13:14:47.885891Z",
     "shell.execute_reply": "2024-10-28T13:14:47.884523Z"
    },
    "papermill": {
     "duration": 76.478533,
     "end_time": "2024-10-28T13:14:47.888450",
     "exception": false,
     "start_time": "2024-10-28T13:13:31.409917",
     "status": "completed"
    },
    "tags": []
   },
   "outputs": [
    {
     "name": "stdout",
     "output_type": "stream",
     "text": [
      "Epoch 1/25\n",
      "\u001b[1m1833/1833\u001b[0m \u001b[32m━━━━━━━━━━━━━━━━━━━━\u001b[0m\u001b[37m\u001b[0m \u001b[1m5s\u001b[0m 2ms/step - accuracy: 0.8771 - loss: 0.3258\n",
      "Epoch 2/25\n",
      "\u001b[1m1833/1833\u001b[0m \u001b[32m━━━━━━━━━━━━━━━━━━━━\u001b[0m\u001b[37m\u001b[0m \u001b[1m3s\u001b[0m 2ms/step - accuracy: 0.9082 - loss: 0.2497\n",
      "Epoch 3/25\n",
      "\u001b[1m1833/1833\u001b[0m \u001b[32m━━━━━━━━━━━━━━━━━━━━\u001b[0m\u001b[37m\u001b[0m \u001b[1m3s\u001b[0m 2ms/step - accuracy: 0.9117 - loss: 0.2453\n",
      "Epoch 4/25\n",
      "\u001b[1m1833/1833\u001b[0m \u001b[32m━━━━━━━━━━━━━━━━━━━━\u001b[0m\u001b[37m\u001b[0m \u001b[1m3s\u001b[0m 2ms/step - accuracy: 0.9176 - loss: 0.2312\n",
      "Epoch 5/25\n",
      "\u001b[1m1833/1833\u001b[0m \u001b[32m━━━━━━━━━━━━━━━━━━━━\u001b[0m\u001b[37m\u001b[0m \u001b[1m3s\u001b[0m 2ms/step - accuracy: 0.9261 - loss: 0.2177\n",
      "Epoch 6/25\n",
      "\u001b[1m1833/1833\u001b[0m \u001b[32m━━━━━━━━━━━━━━━━━━━━\u001b[0m\u001b[37m\u001b[0m \u001b[1m3s\u001b[0m 2ms/step - accuracy: 0.9289 - loss: 0.2073\n",
      "Epoch 7/25\n",
      "\u001b[1m1833/1833\u001b[0m \u001b[32m━━━━━━━━━━━━━━━━━━━━\u001b[0m\u001b[37m\u001b[0m \u001b[1m3s\u001b[0m 2ms/step - accuracy: 0.9309 - loss: 0.2076\n",
      "Epoch 8/25\n",
      "\u001b[1m1833/1833\u001b[0m \u001b[32m━━━━━━━━━━━━━━━━━━━━\u001b[0m\u001b[37m\u001b[0m \u001b[1m3s\u001b[0m 2ms/step - accuracy: 0.9300 - loss: 0.2096\n",
      "Epoch 9/25\n",
      "\u001b[1m1833/1833\u001b[0m \u001b[32m━━━━━━━━━━━━━━━━━━━━\u001b[0m\u001b[37m\u001b[0m \u001b[1m3s\u001b[0m 2ms/step - accuracy: 0.9333 - loss: 0.2046\n",
      "Epoch 10/25\n",
      "\u001b[1m1833/1833\u001b[0m \u001b[32m━━━━━━━━━━━━━━━━━━━━\u001b[0m\u001b[37m\u001b[0m \u001b[1m3s\u001b[0m 2ms/step - accuracy: 0.9342 - loss: 0.2048\n",
      "Epoch 11/25\n",
      "\u001b[1m1833/1833\u001b[0m \u001b[32m━━━━━━━━━━━━━━━━━━━━\u001b[0m\u001b[37m\u001b[0m \u001b[1m3s\u001b[0m 2ms/step - accuracy: 0.9351 - loss: 0.1979\n",
      "Epoch 12/25\n",
      "\u001b[1m1833/1833\u001b[0m \u001b[32m━━━━━━━━━━━━━━━━━━━━\u001b[0m\u001b[37m\u001b[0m \u001b[1m3s\u001b[0m 2ms/step - accuracy: 0.9362 - loss: 0.1973\n",
      "Epoch 13/25\n",
      "\u001b[1m1833/1833\u001b[0m \u001b[32m━━━━━━━━━━━━━━━━━━━━\u001b[0m\u001b[37m\u001b[0m \u001b[1m3s\u001b[0m 2ms/step - accuracy: 0.9355 - loss: 0.1955\n",
      "Epoch 14/25\n",
      "\u001b[1m1833/1833\u001b[0m \u001b[32m━━━━━━━━━━━━━━━━━━━━\u001b[0m\u001b[37m\u001b[0m \u001b[1m3s\u001b[0m 2ms/step - accuracy: 0.9388 - loss: 0.1935\n",
      "Epoch 15/25\n",
      "\u001b[1m1833/1833\u001b[0m \u001b[32m━━━━━━━━━━━━━━━━━━━━\u001b[0m\u001b[37m\u001b[0m \u001b[1m3s\u001b[0m 2ms/step - accuracy: 0.9368 - loss: 0.1956\n",
      "Epoch 16/25\n",
      "\u001b[1m1833/1833\u001b[0m \u001b[32m━━━━━━━━━━━━━━━━━━━━\u001b[0m\u001b[37m\u001b[0m \u001b[1m3s\u001b[0m 2ms/step - accuracy: 0.9375 - loss: 0.1950\n",
      "Epoch 17/25\n",
      "\u001b[1m1833/1833\u001b[0m \u001b[32m━━━━━━━━━━━━━━━━━━━━\u001b[0m\u001b[37m\u001b[0m \u001b[1m3s\u001b[0m 2ms/step - accuracy: 0.9364 - loss: 0.1965\n",
      "Epoch 18/25\n",
      "\u001b[1m1833/1833\u001b[0m \u001b[32m━━━━━━━━━━━━━━━━━━━━\u001b[0m\u001b[37m\u001b[0m \u001b[1m3s\u001b[0m 2ms/step - accuracy: 0.9399 - loss: 0.1863\n",
      "Epoch 19/25\n",
      "\u001b[1m1833/1833\u001b[0m \u001b[32m━━━━━━━━━━━━━━━━━━━━\u001b[0m\u001b[37m\u001b[0m \u001b[1m3s\u001b[0m 2ms/step - accuracy: 0.9388 - loss: 0.1895\n",
      "Epoch 20/25\n",
      "\u001b[1m1833/1833\u001b[0m \u001b[32m━━━━━━━━━━━━━━━━━━━━\u001b[0m\u001b[37m\u001b[0m \u001b[1m3s\u001b[0m 2ms/step - accuracy: 0.9378 - loss: 0.1951\n",
      "Epoch 21/25\n",
      "\u001b[1m1833/1833\u001b[0m \u001b[32m━━━━━━━━━━━━━━━━━━━━\u001b[0m\u001b[37m\u001b[0m \u001b[1m3s\u001b[0m 2ms/step - accuracy: 0.9384 - loss: 0.1923\n",
      "Epoch 22/25\n",
      "\u001b[1m1833/1833\u001b[0m \u001b[32m━━━━━━━━━━━━━━━━━━━━\u001b[0m\u001b[37m\u001b[0m \u001b[1m3s\u001b[0m 2ms/step - accuracy: 0.9396 - loss: 0.1876\n",
      "Epoch 23/25\n",
      "\u001b[1m1833/1833\u001b[0m \u001b[32m━━━━━━━━━━━━━━━━━━━━\u001b[0m\u001b[37m\u001b[0m \u001b[1m3s\u001b[0m 2ms/step - accuracy: 0.9397 - loss: 0.1873\n",
      "Epoch 24/25\n",
      "\u001b[1m1833/1833\u001b[0m \u001b[32m━━━━━━━━━━━━━━━━━━━━\u001b[0m\u001b[37m\u001b[0m \u001b[1m3s\u001b[0m 2ms/step - accuracy: 0.9392 - loss: 0.1908\n",
      "Epoch 25/25\n",
      "\u001b[1m1833/1833\u001b[0m \u001b[32m━━━━━━━━━━━━━━━━━━━━\u001b[0m\u001b[37m\u001b[0m \u001b[1m3s\u001b[0m 2ms/step - accuracy: 0.9415 - loss: 0.1838\n"
     ]
    },
    {
     "data": {
      "text/plain": [
       "<keras.src.callbacks.history.History at 0x7cdce0aefa60>"
      ]
     },
     "execution_count": 33,
     "metadata": {},
     "output_type": "execute_result"
    }
   ],
   "source": [
    "model = Sequential([\n",
    "    Dense(units=20, activation='relu'),\n",
    "    Dense(units=10, activation='relu'),\n",
    "    Dense(units=5, activation='relu'),\n",
    "    Dense(units=1, activation='sigmoid')    \n",
    "])\n",
    "model.compile(loss=BinaryCrossentropy(),optimizer='adam',metrics=['accuracy'])\n",
    "             \n",
    "model.fit(x_train_transform,y_train,epochs=25)"
   ]
  },
  {
   "cell_type": "code",
   "execution_count": 34,
   "id": "b373fdf7",
   "metadata": {
    "execution": {
     "iopub.execute_input": "2024-10-28T13:14:48.110777Z",
     "iopub.status.busy": "2024-10-28T13:14:48.110317Z",
     "iopub.status.idle": "2024-10-28T13:14:51.198290Z",
     "shell.execute_reply": "2024-10-28T13:14:51.197235Z"
    },
    "papermill": {
     "duration": 3.201952,
     "end_time": "2024-10-28T13:14:51.200897",
     "exception": false,
     "start_time": "2024-10-28T13:14:47.998945",
     "status": "completed"
    },
    "tags": []
   },
   "outputs": [
    {
     "name": "stdout",
     "output_type": "stream",
     "text": [
      "\u001b[1m1833/1833\u001b[0m \u001b[32m━━━━━━━━━━━━━━━━━━━━\u001b[0m\u001b[37m\u001b[0m \u001b[1m2s\u001b[0m 1ms/step\n"
     ]
    }
   ],
   "source": [
    "y_train_transform = model.predict(x_train_transform)\n",
    "threshold=0.4\n",
    "new_y_train_transform = [1 if x>threshold else 0 for x in y_train_transform]"
   ]
  },
  {
   "cell_type": "code",
   "execution_count": 35,
   "id": "b1a7404d",
   "metadata": {
    "execution": {
     "iopub.execute_input": "2024-10-28T13:14:51.490010Z",
     "iopub.status.busy": "2024-10-28T13:14:51.489602Z",
     "iopub.status.idle": "2024-10-28T13:14:51.513887Z",
     "shell.execute_reply": "2024-10-28T13:14:51.512614Z"
    },
    "papermill": {
     "duration": 0.141306,
     "end_time": "2024-10-28T13:14:51.516453",
     "exception": false,
     "start_time": "2024-10-28T13:14:51.375147",
     "status": "completed"
    },
    "tags": []
   },
   "outputs": [
    {
     "data": {
      "text/plain": [
       "93.92957626396112"
      ]
     },
     "execution_count": 35,
     "metadata": {},
     "output_type": "execute_result"
    }
   ],
   "source": [
    "accuracy_score(y_train,new_y_train_transform)*100"
   ]
  },
  {
   "cell_type": "code",
   "execution_count": 36,
   "id": "3922fde7",
   "metadata": {
    "execution": {
     "iopub.execute_input": "2024-10-28T13:14:51.741795Z",
     "iopub.status.busy": "2024-10-28T13:14:51.741384Z",
     "iopub.status.idle": "2024-10-28T13:14:52.047619Z",
     "shell.execute_reply": "2024-10-28T13:14:52.046492Z"
    },
    "papermill": {
     "duration": 0.421444,
     "end_time": "2024-10-28T13:14:52.050251",
     "exception": false,
     "start_time": "2024-10-28T13:14:51.628807",
     "status": "completed"
    },
    "tags": []
   },
   "outputs": [],
   "source": [
    "y_out = randm_cv.predict_proba(test.drop(columns=['id']))[:,1]\n",
    "y_out = pd.DataFrame(y_out,columns=['loan_status'])\n",
    "y_out['id'] = test['id']\n",
    "submission = y_out[['id','loan_status']] \n",
    "submission.set_index('id',inplace=True)\n",
    "submission.to_csv('submission_xgb.csv')"
   ]
  },
  {
   "cell_type": "code",
   "execution_count": null,
   "id": "2adf9d80",
   "metadata": {
    "papermill": {
     "duration": 0.111547,
     "end_time": "2024-10-28T13:14:52.273452",
     "exception": false,
     "start_time": "2024-10-28T13:14:52.161905",
     "status": "completed"
    },
    "tags": []
   },
   "outputs": [],
   "source": []
  },
  {
   "cell_type": "code",
   "execution_count": null,
   "id": "d7d11cc2",
   "metadata": {
    "papermill": {
     "duration": 0.113619,
     "end_time": "2024-10-28T13:14:52.499402",
     "exception": false,
     "start_time": "2024-10-28T13:14:52.385783",
     "status": "completed"
    },
    "tags": []
   },
   "outputs": [],
   "source": []
  }
 ],
 "metadata": {
  "kaggle": {
   "accelerator": "none",
   "dataSources": [
    {
     "databundleVersionId": 9709193,
     "sourceId": 84894,
     "sourceType": "competition"
    }
   ],
   "dockerImageVersionId": 30786,
   "isGpuEnabled": false,
   "isInternetEnabled": false,
   "language": "python",
   "sourceType": "notebook"
  },
  "kernelspec": {
   "display_name": "Python 3",
   "language": "python",
   "name": "python3"
  },
  "language_info": {
   "codemirror_mode": {
    "name": "ipython",
    "version": 3
   },
   "file_extension": ".py",
   "mimetype": "text/x-python",
   "name": "python",
   "nbconvert_exporter": "python",
   "pygments_lexer": "ipython3",
   "version": "3.10.14"
  },
  "papermill": {
   "default_parameters": {},
   "duration": 299.9723,
   "end_time": "2024-10-28T13:14:55.234871",
   "environment_variables": {},
   "exception": null,
   "input_path": "__notebook__.ipynb",
   "output_path": "__notebook__.ipynb",
   "parameters": {},
   "start_time": "2024-10-28T13:09:55.262571",
   "version": "2.6.0"
  }
 },
 "nbformat": 4,
 "nbformat_minor": 5
}
